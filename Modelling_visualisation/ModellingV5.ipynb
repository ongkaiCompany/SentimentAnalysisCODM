{
 "cells": [
  {
   "cell_type": "markdown",
   "id": "72d98015-2345-4ad1-a3a4-5666bead4278",
   "metadata": {},
   "source": [
    "<h2>1. Modelling and Comparison of Model Performance Based on Volume of Data</h2>"
   ]
  },
  {
   "cell_type": "code",
   "execution_count": 1,
   "id": "c0b0b104-6cc3-4baf-95f9-7caa798cfcb9",
   "metadata": {},
   "outputs": [
    {
     "name": "stderr",
     "output_type": "stream",
     "text": [
      "24/04/27 05:03:32 WARN Utils: Your hostname, jupy-06 resolves to a loopback address: 127.0.1.1; using 10.123.51.206 instead (on interface ens18)\n",
      "24/04/27 05:03:32 WARN Utils: Set SPARK_LOCAL_IP if you need to bind to another address\n",
      "Setting default log level to \"WARN\".\n",
      "To adjust logging level use sc.setLogLevel(newLevel). For SparkR, use setLogLevel(newLevel).\n",
      "24/04/27 05:03:32 WARN NativeCodeLoader: Unable to load native-hadoop library for your platform... using builtin-java classes where applicable\n",
      "24/04/27 05:03:33 WARN Utils: Service 'SparkUI' could not bind on port 4040. Attempting port 4041.\n"
     ]
    }
   ],
   "source": [
    "#Neo4j\n",
    "#Extract data from Neo4j to pyspark dataframe for modelling\n",
    "#Hive DB\n",
    "import findspark\n",
    "findspark.init()\n",
    "from pyspark.sql import SparkSession\n",
    "from pyspark.conf import SparkConf\n",
    "from neo4j import GraphDatabase\n",
    "\n",
    "# Create a SparkSession\n",
    "spark = SparkSession.builder \\\n",
    "    .appName(\"Modeling\") \\\n",
    "    .config('spark.sql.warehouse.dir', 'hdfs:/user/hive/warehouse/')\\\n",
    "    .config(\"spark.sql.catalogImplementation\", \"hive\")\\\n",
    "    .enableHiveSupport()\\\n",
    "    .getOrCreate()\n",
    "\n",
    "# Define a function to read data from Neo4j into a PySpark DataFrame\n",
    "    # Establish connection to Neo4j\n",
    "graph = GraphDatabase.driver(uri=\"neo4j+s://46bd93aa.databases.neo4j.io\", auth=(\"neo4j\", \"M2REJH20Eeod7AZ7n_lLZR4UjWLVacefdrvOE4vapKA\"))\n",
    "session = graph.session()\n",
    "\n",
    "    # Define Cypher query to retrieve data\n",
    "cypher_query = \"MATCH (c:Combined) RETURN c.comment AS Comment, c.sentimentScore AS SentimentScore, c.sentiment AS Sentiment\"\n",
    "\n",
    "    # Execute Cypher query and retrieve results\n",
    "result = session.run(cypher_query)\n",
    "\n",
    "    # Store the results in a list of dictionaries\n",
    "data = [{\"Comment\": record[\"Comment\"], \"SentimentScore\": record[\"SentimentScore\"], \"Sentiment\": record[\"Sentiment\"]} for record in result]\n",
    "\n",
    "    # Close the session\n",
    "session.close()"
   ]
  },
  {
   "cell_type": "code",
   "execution_count": 2,
   "id": "abc5f3f9-771f-467a-ad8c-a46af7de8514",
   "metadata": {},
   "outputs": [
    {
     "name": "stderr",
     "output_type": "stream",
     "text": [
      "24/04/27 05:03:39 WARN DomainSocketFactory: The short-circuit local reads feature cannot be used because libhadoop cannot be loaded.\n",
      "                                                                                \r"
     ]
    },
    {
     "name": "stdout",
     "output_type": "stream",
     "text": [
      "+--------------------+---------+--------------+\n",
      "|             Comment|Sentiment|SentimentScore|\n",
      "+--------------------+---------+--------------+\n",
      "|its not at all p ...| Negative|        -0.296|\n",
      "|there is no way t...| Positive|        0.1071|\n",
      "|codm isnt p w  ca...|  Neutral|           0.0|\n",
      "|i don t think  th...| Positive|        0.9857|\n",
      "|it s not really a...| Positive|        0.5848|\n",
      "|which bp vault gu...| Positive|        0.0258|\n",
      "|it s expressing h...| Negative|       -0.0772|\n",
      "|the vast majority...| Positive|        0.7964|\n",
      "|half true  it exi...| Positive|        0.6908|\n",
      "|thanks for the tl...| Positive|        0.4749|\n",
      "|   you had  one  job|  Neutral|           0.0|\n",
      "|i m surprised you...| Positive|        0.8963|\n",
      "|the grau does  th...| Positive|        0.9485|\n",
      "|obviously  if the...| Negative|       -0.4019|\n",
      "|    pretty much yeah| Positive|        0.6597|\n",
      "|i really  really ...| Negative|       -0.7963|\n",
      "|which is the same...| Positive|        0.9022|\n",
      "|                most|  Neutral|           0.0|\n",
      "|rarely ever a fac...| Positive|        0.5574|\n",
      "|the vast amount o...| Positive|          0.34|\n",
      "+--------------------+---------+--------------+\n",
      "only showing top 20 rows\n",
      "\n",
      "Total count of data: 6041\n"
     ]
    }
   ],
   "source": [
    "neo4j_df = spark.createDataFrame(data)\n",
    "\n",
    "# Show the DataFrame\n",
    "neo4j_df.show()\n",
    "\n",
    "total_count = neo4j_df.count()\n",
    "print(\"Total count of data:\", total_count)"
   ]
  },
  {
   "cell_type": "code",
   "execution_count": 3,
   "id": "4bb29ae7-48df-42ed-acb1-026d93e02334",
   "metadata": {},
   "outputs": [
    {
     "name": "stdout",
     "output_type": "stream",
     "text": [
      "+--------------------+---------+--------------+\n",
      "|             Comment|Sentiment|SentimentScore|\n",
      "+--------------------+---------+--------------+\n",
      "|its not at all p ...| Negative|        -0.296|\n",
      "|there is no way t...| Positive|        0.1071|\n",
      "|codm isnt p w  ca...|  Neutral|           0.0|\n",
      "|i don t think  th...| Positive|        0.9857|\n",
      "|it s not really a...| Positive|        0.5848|\n",
      "|which bp vault gu...| Positive|        0.0258|\n",
      "|it s expressing h...| Negative|       -0.0772|\n",
      "|the vast majority...| Positive|        0.7964|\n",
      "|half true  it exi...| Positive|        0.6908|\n",
      "|thanks for the tl...| Positive|        0.4749|\n",
      "|   you had  one  job|  Neutral|           0.0|\n",
      "|i m surprised you...| Positive|        0.8963|\n",
      "|the grau does  th...| Positive|        0.9485|\n",
      "|obviously  if the...| Negative|       -0.4019|\n",
      "|    pretty much yeah| Positive|        0.6597|\n",
      "|i really  really ...| Negative|       -0.7963|\n",
      "|which is the same...| Positive|        0.9022|\n",
      "|                most|  Neutral|           0.0|\n",
      "|rarely ever a fac...| Positive|        0.5574|\n",
      "|the vast amount o...| Positive|          0.34|\n",
      "+--------------------+---------+--------------+\n",
      "only showing top 20 rows\n",
      "\n"
     ]
    }
   ],
   "source": [
    "#df for modeling\n",
    "df_modeling = neo4j_df\n",
    "df_modeling.show()"
   ]
  },
  {
   "cell_type": "code",
   "execution_count": 4,
   "id": "b962337d-163b-4531-b535-75c3b4888d3b",
   "metadata": {},
   "outputs": [
    {
     "data": {
      "text/plain": [
       "54"
      ]
     },
     "execution_count": 4,
     "metadata": {},
     "output_type": "execute_result"
    }
   ],
   "source": [
    "from pyspark.sql.functions import col\n",
    "df_modeling.filter(col('Comment') == 'None').count()"
   ]
  },
  {
   "cell_type": "code",
   "execution_count": 5,
   "id": "7537c277-b779-4fe8-96a8-dde73965b421",
   "metadata": {},
   "outputs": [],
   "source": [
    "df_modeling = df_modeling.filter(col('Comment') != 'None')"
   ]
  },
  {
   "cell_type": "code",
   "execution_count": 6,
   "id": "a8d24436-261e-47ec-8d37-ad3efb859794",
   "metadata": {},
   "outputs": [
    {
     "name": "stdout",
     "output_type": "stream",
     "text": [
      "No of records: 5987\n"
     ]
    }
   ],
   "source": [
    "print(\"No of records:\", df_modeling.count())"
   ]
  },
  {
   "cell_type": "markdown",
   "id": "ccb85fb7-1353-479e-8dd2-5230ab7d4639",
   "metadata": {},
   "source": [
    "<h3>1.1 EXPERIMENT 1 (80% of data used for training)</h3>"
   ]
  },
  {
   "cell_type": "code",
   "execution_count": 7,
   "id": "20a43ec9-c15d-4879-90f9-60fee8c34870",
   "metadata": {},
   "outputs": [
    {
     "name": "stdout",
     "output_type": "stream",
     "text": [
      "root\n",
      " |-- Comment: string (nullable = true)\n",
      " |-- Sentiment: string (nullable = true)\n",
      " |-- SentimentScore: double (nullable = true)\n",
      "\n",
      "root\n",
      " |-- Comment: string (nullable = true)\n",
      " |-- Sentiment: string (nullable = true)\n",
      " |-- SentimentScore: double (nullable = true)\n",
      "\n"
     ]
    }
   ],
   "source": [
    "#random split data\n",
    "train_data, test_data = df_modeling.randomSplit([0.8, 0.2], seed=1234)  # 80% training, 20% testing\n",
    "train_data.printSchema()\n",
    "test_data.printSchema()"
   ]
  },
  {
   "cell_type": "code",
   "execution_count": 8,
   "id": "520f3847-b293-4b4d-ae8e-f12a39e185dd",
   "metadata": {},
   "outputs": [
    {
     "name": "stdout",
     "output_type": "stream",
     "text": [
      "+--------------+\n",
      "|     namespace|\n",
      "+--------------+\n",
      "|       default|\n",
      "|  g31_sales_db|\n",
      "|          hrdb|\n",
      "|       salesdb|\n",
      "|sentiment_data|\n",
      "+--------------+\n",
      "\n",
      "+--------------+--------------------+-----------+\n",
      "|     namespace|           tableName|isTemporary|\n",
      "+--------------+--------------------+-----------+\n",
      "|sentiment_data|   prediction_result|      false|\n",
      "|sentiment_data|prediction_result...|      false|\n",
      "|sentiment_data|      temp_csv_table|      false|\n",
      "|sentiment_data|           test_data|      false|\n",
      "|sentiment_data|          train_data|      false|\n",
      "|sentiment_data|      train_data_eva|      false|\n",
      "+--------------+--------------------+-----------+\n",
      "\n"
     ]
    },
    {
     "data": {
      "text/plain": [
       "'sentiment_data'"
      ]
     },
     "execution_count": 8,
     "metadata": {},
     "output_type": "execute_result"
    }
   ],
   "source": [
    "#Store to hive\n",
    "spark.sql(\"CREATE DATABASE IF NOT EXISTS sentiment_data\")\n",
    "spark.sql(\"SHOW DATABASES\").show()\n",
    "\n",
    "spark.sql('USE sentiment_data')\n",
    "tables = spark.sql(\"SHOW TABLES\").show()\n",
    "\n",
    "# Check current database\n",
    "spark.catalog.currentDatabase()"
   ]
  },
  {
   "cell_type": "code",
   "execution_count": 9,
   "id": "2a4426b7-5260-4735-80d2-2df2d05ee035",
   "metadata": {},
   "outputs": [
    {
     "name": "stderr",
     "output_type": "stream",
     "text": [
      "24/04/27 05:03:59 WARN ResolveSessionCatalog: A Hive serde table will be created as there is no table provider specified. You can set spark.sql.legacy.createHiveTableByDefault to false so that native data source table will be created instead.\n",
      "24/04/27 05:04:00 WARN SessionState: METASTORE_FILTER_HOOK will be ignored, since hive.security.authorization.manager is set to instance of HiveAuthorizerFactory.\n"
     ]
    },
    {
     "name": "stdout",
     "output_type": "stream",
     "text": [
      "+--------------+--------------------+-----------+\n",
      "|     namespace|           tableName|isTemporary|\n",
      "+--------------+--------------------+-----------+\n",
      "|sentiment_data|prediction_result...|      false|\n",
      "|sentiment_data|      temp_csv_table|      false|\n",
      "|sentiment_data|           test_data|      false|\n",
      "|sentiment_data|          train_data|      false|\n",
      "|sentiment_data|      train_data_eva|      false|\n",
      "+--------------+--------------------+-----------+\n",
      "\n"
     ]
    },
    {
     "name": "stderr",
     "output_type": "stream",
     "text": [
      "24/04/27 05:04:00 WARN ResolveSessionCatalog: A Hive serde table will be created as there is no table provider specified. You can set spark.sql.legacy.createHiveTableByDefault to false so that native data source table will be created instead.\n"
     ]
    }
   ],
   "source": [
    "spark.sql(\"DROP TABLE IF EXISTS sentiment_data.train_data\")\n",
    "spark.sql(\"DROP TABLE IF EXISTS sentiment_data.test_data\")\n",
    "spark.sql(\"DROP TABLE IF EXISTS sentiment_data.prediction_result\")\n",
    "\n",
    "spark.sql(\"CREATE TABLE sentiment_data.train_data (Comment STRING, Sentiment STRING, SentimentScore DOUBLE)\")\n",
    "spark.sql(\"CREATE TABLE sentiment_data.test_data (Comment STRING, Sentiment STRING, SentimentScore DOUBLE)\")\n",
    "spark.sql(\"SHOW TABLES\").show()"
   ]
  },
  {
   "cell_type": "code",
   "execution_count": 10,
   "id": "eeda948b-53b4-40f8-8573-8b3d8811d2db",
   "metadata": {},
   "outputs": [
    {
     "name": "stdout",
     "output_type": "stream",
     "text": [
      "+--------------------+---------+--------------+\n",
      "|             Comment|Sentiment|SentimentScore|\n",
      "+--------------------+---------+--------------+\n",
      "|a gun with    met...| Negative|       -0.9137|\n",
      "|a lotjk but you l...| Positive|        0.4215|\n",
      "|a man of culture ...|  Neutral|           0.0|\n",
      "|     about damn time| Negative|       -0.4019|\n",
      "|about time we fin...| Positive|          0.34|\n",
      "|absolute legend  ...| Negative|       -0.3412|\n",
      "|abuse the perk so...| Negative|       -0.6369|\n",
      "|acog  or the amou...| Positive|        0.4939|\n",
      "|actually you ll b...| Positive|        0.4404|\n",
      "|after so long not...|  Neutral|           0.0|\n",
      "|agree  but someti...| Negative|       -0.4019|\n",
      "|agree  i for exam...| Negative|         -0.34|\n",
      "|agreed  some peop...| Positive|        0.5719|\n",
      "|          ah  thanks| Positive|        0.4404|\n",
      "|alcatraz  tait tr...|  Neutral|           0.0|\n",
      "|            alert op| Positive|         0.296|\n",
      "|all of your contr...| Positive|        0.1779|\n",
      "|almost seems to b...| Positive|        0.3214|\n",
      "|alr ill make sure...| Negative|        -0.128|\n",
      "|also   waiting fo...| Negative|       -0.5719|\n",
      "+--------------------+---------+--------------+\n",
      "only showing top 20 rows\n",
      "\n",
      "+--------------------+---------+--------------+\n",
      "|             Comment|Sentiment|SentimentScore|\n",
      "+--------------------+---------+--------------+\n",
      "|a gun with    met...| Negative|       -0.9062|\n",
      "|a ww  mythic with...| Negative|       -0.4767|\n",
      "|already a w  alth...|  Neutral|           0.0|\n",
      "|              always|  Neutral|           0.0|\n",
      "|am i the only one...| Positive|        0.7964|\n",
      "|american college ...|  Neutral|           0.0|\n",
      "|among ars i feel ...| Positive|        0.7783|\n",
      "|and we appreciate...| Positive|        0.4019|\n",
      "|appearently it s ...|  Neutral|           0.0|\n",
      "|are we ever getti...| Positive|        0.3182|\n",
      "|as a persistence ...| Positive|        0.5859|\n",
      "|as long as there ...| Positive|        0.5423|\n",
      "|as long as there ...|  Neutral|           0.0|\n",
      "|asks redditors fo...| Positive|        0.8481|\n",
      "|ay another loose ...| Negative|       -0.3182|\n",
      "|because i m a dum...| Negative|       -0.5574|\n",
      "|best record for l...| Positive|        0.8807|\n",
      "|better not  buttt...| Negative|       -0.5423|\n",
      "|   bot match invites| Positive|        0.1531|\n",
      "|bro is going to d...|  Neutral|           0.0|\n",
      "+--------------------+---------+--------------+\n",
      "only showing top 20 rows\n",
      "\n"
     ]
    }
   ],
   "source": [
    "train_df = train_data\n",
    "train_df.show()\n",
    "\n",
    "test_df = test_data\n",
    "test_df.show()"
   ]
  },
  {
   "cell_type": "code",
   "execution_count": 11,
   "id": "32556078-e067-4063-992b-fd73f781ed05",
   "metadata": {},
   "outputs": [
    {
     "name": "stdout",
     "output_type": "stream",
     "text": [
      "No of records in training dataset: 4811\n"
     ]
    }
   ],
   "source": [
    "print(\"No of records in training dataset:\", train_df.count())"
   ]
  },
  {
   "cell_type": "code",
   "execution_count": 12,
   "id": "cd6d58c5-7598-4674-896e-53b155b7c430",
   "metadata": {},
   "outputs": [
    {
     "name": "stdout",
     "output_type": "stream",
     "text": [
      "+--------------------+---------+--------------+\n",
      "|             Comment|Sentiment|SentimentScore|\n",
      "+--------------------+---------+--------------+\n",
      "|a gun with    met...| Negative|       -0.9137|\n",
      "|a lotjk but you l...| Positive|        0.4215|\n",
      "+--------------------+---------+--------------+\n",
      "only showing top 2 rows\n",
      "\n"
     ]
    }
   ],
   "source": [
    "train_df.show(2)"
   ]
  },
  {
   "cell_type": "code",
   "execution_count": 13,
   "id": "d8c3502d-2399-4ddb-bfa1-4b6b6b867732",
   "metadata": {},
   "outputs": [
    {
     "name": "stdout",
     "output_type": "stream",
     "text": [
      "No of records in testing dataset: 1176\n"
     ]
    }
   ],
   "source": [
    "print(\"No of records in testing dataset:\", test_df.count())"
   ]
  },
  {
   "cell_type": "code",
   "execution_count": 14,
   "id": "574f1260-09f8-4d0a-b79c-5569b6010c37",
   "metadata": {},
   "outputs": [
    {
     "name": "stdout",
     "output_type": "stream",
     "text": [
      "+--------------------+---------+--------------+\n",
      "|             Comment|Sentiment|SentimentScore|\n",
      "+--------------------+---------+--------------+\n",
      "|a gun with    met...| Negative|       -0.9137|\n",
      "|a lotjk but you l...| Positive|        0.4215|\n",
      "|a man of culture ...|  Neutral|           0.0|\n",
      "|     about damn time| Negative|       -0.4019|\n",
      "|about time we fin...| Positive|          0.34|\n",
      "|absolute legend  ...| Negative|       -0.3412|\n",
      "|abuse the perk so...| Negative|       -0.6369|\n",
      "|acog  or the amou...| Positive|        0.4939|\n",
      "|actually you ll b...| Positive|        0.4404|\n",
      "|after so long not...|  Neutral|           0.0|\n",
      "|agree  but someti...| Negative|       -0.4019|\n",
      "|agree  i for exam...| Negative|         -0.34|\n",
      "|agreed  some peop...| Positive|        0.5719|\n",
      "|          ah  thanks| Positive|        0.4404|\n",
      "|alcatraz  tait tr...|  Neutral|           0.0|\n",
      "|            alert op| Positive|         0.296|\n",
      "|all of your contr...| Positive|        0.1779|\n",
      "|almost seems to b...| Positive|        0.3214|\n",
      "|alr ill make sure...| Negative|        -0.128|\n",
      "|also   waiting fo...| Negative|       -0.5719|\n",
      "+--------------------+---------+--------------+\n",
      "only showing top 20 rows\n",
      "\n",
      "+--------------------+---------+--------------+\n",
      "|             Comment|Sentiment|SentimentScore|\n",
      "+--------------------+---------+--------------+\n",
      "|a gun with    met...| Negative|       -0.9062|\n",
      "|a ww  mythic with...| Negative|       -0.4767|\n",
      "|already a w  alth...|  Neutral|           0.0|\n",
      "|              always|  Neutral|           0.0|\n",
      "|am i the only one...| Positive|        0.7964|\n",
      "|american college ...|  Neutral|           0.0|\n",
      "|among ars i feel ...| Positive|        0.7783|\n",
      "|and we appreciate...| Positive|        0.4019|\n",
      "|appearently it s ...|  Neutral|           0.0|\n",
      "|are we ever getti...| Positive|        0.3182|\n",
      "|as a persistence ...| Positive|        0.5859|\n",
      "|as long as there ...| Positive|        0.5423|\n",
      "|as long as there ...|  Neutral|           0.0|\n",
      "|asks redditors fo...| Positive|        0.8481|\n",
      "|ay another loose ...| Negative|       -0.3182|\n",
      "|because i m a dum...| Negative|       -0.5574|\n",
      "|best record for l...| Positive|        0.8807|\n",
      "|better not  buttt...| Negative|       -0.5423|\n",
      "|   bot match invites| Positive|        0.1531|\n",
      "|bro is going to d...|  Neutral|           0.0|\n",
      "+--------------------+---------+--------------+\n",
      "only showing top 20 rows\n",
      "\n"
     ]
    }
   ],
   "source": [
    "train_df.createOrReplaceTempView(\"train_view\")\n",
    "test_df.createOrReplaceTempView(\"test_view\")\n",
    "spark.sql(\"SELECT * FROM train_view\").show()\n",
    "spark.sql(\"SELECT * FROM test_view\").show()"
   ]
  },
  {
   "cell_type": "code",
   "execution_count": 15,
   "id": "a5433493-6908-487d-8baa-f04a6a9a3882",
   "metadata": {},
   "outputs": [
    {
     "data": {
      "text/plain": [
       "DataFrame[]"
      ]
     },
     "execution_count": 15,
     "metadata": {},
     "output_type": "execute_result"
    }
   ],
   "source": [
    "spark.sql(\"INSERT INTO TABLE  sentiment_data.train_data  SELECT * FROM train_view\")\n",
    "spark.sql(\"INSERT INTO TABLE  sentiment_data.test_data  SELECT * FROM test_view\")"
   ]
  },
  {
   "cell_type": "code",
   "execution_count": 16,
   "id": "0c6f1c2c-ce24-4318-a508-d7efbb5581f8",
   "metadata": {},
   "outputs": [],
   "source": [
    "# View data from train_data, test_data table\n",
    "# spark.sql(\"SELECT * FROM sentiment_data.train_data\").show()\n",
    "# spark.sql(\"SELECT * FROM sentiment_data.test_data\").show()"
   ]
  },
  {
   "cell_type": "code",
   "execution_count": 17,
   "id": "db66dbf9-e43e-45a2-9a40-aa7dec92b160",
   "metadata": {},
   "outputs": [
    {
     "name": "stdout",
     "output_type": "stream",
     "text": [
      "+--------------------+---------+--------------+\n",
      "|             Comment|Sentiment|SentimentScore|\n",
      "+--------------------+---------+--------------+\n",
      "|a gun with    met...| Negative|       -0.9137|\n",
      "|a lotjk but you l...| Positive|        0.4215|\n",
      "|a man of culture ...|  Neutral|           0.0|\n",
      "|     about damn time| Negative|       -0.4019|\n",
      "|about time we fin...| Positive|          0.34|\n",
      "|absolute legend  ...| Negative|       -0.3412|\n",
      "|abuse the perk so...| Negative|       -0.6369|\n",
      "|acog  or the amou...| Positive|        0.4939|\n",
      "|actually you ll b...| Positive|        0.4404|\n",
      "|after so long not...|  Neutral|           0.0|\n",
      "|agree  but someti...| Negative|       -0.4019|\n",
      "|agree  i for exam...| Negative|         -0.34|\n",
      "|agreed  some peop...| Positive|        0.5719|\n",
      "|          ah  thanks| Positive|        0.4404|\n",
      "|alcatraz  tait tr...|  Neutral|           0.0|\n",
      "|            alert op| Positive|         0.296|\n",
      "|all of your contr...| Positive|        0.1779|\n",
      "|almost seems to b...| Positive|        0.3214|\n",
      "|alr ill make sure...| Negative|        -0.128|\n",
      "|also   waiting fo...| Negative|       -0.5719|\n",
      "+--------------------+---------+--------------+\n",
      "only showing top 20 rows\n",
      "\n",
      "+--------------------+---------+--------------+\n",
      "|             Comment|Sentiment|SentimentScore|\n",
      "+--------------------+---------+--------------+\n",
      "|a gun with    met...| Negative|       -0.9062|\n",
      "|a ww  mythic with...| Negative|       -0.4767|\n",
      "|already a w  alth...|  Neutral|           0.0|\n",
      "|              always|  Neutral|           0.0|\n",
      "|am i the only one...| Positive|        0.7964|\n",
      "|american college ...|  Neutral|           0.0|\n",
      "|among ars i feel ...| Positive|        0.7783|\n",
      "|and we appreciate...| Positive|        0.4019|\n",
      "|appearently it s ...|  Neutral|           0.0|\n",
      "|are we ever getti...| Positive|        0.3182|\n",
      "|as a persistence ...| Positive|        0.5859|\n",
      "|as long as there ...| Positive|        0.5423|\n",
      "|as long as there ...|  Neutral|           0.0|\n",
      "|asks redditors fo...| Positive|        0.8481|\n",
      "|ay another loose ...| Negative|       -0.3182|\n",
      "|because i m a dum...| Negative|       -0.5574|\n",
      "|best record for l...| Positive|        0.8807|\n",
      "|better not  buttt...| Negative|       -0.5423|\n",
      "|   bot match invites| Positive|        0.1531|\n",
      "|bro is going to d...|  Neutral|           0.0|\n",
      "+--------------------+---------+--------------+\n",
      "only showing top 20 rows\n",
      "\n"
     ]
    }
   ],
   "source": [
    "#craw data from hive and to modeling\n",
    "train_data = spark.sql(\"SELECT * FROM sentiment_data.train_data\")\n",
    "train_data.show()\n",
    "test_data = spark.sql(\"SELECT * FROM sentiment_data.test_data\")\n",
    "test_data.show()"
   ]
  },
  {
   "cell_type": "code",
   "execution_count": 18,
   "id": "97dea043-d8ea-4504-b979-a56f86c8f8ef",
   "metadata": {},
   "outputs": [],
   "source": [
    "#start modeling\n",
    "from pyspark.sql import SparkSession\n",
    "from pyspark.ml.feature import Tokenizer, HashingTF, IDF, StringIndexer\n",
    "from pyspark.ml.classification import LogisticRegression\n",
    "from pyspark.ml import Pipeline\n",
    "from pyspark.ml.evaluation import MulticlassClassificationEvaluator\n",
    "from pyspark.ml.tuning import ParamGridBuilder, CrossValidator"
   ]
  },
  {
   "cell_type": "code",
   "execution_count": 19,
   "id": "4f3f541f-b6e0-484d-828d-e3e6844b8866",
   "metadata": {},
   "outputs": [
    {
     "name": "stderr",
     "output_type": "stream",
     "text": [
      "                                                                                \r"
     ]
    }
   ],
   "source": [
    "# preprocess & retokenize - train data\n",
    "tokenizer = Tokenizer(inputCol=\"Comment\", outputCol=\"words\")\n",
    "words_data = tokenizer.transform(train_data)\n",
    "\n",
    "hashingTF = HashingTF(inputCol=\"words\", outputCol=\"rawFeatures\", numFeatures=10000)\n",
    "featurized_data = hashingTF.transform(words_data)\n",
    "\n",
    "idf = IDF(inputCol=\"rawFeatures\", outputCol=\"features\")\n",
    "idf_model = idf.fit(featurized_data)\n",
    "final_data = idf_model.transform(featurized_data)"
   ]
  },
  {
   "cell_type": "code",
   "execution_count": 20,
   "id": "95580a99-6dd3-436f-9eec-9b0848653f61",
   "metadata": {},
   "outputs": [
    {
     "name": "stdout",
     "output_type": "stream",
     "text": [
      "+--------------------+---------+--------------+--------------------+--------------------+--------------------+-----+\n",
      "|             Comment|Sentiment|SentimentScore|               words|         rawFeatures|            features|label|\n",
      "+--------------------+---------+--------------+--------------------+--------------------+--------------------+-----+\n",
      "|a gun with    met...| Negative|       -0.9137|[a, gun, with, , ...|(10000,[1481,1756...|(10000,[1481,1756...|  1.0|\n",
      "|a lotjk but you l...| Positive|        0.4215|[a, lotjk, but, y...|(10000,[346,488,6...|(10000,[346,488,6...|  0.0|\n",
      "|a man of culture ...|  Neutral|           0.0|[a, man, of, cult...|(10000,[1756,2569...|(10000,[1756,2569...|  2.0|\n",
      "|     about damn time| Negative|       -0.4019| [about, damn, time]|(10000,[3998,4956...|(10000,[3998,4956...|  1.0|\n",
      "|about time we fin...| Positive|          0.34|[about, time, we,...|(10000,[488,1588,...|(10000,[488,1588,...|  0.0|\n",
      "|absolute legend  ...| Negative|       -0.3412|[absolute, legend...|(10000,[454,488,7...|(10000,[454,488,7...|  1.0|\n",
      "|abuse the perk so...| Negative|       -0.6369|[abuse, the, perk...|(10000,[117,488,2...|(10000,[117,488,2...|  1.0|\n",
      "|acog  or the amou...| Positive|        0.4939|[acog, , or, the,...|(10000,[488,722,3...|(10000,[488,722,3...|  0.0|\n",
      "|actually you ll b...| Positive|        0.4404|[actually, you, l...|(10000,[488,1756,...|(10000,[488,1756,...|  0.0|\n",
      "|after so long not...|  Neutral|           0.0|[after, so, long,...|(10000,[307,1699,...|(10000,[307,1699,...|  2.0|\n",
      "|agree  but someti...| Negative|       -0.4019|[agree, , but, so...|(10000,[117,307,4...|(10000,[117,307,4...|  1.0|\n",
      "|agree  i for exam...| Negative|         -0.34|[agree, , i, for,...|(10000,[96,1756,2...|(10000,[96,1756,2...|  1.0|\n",
      "|agreed  some peop...| Positive|        0.5719|[agreed, , some, ...|(10000,[157,307,5...|(10000,[157,307,5...|  0.0|\n",
      "|          ah  thanks| Positive|        0.4404|      [ah, , thanks]|(10000,[3372,3958...|(10000,[3372,3958...|  0.0|\n",
      "|alcatraz  tait tr...|  Neutral|           0.0|[alcatraz, , tait...|(10000,[916,3372,...|(10000,[916,3372,...|  2.0|\n",
      "|            alert op| Positive|         0.296|         [alert, op]|(10000,[5349,7406...|(10000,[5349,7406...|  0.0|\n",
      "|all of your contr...| Positive|        0.1779|[all, of, your, c...|(10000,[960,1263,...|(10000,[960,1263,...|  0.0|\n",
      "|almost seems to b...| Positive|        0.3214|[almost, seems, t...|(10000,[48,307,48...|(10000,[48,307,48...|  0.0|\n",
      "|alr ill make sure...| Negative|        -0.128|[alr, ill, make, ...|(10000,[488,815,1...|(10000,[488,815,1...|  1.0|\n",
      "|also   waiting fo...| Negative|       -0.5719|[also, , , waitin...|(10000,[407,2522,...|(10000,[407,2522,...|  1.0|\n",
      "+--------------------+---------+--------------+--------------------+--------------------+--------------------+-----+\n",
      "only showing top 20 rows\n",
      "\n"
     ]
    }
   ],
   "source": [
    "#encode label column - train\n",
    "indexer = StringIndexer(inputCol=\"Sentiment\", outputCol=\"label\")\n",
    "final_train_data = indexer.fit(final_data).transform(final_data)\n",
    "final_train_data.show()"
   ]
  },
  {
   "cell_type": "code",
   "execution_count": 21,
   "id": "0ce92af4-a21f-4318-bf37-855ff6a2e6cf",
   "metadata": {},
   "outputs": [],
   "source": [
    "# preprocess & retokenize - test data\n",
    "tokenizer = Tokenizer(inputCol=\"Comment\", outputCol=\"words\")\n",
    "words_data = tokenizer.transform(test_data)\n",
    "\n",
    "hashingTF = HashingTF(inputCol=\"words\", outputCol=\"rawFeatures\", numFeatures=10000)\n",
    "featurized_data = hashingTF.transform(words_data)\n",
    "\n",
    "idf = IDF(inputCol=\"rawFeatures\", outputCol=\"features\")\n",
    "idf_model = idf.fit(featurized_data)\n",
    "final_data = idf_model.transform(featurized_data)"
   ]
  },
  {
   "cell_type": "code",
   "execution_count": 22,
   "id": "4a89db5b-ff63-4751-ab8d-7114d4648457",
   "metadata": {},
   "outputs": [
    {
     "name": "stdout",
     "output_type": "stream",
     "text": [
      "+--------------------+---------+--------------+--------------------+--------------------+--------------------+-----+\n",
      "|             Comment|Sentiment|SentimentScore|               words|         rawFeatures|            features|label|\n",
      "+--------------------+---------+--------------+--------------------+--------------------+--------------------+-----+\n",
      "|a gun with    met...| Negative|       -0.9062|[a, gun, with, , ...|(10000,[73,165,19...|(10000,[73,165,19...|  1.0|\n",
      "|a ww  mythic with...| Negative|       -0.4767|[a, ww, , mythic,...|(10000,[488,608,1...|(10000,[488,608,1...|  1.0|\n",
      "|already a w  alth...|  Neutral|           0.0|[already, a, w, ,...|(10000,[211,594,1...|(10000,[211,594,1...|  2.0|\n",
      "|              always|  Neutral|           0.0|            [always]|(10000,[9011],[1.0])|(10000,[9011],[2....|  2.0|\n",
      "|am i the only one...| Positive|        0.7964|[am, i, the, only...|(10000,[66,80,307...|(10000,[66,80,307...|  0.0|\n",
      "|american college ...|  Neutral|           0.0|[american, colleg...|(10000,[1383,2891...|(10000,[1383,2891...|  2.0|\n",
      "|among ars i feel ...| Positive|        0.7783|[among, ars, i, f...|(10000,[421,488,7...|(10000,[421,488,7...|  0.0|\n",
      "|and we appreciate...| Positive|        0.4019|[and, we, appreci...|(10000,[1588,2891...|(10000,[1588,2891...|  0.0|\n",
      "|appearently it s ...|  Neutral|           0.0|[appearently, it,...|(10000,[3003,3372...|(10000,[3003,3372...|  2.0|\n",
      "|are we ever getti...| Positive|        0.3182|[are, we, ever, g...|(10000,[78,763,15...|(10000,[78,763,15...|  0.0|\n",
      "|as a persistence ...| Positive|        0.5859|[as, a, persisten...|(10000,[690,1756,...|(10000,[690,1756,...|  0.0|\n",
      "|as long as there ...| Positive|        0.5423|[as, long, as, th...|(10000,[763,1070,...|(10000,[763,1070,...|  0.0|\n",
      "|as long as there ...|  Neutral|           0.0|[as, long, as, th...|(10000,[763,1420,...|(10000,[763,1420,...|  2.0|\n",
      "|asks redditors fo...| Positive|        0.8481|[asks, redditors,...|(10000,[73,357,55...|(10000,[73,357,55...|  0.0|\n",
      "|ay another loose ...| Negative|       -0.3182|[ay, another, loo...|(10000,[4417,4802...|(10000,[4417,4802...|  1.0|\n",
      "|because i m a dum...| Negative|       -0.5574|[because, i, m, a...|(10000,[431,1756,...|(10000,[431,1756,...|  1.0|\n",
      "|best record for l...| Positive|        0.8807|[best, record, fo...|(10000,[415,763,1...|(10000,[415,763,1...|  0.0|\n",
      "|better not  buttt...| Negative|       -0.5423|[better, not, , b...|(10000,[1233,1541...|(10000,[1233,1541...|  1.0|\n",
      "|   bot match invites| Positive|        0.1531|[bot, match, invi...|(10000,[1659,2221...|(10000,[1659,2221...|  0.0|\n",
      "|bro is going to d...|  Neutral|           0.0|[bro, is, going, ...|(10000,[488,815,1...|(10000,[488,815,1...|  2.0|\n",
      "+--------------------+---------+--------------+--------------------+--------------------+--------------------+-----+\n",
      "only showing top 20 rows\n",
      "\n"
     ]
    }
   ],
   "source": [
    "#encode label column - test\n",
    "indexer = StringIndexer(inputCol=\"Sentiment\", outputCol=\"label\")\n",
    "final_test_data = indexer.fit(final_data).transform(final_data)\n",
    "final_test_data.show()"
   ]
  },
  {
   "cell_type": "markdown",
   "id": "21bcf058-a023-4a49-9bdf-1ed3ef179baa",
   "metadata": {},
   "source": [
    "<h4>Logistic Regression:</h4>"
   ]
  },
  {
   "cell_type": "code",
   "execution_count": 23,
   "id": "fa295034-6f95-49fe-98cc-4905fd8a3bbe",
   "metadata": {},
   "outputs": [],
   "source": [
    "#define model\n",
    "lr = LogisticRegression(featuresCol=\"features\", labelCol=\"label\")"
   ]
  },
  {
   "cell_type": "code",
   "execution_count": 24,
   "id": "edeb3382-9d52-4018-ad55-3aa5be3595c7",
   "metadata": {},
   "outputs": [],
   "source": [
    "#create pipeline\n",
    "pipeline = Pipeline(stages=[lr])"
   ]
  },
  {
   "cell_type": "code",
   "execution_count": 25,
   "id": "00985aa0-5f7a-4ae0-a808-ea3b003258e1",
   "metadata": {},
   "outputs": [],
   "source": [
    "#Define parameter grid for hyperparameter tuning\n",
    "param_grid = ParamGridBuilder() \\\n",
    "    .addGrid(lr.regParam, [0.1, 0.01]) \\\n",
    "    .addGrid(lr.elasticNetParam, [0.0, 0.5, 1.0]) \\\n",
    "    .build()"
   ]
  },
  {
   "cell_type": "code",
   "execution_count": 26,
   "id": "a2f5dd19-7920-47b6-a7b7-4a2968110b6c",
   "metadata": {},
   "outputs": [],
   "source": [
    "#define evaluator\n",
    "evaluator = MulticlassClassificationEvaluator(labelCol=\"label\", predictionCol=\"prediction\", metricName=\"accuracy\")\n"
   ]
  },
  {
   "cell_type": "code",
   "execution_count": 27,
   "id": "d2ed6ca9-a12c-402a-a303-deadb6f0ba41",
   "metadata": {},
   "outputs": [],
   "source": [
    "#Define cross-validation\n",
    "crossval = CrossValidator(estimator=pipeline,\n",
    "                          estimatorParamMaps=param_grid,\n",
    "                          evaluator=evaluator,\n",
    "                          numFolds=3)\n"
   ]
  },
  {
   "cell_type": "code",
   "execution_count": 28,
   "id": "393d9c45-04dd-447b-aa71-efe51b947ee1",
   "metadata": {},
   "outputs": [
    {
     "name": "stderr",
     "output_type": "stream",
     "text": [
      "24/04/27 05:04:43 WARN InstanceBuilder: Failed to load implementation from:dev.ludovic.netlib.blas.JNIBLAS\n"
     ]
    }
   ],
   "source": [
    "#Run cross-validation\n",
    "cv_model = crossval.fit(final_train_data)"
   ]
  },
  {
   "cell_type": "code",
   "execution_count": 29,
   "id": "b23eaa4a-84d1-46c1-bef6-3b125419f029",
   "metadata": {},
   "outputs": [],
   "source": [
    "#get best model\n",
    "best_model = cv_model.bestModel"
   ]
  },
  {
   "cell_type": "code",
   "execution_count": 30,
   "id": "d8f49358-deee-497c-9e39-f8e71c830738",
   "metadata": {},
   "outputs": [],
   "source": [
    "# prediction\n",
    "predictions = best_model.transform(final_test_data)"
   ]
  },
  {
   "cell_type": "markdown",
   "id": "35d31645-1141-413b-a325-5936942b05d2",
   "metadata": {},
   "source": [
    "<h4>Test Accuracy:</h4>"
   ]
  },
  {
   "cell_type": "code",
   "execution_count": 31,
   "id": "b56a038e-1d29-4af1-a20c-99814b7279c3",
   "metadata": {},
   "outputs": [
    {
     "name": "stdout",
     "output_type": "stream",
     "text": [
      "Test Accuracy = 79.85%\n"
     ]
    }
   ],
   "source": [
    "#Evaluate the model\n",
    "v1_accuracy = evaluator.evaluate(predictions)\n",
    "print(\"Test Accuracy = {:.2f}%\".format(v1_accuracy * 100))"
   ]
  },
  {
   "cell_type": "markdown",
   "id": "6ab75833-abc3-4391-8a5c-4154a26f6028",
   "metadata": {},
   "source": [
    "<h4>Predictions:</h4>"
   ]
  },
  {
   "cell_type": "code",
   "execution_count": 32,
   "id": "cbce72cd-c8d2-4760-ba0d-8e0e0d46cf15",
   "metadata": {},
   "outputs": [
    {
     "name": "stdout",
     "output_type": "stream",
     "text": [
      "+--------------------+---------+----------+\n",
      "|             Comment|Sentiment|prediction|\n",
      "+--------------------+---------+----------+\n",
      "|a gun with    met...| Negative|       1.0|\n",
      "|a ww  mythic with...| Negative|       2.0|\n",
      "|already a w  alth...|  Neutral|       2.0|\n",
      "|              always|  Neutral|       2.0|\n",
      "|am i the only one...| Positive|       0.0|\n",
      "|american college ...|  Neutral|       2.0|\n",
      "|among ars i feel ...| Positive|       0.0|\n",
      "|and we appreciate...| Positive|       2.0|\n",
      "|appearently it s ...|  Neutral|       2.0|\n",
      "|are we ever getti...| Positive|       0.0|\n",
      "|as a persistence ...| Positive|       0.0|\n",
      "|as long as there ...| Positive|       0.0|\n",
      "|as long as there ...|  Neutral|       0.0|\n",
      "|asks redditors fo...| Positive|       0.0|\n",
      "|ay another loose ...| Negative|       1.0|\n",
      "|because i m a dum...| Negative|       2.0|\n",
      "|best record for l...| Positive|       0.0|\n",
      "|better not  buttt...| Negative|       0.0|\n",
      "|   bot match invites| Positive|       2.0|\n",
      "|bro is going to d...|  Neutral|       2.0|\n",
      "+--------------------+---------+----------+\n",
      "only showing top 20 rows\n",
      "\n",
      "root\n",
      " |-- Comment: string (nullable = true)\n",
      " |-- Sentiment: string (nullable = true)\n",
      " |-- prediction: double (nullable = false)\n",
      "\n"
     ]
    }
   ],
   "source": [
    "#prediction result\n",
    "predictions.select(\"Comment\", \"Sentiment\", \"prediction\").show(truncate=True)\n",
    "prediction_result = predictions.select(\"Comment\", \"Sentiment\", \"prediction\")\n",
    "# prediction_result.show(truncate=True)\n",
    "prediction_result.printSchema()"
   ]
  },
  {
   "cell_type": "markdown",
   "id": "ff9bc668-f5c6-4e33-b366-d66bee9b1283",
   "metadata": {},
   "source": [
    "<h4>Classification Report (Positive & Negative Classes):</h4>"
   ]
  },
  {
   "cell_type": "code",
   "execution_count": 33,
   "id": "dcaf6cff-e4c7-4ddd-a542-5265d6e81b66",
   "metadata": {},
   "outputs": [
    {
     "name": "stdout",
     "output_type": "stream",
     "text": [
      "Label 0 (Positive):\n",
      "Precision: 0.8174123337363967\n",
      "Recall: 0.9197278911564626\n",
      "F1-score: 0.8655569782330347\n",
      "\n",
      "Label 1 (Negative):\n",
      "Precision: 0.7571428571428571\n",
      "Recall: 0.5389830508474577\n",
      "F1-score: 0.6297029702970296\n",
      "\n",
      "Label 2 (Neutral):\n",
      "Precision: 0.7482014388489209\n",
      "Recall: 0.7123287671232876\n",
      "F1-score: 0.7298245614035087\n"
     ]
    }
   ],
   "source": [
    "# Calculate true positives for label 0\n",
    "true_positives_0 = predictions.filter((predictions.label == 0) & (predictions.prediction == 0)).count()\n",
    "\n",
    "# Calculate false positives for label 0\n",
    "false_positives_0 = predictions.filter((predictions.label != 0) & (predictions.prediction == 0)).count()\n",
    "\n",
    "# Calculate false negatives for label 0\n",
    "false_negatives_0 = predictions.filter((predictions.label == 0) & (predictions.prediction != 0)).count()\n",
    "\n",
    "# Calculate precision, recall, and F1-score for label 0\n",
    "v1_precision_0 = true_positives_0 / (true_positives_0 + false_positives_0)\n",
    "v1_recall_0 = true_positives_0 / (true_positives_0 + false_negatives_0)\n",
    "v1_f1_score_0 = 2 * (v1_precision_0 * v1_recall_0) / (v1_precision_0 + v1_recall_0)\n",
    "\n",
    "# Calculate true positives for label 1\n",
    "true_positives_1 = predictions.filter((predictions.label == 1) & (predictions.prediction == 1)).count()\n",
    "\n",
    "# Calculate false positives for label 1\n",
    "false_positives_1 = predictions.filter((predictions.label != 1) & (predictions.prediction == 1)).count()\n",
    "\n",
    "# Calculate false negatives for label 1\n",
    "false_negatives_1 = predictions.filter((predictions.label == 1) & (predictions.prediction != 1)).count()\n",
    "\n",
    "# Calculate precision, recall, and F1-score for label 1\n",
    "v1_precision_1 = true_positives_1 / (true_positives_1 + false_positives_1)\n",
    "v1_recall_1 = true_positives_1 / (true_positives_1 + false_negatives_1)\n",
    "v1_f1_score_1 = 2 * (v1_precision_1 * v1_recall_1) / (v1_precision_1 + v1_recall_1)\n",
    "\n",
    "# Calculate true positives for label 2\n",
    "true_positives_2 = predictions.filter((predictions.label == 2) & (predictions.prediction == 2)).count()\n",
    "\n",
    "# Calculate false positives for label 2\n",
    "false_positives_2 = predictions.filter((predictions.label != 2) & (predictions.prediction == 2)).count()\n",
    "\n",
    "# Calculate false negatives for label 2\n",
    "false_negatives_2 = predictions.filter((predictions.label == 2) & (predictions.prediction != 2)).count()\n",
    "\n",
    "# Calculate precision, recall, and F1-score for label 2\n",
    "v1_precision_2 = true_positives_2 / (true_positives_2 + false_positives_2)\n",
    "v1_recall_2 = true_positives_2 / (true_positives_2 + false_negatives_2)\n",
    "v1_f1_score_2 = 2 * (v1_precision_2 * v1_recall_2) / (v1_precision_2 + v1_recall_2)\n",
    "\n",
    "# Display classification report\n",
    "print(\"Label 0 (Positive):\")\n",
    "print(\"Precision:\", v1_precision_0)\n",
    "print(\"Recall:\", v1_recall_0)\n",
    "print(\"F1-score:\", v1_f1_score_0)\n",
    "\n",
    "print(\"\\nLabel 1 (Negative):\")\n",
    "print(\"Precision:\", v1_precision_1)\n",
    "print(\"Recall:\", v1_recall_1)\n",
    "print(\"F1-score:\", v1_f1_score_1)\n",
    "\n",
    "print(\"\\nLabel 2 (Neutral):\")\n",
    "print(\"Precision:\", v1_precision_2)\n",
    "print(\"Recall:\", v1_recall_2)\n",
    "print(\"F1-score:\", v1_f1_score_2)\n"
   ]
  },
  {
   "cell_type": "markdown",
   "id": "6fe15d37-3d0c-4090-96ab-486f22f0732c",
   "metadata": {},
   "source": [
    "<h4>Confusion Matrix</h4>"
   ]
  },
  {
   "cell_type": "code",
   "execution_count": 34,
   "id": "d76966be-4d97-49fa-9392-8e1e470697fa",
   "metadata": {},
   "outputs": [
    {
     "name": "stdout",
     "output_type": "stream",
     "text": [
      "+-----+---+---+---+\n",
      "|label|0.0|1.0|2.0|\n",
      "+-----+---+---+---+\n",
      "|  0.0|676| 42| 17|\n",
      "|  1.0|118|159| 18|\n",
      "|  2.0| 33|  9|104|\n",
      "+-----+---+---+---+\n",
      "\n"
     ]
    }
   ],
   "source": [
    "from pyspark.sql.functions import expr\n",
    "\n",
    "# Calculate confusion matrix\n",
    "confusion_matrix = predictions.groupBy(\"label\").pivot(\"prediction\").count().fillna(0)\n",
    "\n",
    "# Display confusion matrix\n",
    "confusion_matrix.show()"
   ]
  },
  {
   "cell_type": "code",
   "execution_count": 35,
   "id": "0d13d83c-f6bb-4b17-813e-079b1bba9df5",
   "metadata": {},
   "outputs": [
    {
     "name": "stdout",
     "output_type": "stream",
     "text": [
      "+--------------+--------------------+-----------+\n",
      "|     namespace|           tableName|isTemporary|\n",
      "+--------------+--------------------+-----------+\n",
      "|sentiment_data|   prediction_result|      false|\n",
      "|sentiment_data|prediction_result...|      false|\n",
      "|sentiment_data|      temp_csv_table|      false|\n",
      "|sentiment_data|           test_data|      false|\n",
      "|sentiment_data|          train_data|      false|\n",
      "|sentiment_data|      train_data_eva|      false|\n",
      "|              |           test_view|       true|\n",
      "|              |          train_view|       true|\n",
      "+--------------+--------------------+-----------+\n",
      "\n"
     ]
    },
    {
     "name": "stderr",
     "output_type": "stream",
     "text": [
      "24/04/27 05:06:24 WARN ResolveSessionCatalog: A Hive serde table will be created as there is no table provider specified. You can set spark.sql.legacy.createHiveTableByDefault to false so that native data source table will be created instead.\n"
     ]
    }
   ],
   "source": [
    "#store prediction result into hive\n",
    "spark.sql(\"DROP TABLE IF EXISTS sentiment_data.prediction_result\")\n",
    "\n",
    "spark.sql(\"CREATE TABLE sentiment_data.prediction_result (Comment STRING, Sentiment STRING, prediction DOUBLE)\")\n",
    "spark.sql(\"SHOW TABLES\").show()"
   ]
  },
  {
   "cell_type": "code",
   "execution_count": 36,
   "id": "58a41e05-ca9a-4078-af12-47815812b1f5",
   "metadata": {},
   "outputs": [
    {
     "name": "stdout",
     "output_type": "stream",
     "text": [
      "+--------------------+---------+----------+\n",
      "|             Comment|Sentiment|prediction|\n",
      "+--------------------+---------+----------+\n",
      "|a gun with    met...| Negative|       1.0|\n",
      "|a ww  mythic with...| Negative|       2.0|\n",
      "|already a w  alth...|  Neutral|       2.0|\n",
      "|              always|  Neutral|       2.0|\n",
      "|am i the only one...| Positive|       0.0|\n",
      "|american college ...|  Neutral|       2.0|\n",
      "|among ars i feel ...| Positive|       0.0|\n",
      "|and we appreciate...| Positive|       2.0|\n",
      "|appearently it s ...|  Neutral|       2.0|\n",
      "|are we ever getti...| Positive|       0.0|\n",
      "|as a persistence ...| Positive|       0.0|\n",
      "|as long as there ...| Positive|       0.0|\n",
      "|as long as there ...|  Neutral|       0.0|\n",
      "|asks redditors fo...| Positive|       0.0|\n",
      "|ay another loose ...| Negative|       1.0|\n",
      "|because i m a dum...| Negative|       2.0|\n",
      "|best record for l...| Positive|       0.0|\n",
      "|better not  buttt...| Negative|       0.0|\n",
      "|   bot match invites| Positive|       2.0|\n",
      "|bro is going to d...|  Neutral|       2.0|\n",
      "+--------------------+---------+----------+\n",
      "only showing top 20 rows\n",
      "\n"
     ]
    }
   ],
   "source": [
    "# spark.sql(\"DROP VIEW IF EXISTS prediction_result\")\n",
    "prediction_result.createOrReplaceTempView(\"prediction_result_view\")\n",
    "spark.sql(\"SELECT * FROM prediction_result_view\").show()"
   ]
  },
  {
   "cell_type": "code",
   "execution_count": 37,
   "id": "2d5f51cf-85a8-493b-a45f-d3c6e6a3381c",
   "metadata": {},
   "outputs": [
    {
     "data": {
      "text/plain": [
       "DataFrame[]"
      ]
     },
     "execution_count": 37,
     "metadata": {},
     "output_type": "execute_result"
    }
   ],
   "source": [
    "#store prediction result into hive\n",
    "spark.sql(\"INSERT INTO TABLE  sentiment_data.prediction_result  SELECT * FROM prediction_result_view\")"
   ]
  },
  {
   "cell_type": "code",
   "execution_count": 38,
   "id": "37e867e3-0419-48e6-af50-ba2d846c2b1e",
   "metadata": {},
   "outputs": [
    {
     "name": "stdout",
     "output_type": "stream",
     "text": [
      "+--------------------+---------+----------+\n",
      "|             Comment|Sentiment|prediction|\n",
      "+--------------------+---------+----------+\n",
      "|a gun with    met...| Negative|       1.0|\n",
      "|a ww  mythic with...| Negative|       2.0|\n",
      "|already a w  alth...|  Neutral|       2.0|\n",
      "|              always|  Neutral|       2.0|\n",
      "|am i the only one...| Positive|       0.0|\n",
      "|american college ...|  Neutral|       2.0|\n",
      "|among ars i feel ...| Positive|       0.0|\n",
      "|and we appreciate...| Positive|       2.0|\n",
      "|appearently it s ...|  Neutral|       2.0|\n",
      "|are we ever getti...| Positive|       0.0|\n",
      "|as a persistence ...| Positive|       0.0|\n",
      "|as long as there ...| Positive|       0.0|\n",
      "|as long as there ...|  Neutral|       0.0|\n",
      "|asks redditors fo...| Positive|       0.0|\n",
      "|ay another loose ...| Negative|       1.0|\n",
      "|because i m a dum...| Negative|       2.0|\n",
      "|best record for l...| Positive|       0.0|\n",
      "|better not  buttt...| Negative|       0.0|\n",
      "|   bot match invites| Positive|       2.0|\n",
      "|bro is going to d...|  Neutral|       2.0|\n",
      "+--------------------+---------+----------+\n",
      "only showing top 20 rows\n",
      "\n"
     ]
    }
   ],
   "source": [
    "prediction_result = spark.sql(\"SELECT * FROM sentiment_data.prediction_result\")\n",
    "prediction_result.show()"
   ]
  },
  {
   "cell_type": "markdown",
   "id": "7b971fa4-f807-434c-86a7-f398d8eb9ad7",
   "metadata": {},
   "source": [
    "<h3>1.2 EXPERIMENT 2 (64% of data used for training)</h3>"
   ]
  },
  {
   "cell_type": "code",
   "execution_count": 39,
   "id": "fa1f157c-11de-4403-b317-565e80189a25",
   "metadata": {},
   "outputs": [
    {
     "name": "stdout",
     "output_type": "stream",
     "text": [
      "root\n",
      " |-- Comment: string (nullable = true)\n",
      " |-- Sentiment: string (nullable = true)\n",
      " |-- SentimentScore: double (nullable = true)\n",
      "\n"
     ]
    }
   ],
   "source": [
    "#Evaluation\n",
    "#random split data\n",
    "train_data_eva, test_data_eva = train_data.randomSplit([0.8, 0.2], seed=1234)  \n",
    "train_data_eva.printSchema()"
   ]
  },
  {
   "cell_type": "code",
   "execution_count": 40,
   "id": "9bc51f3e-16c7-4b7c-8985-44e88a4b0f54",
   "metadata": {},
   "outputs": [
    {
     "name": "stdout",
     "output_type": "stream",
     "text": [
      "+--------------------+---------+--------------+\n",
      "|             Comment|Sentiment|SentimentScore|\n",
      "+--------------------+---------+--------------+\n",
      "|a gun with    met...| Negative|       -0.9137|\n",
      "|a man of culture ...|  Neutral|           0.0|\n",
      "|     about damn time| Negative|       -0.4019|\n",
      "|absolute legend  ...| Negative|       -0.3412|\n",
      "|abuse the perk so...| Negative|       -0.6369|\n",
      "|acog  or the amou...| Positive|        0.4939|\n",
      "|actually you ll b...| Positive|        0.4404|\n",
      "|after so long not...|  Neutral|           0.0|\n",
      "|agree  but someti...| Negative|       -0.4019|\n",
      "|agree  i for exam...| Negative|         -0.34|\n",
      "|agreed  some peop...| Positive|        0.5719|\n",
      "|          ah  thanks| Positive|        0.4404|\n",
      "|alcatraz  tait tr...|  Neutral|           0.0|\n",
      "|            alert op| Positive|         0.296|\n",
      "|all of your contr...| Positive|        0.1779|\n",
      "|almost seems to b...| Positive|        0.3214|\n",
      "|alr ill make sure...| Negative|        -0.128|\n",
      "|also   waiting fo...| Negative|       -0.5719|\n",
      "|also  this won t ...|  Neutral|           0.0|\n",
      "|and all of those ...|  Neutral|           0.0|\n",
      "+--------------------+---------+--------------+\n",
      "only showing top 20 rows\n",
      "\n"
     ]
    }
   ],
   "source": [
    "train_df_eva = train_data_eva\n",
    "train_df_eva.show()"
   ]
  },
  {
   "cell_type": "code",
   "execution_count": 41,
   "id": "63283deb-738a-4ed8-b6b2-cd5ddb5ea813",
   "metadata": {},
   "outputs": [
    {
     "name": "stdout",
     "output_type": "stream",
     "text": [
      "No of records in training dataset: 3855\n"
     ]
    }
   ],
   "source": [
    "print(\"No of records in training dataset:\", train_df_eva.count())"
   ]
  },
  {
   "cell_type": "code",
   "execution_count": 42,
   "id": "a7916ed8-6b31-473f-a6f7-308b5de5c92c",
   "metadata": {},
   "outputs": [
    {
     "name": "stdout",
     "output_type": "stream",
     "text": [
      "No of records in testing dataset: 1176\n"
     ]
    }
   ],
   "source": [
    "print(\"No of records in testing dataset:\", test_df.count())"
   ]
  },
  {
   "cell_type": "code",
   "execution_count": 43,
   "id": "2db87f22-023f-4fba-8fe1-21df7c07360d",
   "metadata": {},
   "outputs": [
    {
     "name": "stdout",
     "output_type": "stream",
     "text": [
      "+--------------+--------------------+-----------+\n",
      "|     namespace|           tableName|isTemporary|\n",
      "+--------------+--------------------+-----------+\n",
      "|sentiment_data|   prediction_result|      false|\n",
      "|sentiment_data|prediction_result...|      false|\n",
      "|sentiment_data|      temp_csv_table|      false|\n",
      "|sentiment_data|           test_data|      false|\n",
      "|sentiment_data|          train_data|      false|\n",
      "|sentiment_data|      train_data_eva|      false|\n",
      "|              |prediction_result...|       true|\n",
      "|              |           test_view|       true|\n",
      "|              |          train_view|       true|\n",
      "+--------------+--------------------+-----------+\n",
      "\n"
     ]
    },
    {
     "name": "stderr",
     "output_type": "stream",
     "text": [
      "24/04/27 05:06:38 WARN ResolveSessionCatalog: A Hive serde table will be created as there is no table provider specified. You can set spark.sql.legacy.createHiveTableByDefault to false so that native data source table will be created instead.\n"
     ]
    }
   ],
   "source": [
    "spark.sql(\"DROP TABLE IF EXISTS sentiment_data.train_data_eva\")\n",
    "\n",
    "spark.sql(\"CREATE TABLE sentiment_data.train_data_eva (Comment STRING, Sentiment STRING, SentimentScore DOUBLE)\")\n",
    "spark.sql(\"SHOW TABLES\").show()"
   ]
  },
  {
   "cell_type": "code",
   "execution_count": 44,
   "id": "98643c55-dd7f-484b-bfbf-ff95a040e370",
   "metadata": {},
   "outputs": [
    {
     "name": "stdout",
     "output_type": "stream",
     "text": [
      "+--------------------+---------+--------------+\n",
      "|             Comment|Sentiment|SentimentScore|\n",
      "+--------------------+---------+--------------+\n",
      "|a gun with    met...| Negative|       -0.9137|\n",
      "|a man of culture ...|  Neutral|           0.0|\n",
      "|     about damn time| Negative|       -0.4019|\n",
      "|absolute legend  ...| Negative|       -0.3412|\n",
      "|abuse the perk so...| Negative|       -0.6369|\n",
      "|acog  or the amou...| Positive|        0.4939|\n",
      "|actually you ll b...| Positive|        0.4404|\n",
      "|after so long not...|  Neutral|           0.0|\n",
      "|agree  but someti...| Negative|       -0.4019|\n",
      "|agree  i for exam...| Negative|         -0.34|\n",
      "|agreed  some peop...| Positive|        0.5719|\n",
      "|          ah  thanks| Positive|        0.4404|\n",
      "|alcatraz  tait tr...|  Neutral|           0.0|\n",
      "|            alert op| Positive|         0.296|\n",
      "|all of your contr...| Positive|        0.1779|\n",
      "|almost seems to b...| Positive|        0.3214|\n",
      "|alr ill make sure...| Negative|        -0.128|\n",
      "|also   waiting fo...| Negative|       -0.5719|\n",
      "|also  this won t ...|  Neutral|           0.0|\n",
      "|and all of those ...|  Neutral|           0.0|\n",
      "+--------------------+---------+--------------+\n",
      "only showing top 20 rows\n",
      "\n"
     ]
    }
   ],
   "source": [
    "train_df_eva.createOrReplaceTempView(\"train_eva_view\")\n",
    "spark.sql(\"SELECT * FROM train_eva_view\").show()"
   ]
  },
  {
   "cell_type": "code",
   "execution_count": 45,
   "id": "a386c252-2944-4632-be2a-07cbfd30eee2",
   "metadata": {},
   "outputs": [
    {
     "data": {
      "text/plain": [
       "DataFrame[]"
      ]
     },
     "execution_count": 45,
     "metadata": {},
     "output_type": "execute_result"
    }
   ],
   "source": [
    "spark.sql(\"INSERT INTO TABLE  sentiment_data.train_data_eva  SELECT * FROM train_eva_view\")\n"
   ]
  },
  {
   "cell_type": "code",
   "execution_count": 46,
   "id": "eaa5cddf-9e1e-4b7e-917f-d3d8afdcd102",
   "metadata": {},
   "outputs": [
    {
     "name": "stdout",
     "output_type": "stream",
     "text": [
      "+--------------------+---------+--------------+\n",
      "|             Comment|Sentiment|SentimentScore|\n",
      "+--------------------+---------+--------------+\n",
      "|a gun with    met...| Negative|       -0.9137|\n",
      "|a man of culture ...|  Neutral|           0.0|\n",
      "|     about damn time| Negative|       -0.4019|\n",
      "|absolute legend  ...| Negative|       -0.3412|\n",
      "|abuse the perk so...| Negative|       -0.6369|\n",
      "|acog  or the amou...| Positive|        0.4939|\n",
      "|actually you ll b...| Positive|        0.4404|\n",
      "|after so long not...|  Neutral|           0.0|\n",
      "|agree  but someti...| Negative|       -0.4019|\n",
      "|agree  i for exam...| Negative|         -0.34|\n",
      "|agreed  some peop...| Positive|        0.5719|\n",
      "|          ah  thanks| Positive|        0.4404|\n",
      "|alcatraz  tait tr...|  Neutral|           0.0|\n",
      "|            alert op| Positive|         0.296|\n",
      "|all of your contr...| Positive|        0.1779|\n",
      "|almost seems to b...| Positive|        0.3214|\n",
      "|alr ill make sure...| Negative|        -0.128|\n",
      "|also   waiting fo...| Negative|       -0.5719|\n",
      "|also  this won t ...|  Neutral|           0.0|\n",
      "|and all of those ...|  Neutral|           0.0|\n",
      "+--------------------+---------+--------------+\n",
      "only showing top 20 rows\n",
      "\n"
     ]
    }
   ],
   "source": [
    "train_data_eva = spark.sql(\"SELECT * FROM sentiment_data.train_data_eva\")\n",
    "train_data_eva.show()"
   ]
  },
  {
   "cell_type": "code",
   "execution_count": 47,
   "id": "cf57cdce-f094-4e2e-a90b-2530c3ac071f",
   "metadata": {},
   "outputs": [
    {
     "name": "stdout",
     "output_type": "stream",
     "text": [
      "+--------------------+---------+--------------+--------------------+--------------------+--------------------+-----+\n",
      "|             Comment|Sentiment|SentimentScore|               words|         rawFeatures|            features|label|\n",
      "+--------------------+---------+--------------+--------------------+--------------------+--------------------+-----+\n",
      "|a gun with    met...| Negative|       -0.9137|[a, gun, with, , ...|(10000,[1481,1756...|(10000,[1481,1756...|  1.0|\n",
      "|a man of culture ...|  Neutral|           0.0|[a, man, of, cult...|(10000,[1756,2569...|(10000,[1756,2569...|  2.0|\n",
      "|     about damn time| Negative|       -0.4019| [about, damn, time]|(10000,[3998,4956...|(10000,[3998,4956...|  1.0|\n",
      "|absolute legend  ...| Negative|       -0.3412|[absolute, legend...|(10000,[454,488,7...|(10000,[454,488,7...|  1.0|\n",
      "|abuse the perk so...| Negative|       -0.6369|[abuse, the, perk...|(10000,[117,488,2...|(10000,[117,488,2...|  1.0|\n",
      "|acog  or the amou...| Positive|        0.4939|[acog, , or, the,...|(10000,[488,722,3...|(10000,[488,722,3...|  0.0|\n",
      "|actually you ll b...| Positive|        0.4404|[actually, you, l...|(10000,[488,1756,...|(10000,[488,1756,...|  0.0|\n",
      "|after so long not...|  Neutral|           0.0|[after, so, long,...|(10000,[307,1699,...|(10000,[307,1699,...|  2.0|\n",
      "|agree  but someti...| Negative|       -0.4019|[agree, , but, so...|(10000,[117,307,4...|(10000,[117,307,4...|  1.0|\n",
      "|agree  i for exam...| Negative|         -0.34|[agree, , i, for,...|(10000,[96,1756,2...|(10000,[96,1756,2...|  1.0|\n",
      "|agreed  some peop...| Positive|        0.5719|[agreed, , some, ...|(10000,[157,307,5...|(10000,[157,307,5...|  0.0|\n",
      "|          ah  thanks| Positive|        0.4404|      [ah, , thanks]|(10000,[3372,3958...|(10000,[3372,3958...|  0.0|\n",
      "|alcatraz  tait tr...|  Neutral|           0.0|[alcatraz, , tait...|(10000,[916,3372,...|(10000,[916,3372,...|  2.0|\n",
      "|            alert op| Positive|         0.296|         [alert, op]|(10000,[5349,7406...|(10000,[5349,7406...|  0.0|\n",
      "|all of your contr...| Positive|        0.1779|[all, of, your, c...|(10000,[960,1263,...|(10000,[960,1263,...|  0.0|\n",
      "|almost seems to b...| Positive|        0.3214|[almost, seems, t...|(10000,[48,307,48...|(10000,[48,307,48...|  0.0|\n",
      "|alr ill make sure...| Negative|        -0.128|[alr, ill, make, ...|(10000,[488,815,1...|(10000,[488,815,1...|  1.0|\n",
      "|also   waiting fo...| Negative|       -0.5719|[also, , , waitin...|(10000,[407,2522,...|(10000,[407,2522,...|  1.0|\n",
      "|also  this won t ...|  Neutral|           0.0|[also, , this, wo...|(10000,[163,563,8...|(10000,[163,563,8...|  2.0|\n",
      "|and all of those ...|  Neutral|           0.0|[and, all, of, th...|(10000,[488,763,8...|(10000,[488,763,8...|  2.0|\n",
      "+--------------------+---------+--------------+--------------------+--------------------+--------------------+-----+\n",
      "only showing top 20 rows\n",
      "\n"
     ]
    }
   ],
   "source": [
    "# preprocess & retokenize - train data\n",
    "tokenizer = Tokenizer(inputCol=\"Comment\", outputCol=\"words\")\n",
    "words_data = tokenizer.transform(train_data_eva)\n",
    "\n",
    "hashingTF = HashingTF(inputCol=\"words\", outputCol=\"rawFeatures\", numFeatures=10000)\n",
    "featurized_data = hashingTF.transform(words_data)\n",
    "\n",
    "idf = IDF(inputCol=\"rawFeatures\", outputCol=\"features\")\n",
    "idf_model = idf.fit(featurized_data)\n",
    "final_data = idf_model.transform(featurized_data)\n",
    "\n",
    "#encode label column - train\n",
    "indexer = StringIndexer(inputCol=\"Sentiment\", outputCol=\"label\")\n",
    "final_train_data_eva = indexer.fit(final_data).transform(final_data)\n",
    "final_train_data_eva.show()"
   ]
  },
  {
   "cell_type": "markdown",
   "id": "9ca0bd9d-c90e-4fc0-9977-35915f70fb39",
   "metadata": {},
   "source": [
    "<h4>Logistic Regression</h4>"
   ]
  },
  {
   "cell_type": "code",
   "execution_count": 48,
   "id": "2768f1f5-7449-41c6-a04d-e29be5a44b62",
   "metadata": {},
   "outputs": [],
   "source": [
    "#define model\n",
    "lr = LogisticRegression(featuresCol=\"features\", labelCol=\"label\")\n",
    "\n",
    "#create pipeline\n",
    "pipeline = Pipeline(stages=[lr])\n",
    "\n",
    "#Define parameter grid for hyperparameter tuning\n",
    "param_grid = ParamGridBuilder() \\\n",
    "    .addGrid(lr.regParam, [0.1, 0.01]) \\\n",
    "    .addGrid(lr.elasticNetParam, [0.0, 0.5, 1.0]) \\\n",
    "    .build()\n",
    "\n",
    "#define evaluator\n",
    "evaluator = MulticlassClassificationEvaluator(labelCol=\"label\", predictionCol=\"prediction\", metricName=\"accuracy\")\n",
    "\n",
    "#Define cross-validation\n",
    "crossval = CrossValidator(estimator=pipeline,\n",
    "                          estimatorParamMaps=param_grid,\n",
    "                          evaluator=evaluator,\n",
    "                          numFolds=3)\n",
    "\n",
    "#Run cross-validation - lr \n",
    "cv_model = crossval.fit(final_train_data_eva)"
   ]
  },
  {
   "cell_type": "markdown",
   "id": "9cde799a-096b-4b80-8b2e-1de6f0365648",
   "metadata": {},
   "source": [
    "<h4>Test Accuracy</h4>"
   ]
  },
  {
   "cell_type": "code",
   "execution_count": 49,
   "id": "aff9d8ad-1936-40ba-b5c5-aa65116a785a",
   "metadata": {},
   "outputs": [
    {
     "name": "stdout",
     "output_type": "stream",
     "text": [
      "Test Accuracy = 79.51%\n"
     ]
    }
   ],
   "source": [
    "#get best model\n",
    "best_model = cv_model.bestModel\n",
    "\n",
    "# prediction\n",
    "predictions_eva = best_model.transform(final_test_data)\n",
    "\n",
    "#Evaluate the model\n",
    "v2_accuracy = evaluator.evaluate(predictions_eva)\n",
    "print(\"Test Accuracy = {:.2f}%\".format(v2_accuracy * 100))"
   ]
  },
  {
   "cell_type": "code",
   "execution_count": 50,
   "id": "39a58c06-f0ef-4e15-a3bb-09fc8f57ab2f",
   "metadata": {},
   "outputs": [
    {
     "name": "stdout",
     "output_type": "stream",
     "text": [
      "+--------------------+---------+----------+\n",
      "|             Comment|Sentiment|prediction|\n",
      "+--------------------+---------+----------+\n",
      "|a gun with    met...| Negative|       1.0|\n",
      "|a ww  mythic with...| Negative|       2.0|\n",
      "|already a w  alth...|  Neutral|       2.0|\n",
      "|              always|  Neutral|       2.0|\n",
      "|am i the only one...| Positive|       0.0|\n",
      "|american college ...|  Neutral|       2.0|\n",
      "|among ars i feel ...| Positive|       0.0|\n",
      "|and we appreciate...| Positive|       2.0|\n",
      "|appearently it s ...|  Neutral|       2.0|\n",
      "|are we ever getti...| Positive|       0.0|\n",
      "|as a persistence ...| Positive|       2.0|\n",
      "|as long as there ...| Positive|       0.0|\n",
      "|as long as there ...|  Neutral|       0.0|\n",
      "|asks redditors fo...| Positive|       0.0|\n",
      "|ay another loose ...| Negative|       1.0|\n",
      "|because i m a dum...| Negative|       2.0|\n",
      "|best record for l...| Positive|       0.0|\n",
      "|better not  buttt...| Negative|       0.0|\n",
      "|   bot match invites| Positive|       0.0|\n",
      "|bro is going to d...|  Neutral|       2.0|\n",
      "+--------------------+---------+----------+\n",
      "only showing top 20 rows\n",
      "\n",
      "root\n",
      " |-- Comment: string (nullable = true)\n",
      " |-- Sentiment: string (nullable = true)\n",
      " |-- prediction: double (nullable = false)\n",
      "\n"
     ]
    }
   ],
   "source": [
    "#prediction result\n",
    "predictions_eva.select(\"Comment\", \"Sentiment\", \"prediction\").show(truncate=True)\n",
    "prediction_result_eva = predictions_eva.select(\"Comment\", \"Sentiment\", \"prediction\")\n",
    "# prediction_result.show(truncate=True)\n",
    "prediction_result_eva.printSchema()"
   ]
  },
  {
   "cell_type": "markdown",
   "id": "5001bf7b-65cf-42a7-8d19-4fc92c417c15",
   "metadata": {},
   "source": [
    "<h4>Classification Report (For All Classes):</h4>"
   ]
  },
  {
   "cell_type": "code",
   "execution_count": 51,
   "id": "3188998a-364a-4c70-b2d8-dcf489881228",
   "metadata": {},
   "outputs": [
    {
     "name": "stdout",
     "output_type": "stream",
     "text": [
      "Label 0 (Positive):\n",
      "Precision: 0.825925925925926\n",
      "Recall: 0.9102040816326531\n",
      "F1-score: 0.8660194174757282\n",
      "\n",
      "Label 1 (Negative):\n",
      "Precision: 0.70995670995671\n",
      "Recall: 0.5559322033898305\n",
      "F1-score: 0.623574144486692\n",
      "\n",
      "Label 2 (Neutral):\n",
      "Precision: 0.7555555555555555\n",
      "Recall: 0.6986301369863014\n",
      "F1-score: 0.7259786476868327\n"
     ]
    }
   ],
   "source": [
    "# Calculate true positives for label 0\n",
    "true_positives_0 = predictions_eva.filter((predictions_eva.label == 0) & (predictions_eva.prediction == 0)).count()\n",
    "\n",
    "# Calculate false positives for label 0\n",
    "false_positives_0 = predictions_eva.filter((predictions_eva.label != 0) & (predictions_eva.prediction == 0)).count()\n",
    "\n",
    "# Calculate false negatives for label 0\n",
    "false_negatives_0 = predictions_eva.filter((predictions_eva.label == 0) & (predictions_eva.prediction != 0)).count()\n",
    "\n",
    "# Calculate true positives for label 1\n",
    "true_positives_1 = predictions_eva.filter((predictions_eva.label == 1) & (predictions_eva.prediction == 1)).count()\n",
    "\n",
    "# Calculate false positives for label 1\n",
    "false_positives_1 = predictions_eva.filter((predictions_eva.label != 1) & (predictions_eva.prediction == 1)).count()\n",
    "\n",
    "# Calculate false negatives for label 1\n",
    "false_negatives_1 = predictions_eva.filter((predictions_eva.label == 1) & (predictions_eva.prediction != 1)).count()\n",
    "\n",
    "# Calculate true positives for label 2\n",
    "true_positives_2 = predictions_eva.filter((predictions_eva.label == 2) & (predictions_eva.prediction == 2)).count()\n",
    "\n",
    "# Calculate false positives for label 2\n",
    "false_positives_2 = predictions_eva.filter((predictions_eva.label != 2) & (predictions_eva.prediction == 2)).count()\n",
    "\n",
    "# Calculate false negatives for label 2\n",
    "false_negatives_2 = predictions_eva.filter((predictions_eva.label == 2) & (predictions_eva.prediction != 2)).count()\n",
    "\n",
    "# Calculate precision, recall, and F1-score for label 0\n",
    "v2_precision_0 = true_positives_0 / (true_positives_0 + false_positives_0)\n",
    "v2_recall_0 = true_positives_0 / (true_positives_0 + false_negatives_0)\n",
    "v2_f1_score_0 = 2 * (v2_precision_0 * v2_recall_0) / (v2_precision_0 + v2_recall_0)\n",
    "\n",
    "# Calculate precision, recall, and F1-score for label 1\n",
    "v2_precision_1 = true_positives_1 / (true_positives_1 + false_positives_1)\n",
    "v2_recall_1 = true_positives_1 / (true_positives_1 + false_negatives_1)\n",
    "v2_f1_score_1 = 2 * (v2_precision_1 * v2_recall_1) / (v2_precision_1 + v2_recall_1)\n",
    "\n",
    "# Calculate precision, recall, and F1-score for label 2\n",
    "v2_precision_2 = true_positives_2 / (true_positives_2 + false_positives_2)\n",
    "v2_recall_2 = true_positives_2 / (true_positives_2 + false_negatives_2)\n",
    "v2_f1_score_2 = 2 * (v2_precision_2 * v2_recall_2) / (v2_precision_2 + v2_recall_2)\n",
    "\n",
    "# Display classification report\n",
    "print(\"Label 0 (Positive):\")\n",
    "print(\"Precision:\", v2_precision_0)\n",
    "print(\"Recall:\", v2_recall_0)\n",
    "print(\"F1-score:\", v2_f1_score_0)\n",
    "\n",
    "print(\"\\nLabel 1 (Negative):\")\n",
    "print(\"Precision:\", v2_precision_1)\n",
    "print(\"Recall:\", v2_recall_1)\n",
    "print(\"F1-score:\", v2_f1_score_1)\n",
    "\n",
    "print(\"\\nLabel 2 (Neutral):\")\n",
    "print(\"Precision:\", v2_precision_2)\n",
    "print(\"Recall:\", v2_recall_2)\n",
    "print(\"F1-score:\", v2_f1_score_2)\n"
   ]
  },
  {
   "cell_type": "markdown",
   "id": "06fa035a-d382-41ca-81da-66c32767f020",
   "metadata": {},
   "source": [
    "<h4>Confusion Matrix</h4>"
   ]
  },
  {
   "cell_type": "code",
   "execution_count": 52,
   "id": "6ef4b5f8-14f8-493a-8bee-4be4efd762e0",
   "metadata": {},
   "outputs": [
    {
     "name": "stdout",
     "output_type": "stream",
     "text": [
      "+-----+---+---+---+\n",
      "|label|0.0|1.0|2.0|\n",
      "+-----+---+---+---+\n",
      "|  0.0|669| 53| 13|\n",
      "|  1.0|111|164| 20|\n",
      "|  2.0| 30| 14|102|\n",
      "+-----+---+---+---+\n",
      "\n"
     ]
    }
   ],
   "source": [
    "#confusion matrix & report\n",
    "from pyspark.sql.functions import expr\n",
    "\n",
    "# Calculate confusion matrix\n",
    "confusion_matrix = predictions_eva.groupBy(\"label\").pivot(\"prediction\").count().fillna(0)\n",
    "\n",
    "# Display confusion matrix\n",
    "confusion_matrix.show()"
   ]
  },
  {
   "cell_type": "code",
   "execution_count": 53,
   "id": "86a5b1f5-7b9d-4553-ba7c-827132c8790f",
   "metadata": {},
   "outputs": [
    {
     "name": "stdout",
     "output_type": "stream",
     "text": [
      "+--------------+--------------------+-----------+\n",
      "|     namespace|           tableName|isTemporary|\n",
      "+--------------+--------------------+-----------+\n",
      "|sentiment_data|   prediction_result|      false|\n",
      "|sentiment_data|prediction_result...|      false|\n",
      "|sentiment_data|      temp_csv_table|      false|\n",
      "|sentiment_data|           test_data|      false|\n",
      "|sentiment_data|          train_data|      false|\n",
      "|sentiment_data|      train_data_eva|      false|\n",
      "|              |prediction_result...|       true|\n",
      "|              |           test_view|       true|\n",
      "|              |      train_eva_view|       true|\n",
      "|              |          train_view|       true|\n",
      "+--------------+--------------------+-----------+\n",
      "\n"
     ]
    },
    {
     "name": "stderr",
     "output_type": "stream",
     "text": [
      "24/04/27 05:08:34 WARN ResolveSessionCatalog: A Hive serde table will be created as there is no table provider specified. You can set spark.sql.legacy.createHiveTableByDefault to false so that native data source table will be created instead.\n"
     ]
    }
   ],
   "source": [
    "#store prediction result into hive\n",
    "spark.sql(\"DROP TABLE IF EXISTS sentiment_data.prediction_result_eva\")\n",
    "\n",
    "spark.sql(\"CREATE TABLE sentiment_data.prediction_result_eva (Comment STRING, Sentiment STRING, prediction DOUBLE)\")\n",
    "spark.sql(\"SHOW TABLES\").show()"
   ]
  },
  {
   "cell_type": "code",
   "execution_count": 54,
   "id": "93632edf-876d-4a22-b915-6d61b17a327a",
   "metadata": {},
   "outputs": [
    {
     "name": "stdout",
     "output_type": "stream",
     "text": [
      "+--------------------+---------+----------+\n",
      "|             Comment|Sentiment|prediction|\n",
      "+--------------------+---------+----------+\n",
      "|a gun with    met...| Negative|       1.0|\n",
      "|a ww  mythic with...| Negative|       2.0|\n",
      "|already a w  alth...|  Neutral|       2.0|\n",
      "|              always|  Neutral|       2.0|\n",
      "|am i the only one...| Positive|       0.0|\n",
      "|american college ...|  Neutral|       2.0|\n",
      "|among ars i feel ...| Positive|       0.0|\n",
      "|and we appreciate...| Positive|       2.0|\n",
      "|appearently it s ...|  Neutral|       2.0|\n",
      "|are we ever getti...| Positive|       0.0|\n",
      "|as a persistence ...| Positive|       2.0|\n",
      "|as long as there ...| Positive|       0.0|\n",
      "|as long as there ...|  Neutral|       0.0|\n",
      "|asks redditors fo...| Positive|       0.0|\n",
      "|ay another loose ...| Negative|       1.0|\n",
      "|because i m a dum...| Negative|       2.0|\n",
      "|best record for l...| Positive|       0.0|\n",
      "|better not  buttt...| Negative|       0.0|\n",
      "|   bot match invites| Positive|       0.0|\n",
      "|bro is going to d...|  Neutral|       2.0|\n",
      "+--------------------+---------+----------+\n",
      "only showing top 20 rows\n",
      "\n"
     ]
    }
   ],
   "source": [
    "# spark.sql(\"DROP VIEW IF EXISTS prediction_result\")\n",
    "prediction_result_eva.createOrReplaceTempView(\"prediction_result_eva_view\")\n",
    "spark.sql(\"SELECT * FROM prediction_result_eva_view\").show()"
   ]
  },
  {
   "cell_type": "code",
   "execution_count": 55,
   "id": "1cc0c74c-55a7-4cfc-be62-460836f843c6",
   "metadata": {},
   "outputs": [
    {
     "data": {
      "text/plain": [
       "DataFrame[]"
      ]
     },
     "execution_count": 55,
     "metadata": {},
     "output_type": "execute_result"
    }
   ],
   "source": [
    "spark.sql(\"INSERT INTO TABLE  sentiment_data.prediction_result_eva  SELECT * FROM prediction_result_eva_view\")"
   ]
  },
  {
   "cell_type": "code",
   "execution_count": 56,
   "id": "80aef650-b963-4c71-9b7a-ba355da1889b",
   "metadata": {},
   "outputs": [
    {
     "name": "stdout",
     "output_type": "stream",
     "text": [
      "+--------------------+---------+----------+\n",
      "|             Comment|Sentiment|prediction|\n",
      "+--------------------+---------+----------+\n",
      "|a gun with    met...| Negative|       1.0|\n",
      "|a ww  mythic with...| Negative|       2.0|\n",
      "|already a w  alth...|  Neutral|       2.0|\n",
      "|              always|  Neutral|       2.0|\n",
      "|am i the only one...| Positive|       0.0|\n",
      "|american college ...|  Neutral|       2.0|\n",
      "|among ars i feel ...| Positive|       0.0|\n",
      "|and we appreciate...| Positive|       2.0|\n",
      "|appearently it s ...|  Neutral|       2.0|\n",
      "|are we ever getti...| Positive|       0.0|\n",
      "|as a persistence ...| Positive|       2.0|\n",
      "|as long as there ...| Positive|       0.0|\n",
      "|as long as there ...|  Neutral|       0.0|\n",
      "|asks redditors fo...| Positive|       0.0|\n",
      "|ay another loose ...| Negative|       1.0|\n",
      "|because i m a dum...| Negative|       2.0|\n",
      "|best record for l...| Positive|       0.0|\n",
      "|better not  buttt...| Negative|       0.0|\n",
      "|   bot match invites| Positive|       0.0|\n",
      "|bro is going to d...|  Neutral|       2.0|\n",
      "+--------------------+---------+----------+\n",
      "only showing top 20 rows\n",
      "\n"
     ]
    }
   ],
   "source": [
    "prediction_result_eva = spark.sql(\"SELECT * FROM sentiment_data.prediction_result_eva\")\n",
    "prediction_result_eva.show()"
   ]
  },
  {
   "cell_type": "code",
   "execution_count": null,
   "id": "f85edfe2-b2be-47fc-b8c4-b77720e29b23",
   "metadata": {},
   "outputs": [],
   "source": []
  },
  {
   "cell_type": "code",
   "execution_count": 93,
   "id": "a105bf58-1b82-42f5-a49e-2c622a9967f7",
   "metadata": {},
   "outputs": [
    {
     "name": "stdout",
     "output_type": "stream",
     "text": [
      "[('spark.driver.extraJavaOptions',\n",
      "  '-Djava.net.preferIPv6Addresses=false -XX:+IgnoreUnrecognizedVMOptions '\n",
      "  '--add-opens=java.base/java.lang=ALL-UNNAMED '\n",
      "  '--add-opens=java.base/java.lang.invoke=ALL-UNNAMED '\n",
      "  '--add-opens=java.base/java.lang.reflect=ALL-UNNAMED '\n",
      "  '--add-opens=java.base/java.io=ALL-UNNAMED '\n",
      "  '--add-opens=java.base/java.net=ALL-UNNAMED '\n",
      "  '--add-opens=java.base/java.nio=ALL-UNNAMED '\n",
      "  '--add-opens=java.base/java.util=ALL-UNNAMED '\n",
      "  '--add-opens=java.base/java.util.concurrent=ALL-UNNAMED '\n",
      "  '--add-opens=java.base/java.util.concurrent.atomic=ALL-UNNAMED '\n",
      "  '--add-opens=java.base/jdk.internal.ref=ALL-UNNAMED '\n",
      "  '--add-opens=java.base/sun.nio.ch=ALL-UNNAMED '\n",
      "  '--add-opens=java.base/sun.nio.cs=ALL-UNNAMED '\n",
      "  '--add-opens=java.base/sun.security.action=ALL-UNNAMED '\n",
      "  '--add-opens=java.base/sun.util.calendar=ALL-UNNAMED '\n",
      "  '--add-opens=java.security.jgss/sun.security.krb5=ALL-UNNAMED '\n",
      "  '-Djdk.reflect.useDirectMethodHandle=false'),\n",
      " ('spark.app.startTime', '1714127877385'),\n",
      " ('spark.app.id', 'local-1714127878110'),\n",
      " ('spark.executor.id', 'driver'),\n",
      " ('spark.app.submitTime', '1714127877265'),\n",
      " ('spark.driver.port', '41131'),\n",
      " ('spark.sql.catalogImplementation', 'hive'),\n",
      " ('spark.driver.host', '10.123.51.206'),\n",
      " ('spark.rdd.compress', 'True'),\n",
      " ('spark.executor.extraJavaOptions',\n",
      "  '-Djava.net.preferIPv6Addresses=false -XX:+IgnoreUnrecognizedVMOptions '\n",
      "  '--add-opens=java.base/java.lang=ALL-UNNAMED '\n",
      "  '--add-opens=java.base/java.lang.invoke=ALL-UNNAMED '\n",
      "  '--add-opens=java.base/java.lang.reflect=ALL-UNNAMED '\n",
      "  '--add-opens=java.base/java.io=ALL-UNNAMED '\n",
      "  '--add-opens=java.base/java.net=ALL-UNNAMED '\n",
      "  '--add-opens=java.base/java.nio=ALL-UNNAMED '\n",
      "  '--add-opens=java.base/java.util=ALL-UNNAMED '\n",
      "  '--add-opens=java.base/java.util.concurrent=ALL-UNNAMED '\n",
      "  '--add-opens=java.base/java.util.concurrent.atomic=ALL-UNNAMED '\n",
      "  '--add-opens=java.base/jdk.internal.ref=ALL-UNNAMED '\n",
      "  '--add-opens=java.base/sun.nio.ch=ALL-UNNAMED '\n",
      "  '--add-opens=java.base/sun.nio.cs=ALL-UNNAMED '\n",
      "  '--add-opens=java.base/sun.security.action=ALL-UNNAMED '\n",
      "  '--add-opens=java.base/sun.util.calendar=ALL-UNNAMED '\n",
      "  '--add-opens=java.security.jgss/sun.security.krb5=ALL-UNNAMED '\n",
      "  '-Djdk.reflect.useDirectMethodHandle=false'),\n",
      " ('spark.sql.warehouse.dir',\n",
      "  'hdfs://test-bgtp-06.tarcbda.local:8020/user/hive/warehouse'),\n",
      " ('spark.serializer.objectStreamReset', '100'),\n",
      " ('spark.master', 'local[*]'),\n",
      " ('spark.submit.pyFiles', ''),\n",
      " ('spark.submit.deployMode', 'client'),\n",
      " ('spark.ui.showConsoleProgress', 'true'),\n",
      " ('spark.app.name', 'Modeling')]\n"
     ]
    }
   ],
   "source": [
    "import pprint\n",
    "sc = spark.sparkContext\n",
    "conf = sc.getConf()\n",
    "configurations = conf.getAll()\n",
    "pprint.pprint(configurations)"
   ]
  },
  {
   "cell_type": "code",
   "execution_count": 94,
   "id": "ed4a9c9f-dbbb-47cc-820d-9581806e7e80",
   "metadata": {},
   "outputs": [
    {
     "data": {
      "text/plain": [
       "'hdfs://test-bgtp-06.tarcbda.local:8020/user/hive/warehouse'"
      ]
     },
     "execution_count": 94,
     "metadata": {},
     "output_type": "execute_result"
    }
   ],
   "source": [
    "conf.get('spark.sql.warehouse.dir')"
   ]
  },
  {
   "cell_type": "code",
   "execution_count": null,
   "id": "037054c4-e6c3-4621-92dc-fbddf5f716c8",
   "metadata": {},
   "outputs": [],
   "source": []
  },
  {
   "cell_type": "markdown",
   "id": "59a5d7a9-47b9-4adf-acb2-08a54418d8e9",
   "metadata": {},
   "source": [
    "<h2>2. Visualization and Analysis</h2>"
   ]
  },
  {
   "cell_type": "code",
   "execution_count": 58,
   "id": "09e573f5-4d88-484f-8879-a86ee4fa1b4a",
   "metadata": {},
   "outputs": [],
   "source": [
    "# Visualisation of Model Performance Based on Performance metrics\n",
    "import matplotlib.pyplot as plt\n",
    "import numpy as np"
   ]
  },
  {
   "cell_type": "markdown",
   "id": "e87c7111-5329-438a-9e08-facdf12783aa",
   "metadata": {},
   "source": [
    "<h3>2.1) Comparing Accuracy of Model</h3>"
   ]
  },
  {
   "cell_type": "code",
   "execution_count": 61,
   "id": "d30ecb9d-c35e-4059-b296-bc91e3285578",
   "metadata": {},
   "outputs": [
    {
     "data": {
      "image/png": "[encoded data removed]",
      "text/plain": [
       "<Figure size 640x480 with 1 Axes>"
      ]
     },
     "metadata": {},
     "output_type": "display_data"
    }
   ],
   "source": [
    "# To compare the ACCURACY of the Model\n",
    "labels = ['80% of data\\n for training (4811 records) ', '64% of data\\n for training (3855 records)']\n",
    "accuracies = [v1_accuracy, v2_accuracy]\n",
    "\n",
    "x = np.arange(len(labels))\n",
    "\n",
    "# Plotting the bar chart\n",
    "plt.bar(x, accuracies, color=['blue', 'green'])\n",
    "\n",
    "# Adding labels\n",
    "plt.xlabel('Versions')\n",
    "plt.ylabel('Accuracy')\n",
    "plt.title('Comparison of Accuracy Between Versions')\n",
    "\n",
    "# Adding value annotations on top of each bar\n",
    "for i, v in enumerate(accuracies):\n",
    "    plt.text(i, v + 0.01, str(v), ha='center')\n",
    "\n",
    "# Adding x-axis labels\n",
    "plt.xticks(x, labels)\n",
    "\n",
    "# Displaying the plot\n",
    "plt.show()"
   ]
  },
  {
   "cell_type": "markdown",
   "id": "6cf251ec-9358-4ac1-9754-37635a9727b8",
   "metadata": {},
   "source": [
    "<h3>2.2 Comparing Precision, Recall & F1-Score for Positive Sentiment</h3>"
   ]
  },
  {
   "cell_type": "code",
   "execution_count": 63,
   "id": "9e53dc69-ba4c-4c09-a364-775b5bb814d4",
   "metadata": {},
   "outputs": [
    {
     "data": {
      "image/png": "[encoded data removed]",
      "text/plain": [
       "<Figure size 1100x1000 with 1 Axes>"
      ]
     },
     "metadata": {},
     "output_type": "display_data"
    }
   ],
   "source": [
    "# To Compare the PRECISION, RECALL & F1-Score of the Model for Positive Sentiment Cases\n",
    "v1_precision_0 = round(v1_precision_0, 4)\n",
    "v1_recall_0 = round(v1_recall_0, 4)\n",
    "v1_f1_score_0 = round(v1_f1_score_0, 4)\n",
    "\n",
    "v2_precision_0 = round(v2_precision_0, 4)\n",
    "v2_recall_0 = round(v2_recall_0, 4)\n",
    "v2_f1_score_0 = round(v2_f1_score_0, 4)\n",
    "\n",
    "# Labels\n",
    "labels = ['Precision', 'Recall', 'F1 Score']\n",
    "v1_metrics = [v1_precision_0, v1_recall_0, v1_f1_score_0]\n",
    "v2_metrics = [v2_precision_0, v2_recall_0, v2_f1_score_0]\n",
    "width = 0.35  # Width of the bars\n",
    "\n",
    "x = np.arange(len(labels))\n",
    "\n",
    "# Plotting the grouped bar chart\n",
    "fig, ax = plt.subplots(figsize=(11, 10))\n",
    "rects1 = ax.bar(x - width/2, v1_metrics, width, label='80% of data for training (4811 records)')\n",
    "rects2 = ax.bar(x + width/2, v2_metrics, width, label='64% of data for training (3855 records)')\n",
    "\n",
    "# Adding labels\n",
    "ax.set_ylabel('Scores')\n",
    "ax.set_title('Comparison of Metrics Between Versions')\n",
    "ax.set_xticks(x)\n",
    "ax.set_xticklabels(labels)\n",
    "ax.legend()\n",
    "\n",
    "# Adding value annotations on top of each bar\n",
    "def autolabel(rects):\n",
    "    for rect in rects:\n",
    "        height = rect.get_height()\n",
    "        ax.annotate('{}'.format(height),\n",
    "                    xy=(rect.get_x() + rect.get_width() / 2, height),\n",
    "                    xytext=(0, 3),  # 3 points vertical offset\n",
    "                    textcoords=\"offset points\",\n",
    "                    ha='center', va='bottom')\n",
    "\n",
    "autolabel(rects1)\n",
    "autolabel(rects2)\n",
    "\n",
    "# Displaying the plot\n",
    "plt.show()"
   ]
  },
  {
   "cell_type": "markdown",
   "id": "f9221560-33d4-4539-bce8-4456395cf9eb",
   "metadata": {},
   "source": [
    "<h3>2.3 Comparing Precision, Recall & F1-Score for Negative Sentiment</h3>"
   ]
  },
  {
   "cell_type": "code",
   "execution_count": 64,
   "id": "0abe5f99-f43b-4525-a51a-4ef923a1d3d5",
   "metadata": {},
   "outputs": [
    {
     "data": {
      "image/png": "[encoded data removed]",
      "text/plain": [
       "<Figure size 1200x1000 with 1 Axes>"
      ]
     },
     "metadata": {},
     "output_type": "display_data"
    }
   ],
   "source": [
    "# To Compare the PRECISION, RECALL & F1-Score of the Model for Negative Sentiment Cases\n",
    "v1_precision_1 = round(v1_precision_1, 4)\n",
    "v1_recall_1 = round(v1_recall_1, 4)\n",
    "v1_f1_score_1 = round(v1_f1_score_1, 4)\n",
    "\n",
    "v2_precision_1 = round(v2_precision_1, 4)\n",
    "v2_recall_1 = round(v2_recall_1, 4)\n",
    "v2_f1_score_1 = round(v2_f1_score_1, 4)\n",
    "\n",
    "# Labels\n",
    "labels = ['Precision', 'Recall', 'F1 Score']\n",
    "v1_metrics = [v1_precision_1, v1_recall_1, v1_f1_score_1]\n",
    "v2_metrics = [v2_precision_1, v2_recall_1, v2_f1_score_1]\n",
    "width = 0.35  # Width of the bars\n",
    "\n",
    "x = np.arange(len(labels))\n",
    "\n",
    "# Plotting the grouped bar chart\n",
    "fig, ax = plt.subplots(figsize=(12, 10))\n",
    "rects1 = ax.bar(x - width/2, v1_metrics, width, label='80% of data for training (4811 records)')\n",
    "rects2 = ax.bar(x + width/2, v2_metrics, width, label='64% of data for training (3855 records)')\n",
    "\n",
    "# Adding labels\n",
    "ax.set_ylabel('Scores')\n",
    "ax.set_title('Comparison of Metrics Between Versions')\n",
    "ax.set_xticks(x)\n",
    "ax.set_xticklabels(labels)\n",
    "ax.legend()\n",
    "\n",
    "# Adding value annotations on top of each bar\n",
    "def autolabel(rects):\n",
    "    for rect in rects:\n",
    "        height = rect.get_height()\n",
    "        ax.annotate('{}'.format(height),\n",
    "                    xy=(rect.get_x() + rect.get_width() / 2, height),\n",
    "                    xytext=(0, 3),  # 3 points vertical offset\n",
    "                    textcoords=\"offset points\",\n",
    "                    ha='center', va='bottom')\n",
    "\n",
    "autolabel(rects1)\n",
    "autolabel(rects2)\n",
    "\n",
    "# Displaying the plot\n",
    "plt.show()"
   ]
  },
  {
   "cell_type": "markdown",
   "id": "be218944-e123-4510-b22f-d0814ff3ee33",
   "metadata": {},
   "source": [
    "<h3>2.4 Comparing Precision, Recall & F1-Score for Neutral Sentiment</h3>"
   ]
  },
  {
   "cell_type": "code",
   "execution_count": 65,
   "id": "1a187d8e-fa6f-41a1-ad4a-c94c6ede145e",
   "metadata": {},
   "outputs": [
    {
     "data": {
      "image/png": "[encoded data removed]",
      "text/plain": [
       "<Figure size 1200x1200 with 1 Axes>"
      ]
     },
     "metadata": {},
     "output_type": "display_data"
    }
   ],
   "source": [
    "# To Compare the PRECISION, RECALL & F1-Score of the Model for Neutral Sentiment Cases\n",
    "v1_precision_2 = round(v1_precision_2, 4)\n",
    "v1_recall_2 = round(v1_recall_2, 4)\n",
    "v1_f1_score_2 = round(v1_f1_score_2, 4)\n",
    "\n",
    "v2_precision_2 = round(v2_precision_2, 4)\n",
    "v2_recall_2 = round(v2_recall_2, 4)\n",
    "v2_f1_score_2 = round(v2_f1_score_2, 4)\n",
    "\n",
    "# Labels\n",
    "labels = ['Precision', 'Recall', 'F1 Score']\n",
    "v1_metrics = [v1_precision_2, v1_recall_2, v1_f1_score_2]\n",
    "v2_metrics = [v2_precision_2, v2_recall_2, v2_f1_score_2]\n",
    "width = 0.35  # Width of the bars\n",
    "\n",
    "x = np.arange(len(labels))\n",
    "\n",
    "# Plotting the grouped bar chart\n",
    "fig, ax = plt.subplots(figsize=(12, 12))\n",
    "rects1 = ax.bar(x - width/2, v1_metrics, width, label='80% of data for training (4811 records)')\n",
    "rects2 = ax.bar(x + width/2, v2_metrics, width, label='64% of data for training (3855 records')\n",
    "\n",
    "# Adding labels\n",
    "ax.set_ylabel('Scores')\n",
    "ax.set_title('Comparison of Metrics Between Versions')\n",
    "ax.set_xticks(x)\n",
    "ax.set_xticklabels(labels)\n",
    "ax.legend()\n",
    "\n",
    "# Adding value annotations on top of each bar\n",
    "def autolabel(rects):\n",
    "    for rect in rects:\n",
    "        height = rect.get_height()\n",
    "        ax.annotate('{}'.format(height),\n",
    "                    xy=(rect.get_x() + rect.get_width() / 2, height),\n",
    "                    xytext=(0, 3),  # 3 points vertical offset\n",
    "                    textcoords=\"offset points\",\n",
    "                    ha='center', va='bottom')\n",
    "\n",
    "autolabel(rects1)\n",
    "autolabel(rects2)\n",
    "\n",
    "# Displaying the plot\n",
    "plt.show()"
   ]
  },
  {
   "cell_type": "markdown",
   "id": "5f759996-56cb-4cf1-8098-a0e5d66595da",
   "metadata": {},
   "source": [
    "<h3>2.5 Displaying the Count for Each Sentiment Category (80% of data used for training)</h3>"
   ]
  },
  {
   "cell_type": "code",
   "execution_count": 103,
   "id": "37ff1e23-a325-496e-a65e-01937d5ab455",
   "metadata": {},
   "outputs": [],
   "source": [
    "import pandas as pd\n",
    "\n",
    "prediction_df = spark.sql(\"SELECT prediction FROM prediction_result_view\")\n",
    "prediction_pd = prediction_df.toPandas()"
   ]
  },
  {
   "cell_type": "code",
   "execution_count": 104,
   "id": "ec3a7a7c-1741-4a91-a2aa-72ee1b0a9269",
   "metadata": {},
   "outputs": [],
   "source": [
    "label_mapping = {1: 'Negative', 0: 'Positive', 2: 'Neutral'}\n",
    "prediction_pd['prediction'] = prediction_pd['prediction'].map(label_mapping)"
   ]
  },
  {
   "cell_type": "code",
   "execution_count": 105,
   "id": "eaed54a9-f776-4fb9-862b-d120558fd43c",
   "metadata": {},
   "outputs": [
    {
     "data": {
      "image/png": "[encoded data removed]",
      "text/plain": [
       "<Figure size 640x480 with 1 Axes>"
      ]
     },
     "metadata": {},
     "output_type": "display_data"
    }
   ],
   "source": [
    "import matplotlib.pyplot as plt\n",
    "\n",
    "# Count the occurrences of each prediction\n",
    "prediction_counts = prediction_pd['prediction'].value_counts()\n",
    "\n",
    "# Create a bar chart\n",
    "prediction_counts.plot(kind='bar', color=['red', 'green', 'blue'])  # Optional: add colors for better distinction\n",
    "plt.title('Prediction Results')\n",
    "plt.xlabel('Prediction')\n",
    "plt.ylabel('Frequency')\n",
    "plt.xticks(rotation=0)  # Keeps the labels horizontal\n",
    "plt.show()"
   ]
  },
  {
   "cell_type": "markdown",
   "id": "aa8f876b-3509-4a51-8ac7-5ebd092c28ca",
   "metadata": {},
   "source": [
    "<h3>2.6 Displaying the Count for Each Sentiment Category (64% of data used for training)</h3>"
   ]
  },
  {
   "cell_type": "code",
   "execution_count": 106,
   "id": "a397e11c-80ba-4601-9e73-b98561ea906e",
   "metadata": {},
   "outputs": [],
   "source": [
    "prediction_eva_df = spark.sql(\"SELECT prediction FROM prediction_result_eva_view\")\n",
    "\n",
    "# Convert to Pandas DataFrame\n",
    "prediction_eva_pd = prediction_eva_df.toPandas()"
   ]
  },
  {
   "cell_type": "code",
   "execution_count": 107,
   "id": "3ac03c94-3675-4db7-a6b6-c088fe7d3bbe",
   "metadata": {},
   "outputs": [],
   "source": [
    "label_mapping = {1: 'Negative', 0: 'Positive', 2: 'Neutral'}\n",
    "prediction_eva_pd['prediction'] = prediction_eva_pd['prediction'].map(label_mapping)"
   ]
  },
  {
   "cell_type": "code",
   "execution_count": 108,
   "id": "351e0f32-871c-47d4-b43b-61e70e9fd9b9",
   "metadata": {},
   "outputs": [
    {
     "data": {
      "image/png": "[encoded data removed]",
      "text/plain": [
       "<Figure size 640x480 with 1 Axes>"
      ]
     },
     "metadata": {},
     "output_type": "display_data"
    }
   ],
   "source": [
    "prediction_counts_eva = prediction_eva_pd['prediction'].value_counts()\n",
    "\n",
    "# Create a bar chart\n",
    "prediction_counts_eva.plot(kind='bar', color=['red', 'green', 'blue'])  # Adding colors for distinction\n",
    "plt.title('Prediction Results Evaluation')\n",
    "plt.xlabel('Prediction')\n",
    "plt.ylabel('Frequency')\n",
    "plt.xticks(rotation=0)  # Keeps the labels horizontal\n",
    "plt.show()"
   ]
  },
  {
   "cell_type": "markdown",
   "id": "361eacc6-b0ed-40d9-921a-6d927062da70",
   "metadata": {},
   "source": [
    "<h3>2.7 Comparing the Count for Each Sentiment Category</h3>"
   ]
  },
  {
   "cell_type": "code",
   "execution_count": 109,
   "id": "3804e4c2-9acc-4bea-96ee-c6716ec6664a",
   "metadata": {},
   "outputs": [
    {
     "data": {
      "image/png": "[encoded data removed]",
      "text/plain": [
       "<Figure size 640x480 with 1 Axes>"
      ]
     },
     "metadata": {},
     "output_type": "display_data"
    }
   ],
   "source": [
    "prediction_pd_counts = prediction_pd['prediction'].value_counts().reindex(label_mapping.values(), fill_value=0)\n",
    "\n",
    "# Group and count occurrences for prediction_eva_pd\n",
    "prediction_eva_pd_counts = prediction_eva_pd['prediction'].value_counts().reindex(label_mapping.values(), fill_value=0)\n",
    "\n",
    "# Step 2: Create the bar chart\n",
    "labels = label_mapping.values()\n",
    "\n",
    "plt.bar(labels, prediction_pd_counts, label='80% used for training (4811 records)')\n",
    "plt.bar(labels, prediction_eva_pd_counts, label='64% used for training (3855 records)', alpha=0.5)  # Making the second bars slightly transparent\n",
    "\n",
    "# Add labels and legend\n",
    "plt.xlabel('Predicted Sentiment')\n",
    "plt.ylabel('Count')\n",
    "plt.title('Prediction Comparison')\n",
    "plt.legend()\n",
    "\n",
    "plt.show()"
   ]
  },
  {
   "cell_type": "markdown",
   "id": "4078e8ae-c0b2-4add-8591-5168b7f17ffa",
   "metadata": {},
   "source": [
    "<h3>2.8 Comparing the Count for Each Sentiment Category</h3>"
   ]
  },
  {
   "cell_type": "code",
   "execution_count": 114,
   "id": "05a5b8df-eb42-4374-9dec-52d328690446",
   "metadata": {},
   "outputs": [
    {
     "data": {
      "image/png": "[encoded data removed]",
      "text/plain": [
       "<Figure size 640x480 with 1 Axes>"
      ]
     },
     "metadata": {},
     "output_type": "display_data"
    }
   ],
   "source": [
    "labels = list(label_mapping.values())\n",
    "\n",
    "# Group and count occurrences for prediction_pd\n",
    "prediction_pd_counts = prediction_pd['prediction'].value_counts().reindex(labels, fill_value=0)\n",
    "\n",
    "# Group and count occurrences for prediction_eva_pd\n",
    "prediction_eva_pd_counts = prediction_eva_pd['prediction'].value_counts().reindex(labels, fill_value=0)\n",
    "\n",
    "# Step 2: Create the bar chart\n",
    "x = range(len(labels))\n",
    "\n",
    "plt.bar(x, prediction_pd_counts, width=0.4, label='80% training (4811 records)')\n",
    "plt.bar([i + 0.4 for i in x], prediction_eva_pd_counts, width=0.4, label='64% training (3855 records)')\n",
    "\n",
    "# Add labels and legend\n",
    "plt.xlabel('Sentiment')\n",
    "plt.ylabel('Count')\n",
    "plt.title('Prediction Comparison')\n",
    "plt.xticks([i + 0.2 for i in x], labels)\n",
    "plt.legend()\n",
    "\n",
    "plt.show()"
   ]
  },
  {
   "cell_type": "markdown",
   "id": "0dc56132-12ac-42d9-b75f-cdc2c33c72f3",
   "metadata": {},
   "source": [
    "<h3>2.9 Comparing the Count for Each Sentiment Category</h3>"
   ]
  },
  {
   "cell_type": "code",
   "execution_count": 112,
   "id": "110420a7-fa38-4206-9431-6868196ab90b",
   "metadata": {},
   "outputs": [
    {
     "data": {
      "image/png": "[encoded data removed]",
      "text/plain": [
       "<Figure size 1000x500 with 2 Axes>"
      ]
     },
     "metadata": {},
     "output_type": "display_data"
    }
   ],
   "source": [
    "# Step 1: Prepare the data\n",
    "labels = list(label_mapping.values())\n",
    "\n",
    "# Calculate proportions for prediction_pd\n",
    "prediction_pd_counts = prediction_pd['prediction'].value_counts().reindex(labels, fill_value=0)\n",
    "total_pd = prediction_pd_counts.sum()\n",
    "prediction_pd_proportions = prediction_pd_counts / total_pd\n",
    "\n",
    "# Calculate proportions for prediction_eva_pd\n",
    "prediction_eva_pd_counts = prediction_eva_pd['prediction'].value_counts().reindex(labels, fill_value=0)\n",
    "total_eva_pd = prediction_eva_pd_counts.sum()\n",
    "prediction_eva_pd_proportions = prediction_eva_pd_counts / total_eva_pd\n",
    "\n",
    "# Step 2: Create the pie chart\n",
    "fig, ax = plt.subplots(1, 2, figsize=(10, 5))\n",
    "\n",
    "# Plot pie chart for prediction_pd\n",
    "ax[0].pie(prediction_pd_proportions, labels=labels, autopct='%1.1f%%', startangle=90)\n",
    "ax[0].set_title('80% used for training (4811 records)')\n",
    "\n",
    "# Plot pie chart for prediction_eva_pd\n",
    "ax[1].pie(prediction_eva_pd_proportions, labels=labels, autopct='%1.1f%%', startangle=90)\n",
    "ax[1].set_title('64% used for training (3855 records)')\n",
    "\n",
    "plt.show()\n"
   ]
  },
  {
   "cell_type": "code",
   "execution_count": 66,
   "id": "e556db5d-38e8-44a9-8241-16f3be6b6f31",
   "metadata": {},
   "outputs": [],
   "source": [
    "spark.stop()"
   ]
  },
  {
   "cell_type": "code",
   "execution_count": null,
   "id": "6ea1f16e-3b19-4b33-aa07-d63ca134d1f5",
   "metadata": {},
   "outputs": [],
   "source": []
  }
 ],
 "metadata": {
  "kernelspec": {
   "display_name": "de_venv",
   "language": "python",
   "name": "de_venv"
  },
  "language_info": {
   "codemirror_mode": {
    "name": "ipython",
    "version": 3
   },
   "file_extension": ".py",
   "mimetype": "text/x-python",
   "name": "python",
   "nbconvert_exporter": "python",
   "pygments_lexer": "ipython3",
   "version": "3.10.12"
  }
 },
 "nbformat": 4,
 "nbformat_minor": 5
}
