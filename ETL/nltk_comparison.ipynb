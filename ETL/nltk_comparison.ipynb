{
 "cells": [
  {
   "cell_type": "code",
   "execution_count": 1,
   "id": "425ef0be-9696-4cb8-a025-0f2a77d0789f",
   "metadata": {},
   "outputs": [],
   "source": [
    "from pyspark.sql import SparkSession"
   ]
  },
  {
   "cell_type": "code",
   "execution_count": 2,
   "id": "d179c24b-aa01-459c-8d45-3c48a59f5b60",
   "metadata": {},
   "outputs": [
    {
     "name": "stderr",
     "output_type": "stream",
     "text": [
      "24/04/13 08:06:45 WARN Utils: Your hostname, jupy-06 resolves to a loopback address: 127.0.1.1; using 10.123.51.206 instead (on interface ens18)\n",
      "24/04/13 08:06:45 WARN Utils: Set SPARK_LOCAL_IP if you need to bind to another address\n",
      "Setting default log level to \"WARN\".\n",
      "To adjust logging level use sc.setLogLevel(newLevel). For SparkR, use setLogLevel(newLevel).\n",
      "24/04/13 08:06:46 WARN NativeCodeLoader: Unable to load native-hadoop library for your platform... using builtin-java classes where applicable\n"
     ]
    }
   ],
   "source": [
    "spark = SparkSession.builder \\\n",
    "    .appName(\"HDFS Access\") \\\n",
    "    .getOrCreate()"
   ]
  },
  {
   "cell_type": "code",
   "execution_count": 3,
   "id": "1fad2e6d-3383-4e37-b33a-ad84d5baa348",
   "metadata": {},
   "outputs": [],
   "source": [
    "hdfs_file_path =\"hdfs://10.123.51.194/user/g23/KGCleaned.csv\""
   ]
  },
  {
   "cell_type": "code",
   "execution_count": 4,
   "id": "b776f0cd-447b-40fb-8377-d76f7e900358",
   "metadata": {
    "editable": true,
    "slideshow": {
     "slide_type": ""
    },
    "tags": []
   },
   "outputs": [
    {
     "name": "stderr",
     "output_type": "stream",
     "text": [
      "24/04/13 08:06:56 WARN DomainSocketFactory: The short-circuit local reads feature cannot be used because libhadoop cannot be loaded.\n"
     ]
    }
   ],
   "source": [
    "kgcleaned= spark.read.csv(hdfs_file_path, header=True)"
   ]
  },
  {
   "cell_type": "code",
   "execution_count": 5,
   "id": "aebaaed6-83d0-47be-a557-6cb1ba775e97",
   "metadata": {},
   "outputs": [
    {
     "name": "stdout",
     "output_type": "stream",
     "text": [
      "+--------------------+-------+---------------------+--------------+----------------------------+\n",
      "|              review|ratings|Sentiment for ratings|SentimentScore|Sentiment for SentimentScore|\n",
      "+--------------------+-------+---------------------+--------------+----------------------------+\n",
      "|reminds old cod o...|      5|             Positive|        0.2944|                    Positive|\n",
      "|really really lov...|      5|             Positive|        0.9227|                    Positive|\n",
      "|love app sometime...|      5|             Positive|        0.9524|                    Positive|\n",
      "|632022 update gla...|      4|             Positive|        0.9559|                    Positive|\n",
      "|freaking phenomen...|      5|             Positive|        0.9628|                    Positive|\n",
      "|exciting game exc...|      5|             Positive|        0.9251|                    Positive|\n",
      "|excellent game go...|      4|             Positive|        0.7579|                    Positive|\n",
      "|bot annoying af r...|      3|              Neutral|       -0.7717|                    Negative|\n",
      "|great game last u...|      4|             Positive|        0.5267|                    Positive|\n",
      "|really like graph...|      5|             Positive|        0.9755|                    Positive|\n",
      "|best fps experien...|      5|             Positive|        0.9746|                    Positive|\n",
      "|cool game playing...|      4|             Positive|       -0.4472|                    Negative|\n",
      "|great game love t...|      4|             Positive|       -0.6929|                    Negative|\n",
      "|game amazing imme...|      5|             Positive|          0.34|                    Positive|\n",
      "|game awesome im d...|      5|             Positive|        0.9735|                    Positive|\n",
      "|okay game awesome...|      5|             Positive|          0.93|                    Positive|\n",
      "|game quite nice o...|      3|              Neutral|       -0.8958|                    Negative|\n",
      "|great game random...|      5|             Positive|        0.8126|                    Positive|\n",
      "|find game fun pla...|      4|             Positive|        0.9747|                    Positive|\n",
      "|simply great cod ...|      3|              Neutral|        0.9118|                    Positive|\n",
      "+--------------------+-------+---------------------+--------------+----------------------------+\n",
      "only showing top 20 rows\n",
      "\n"
     ]
    }
   ],
   "source": [
    "kgcleaned.show()"
   ]
  },
  {
   "cell_type": "code",
   "execution_count": 6,
   "id": "5e7a227f-fcc3-4b61-9217-afdc2467c837",
   "metadata": {},
   "outputs": [],
   "source": [
    "# Convert Spark DataFrame to Pandas DataFrame\n",
    "pandas_df = kgcleaned.toPandas()\n",
    "\n",
    "# Specify the file path where you want to save the CSV file\n",
    "csv_file_path = \"file.csv\"\n",
    "\n",
    "# Save the Pandas DataFrame to a CSV file\n",
    "pandas_df.to_csv(csv_file_path, index=False)"
   ]
  },
  {
   "cell_type": "code",
   "execution_count": 8,
   "id": "6c807cf1-c4e2-4568-bed4-f66db0541ac5",
   "metadata": {},
   "outputs": [],
   "source": [
    "#To prove that NLTK is suitable for labeling, we had use the perfect dataset - kaggle dataset which already have correct label to perform pretrain nltk and get the labeling accuracy"
   ]
  },
  {
   "cell_type": "code",
   "execution_count": 9,
   "id": "db6d43fb-6a5a-4dc9-91a2-d628abc27afb",
   "metadata": {},
   "outputs": [
    {
     "name": "stdout",
     "output_type": "stream",
     "text": [
      "+--------------------+-------+---------------------+--------------+----------------------------+\n",
      "|              review|ratings|Sentiment for ratings|SentimentScore|Sentiment for SentimentScore|\n",
      "+--------------------+-------+---------------------+--------------+----------------------------+\n",
      "|reminds old cod o...|      5|             Positive|        0.2944|                    Positive|\n",
      "|really really lov...|      5|             Positive|        0.9227|                    Positive|\n",
      "|love app sometime...|      5|             Positive|        0.9524|                    Positive|\n",
      "|632022 update gla...|      4|             Positive|        0.9559|                    Positive|\n",
      "|freaking phenomen...|      5|             Positive|        0.9628|                    Positive|\n",
      "|exciting game exc...|      5|             Positive|        0.9251|                    Positive|\n",
      "|excellent game go...|      4|             Positive|        0.7579|                    Positive|\n",
      "|bot annoying af r...|      3|              Neutral|       -0.7717|                    Negative|\n",
      "|great game last u...|      4|             Positive|        0.5267|                    Positive|\n",
      "|really like graph...|      5|             Positive|        0.9755|                    Positive|\n",
      "|best fps experien...|      5|             Positive|        0.9746|                    Positive|\n",
      "|cool game playing...|      4|             Positive|       -0.4472|                    Negative|\n",
      "|great game love t...|      4|             Positive|       -0.6929|                    Negative|\n",
      "|game amazing imme...|      5|             Positive|          0.34|                    Positive|\n",
      "|game awesome im d...|      5|             Positive|        0.9735|                    Positive|\n",
      "|okay game awesome...|      5|             Positive|          0.93|                    Positive|\n",
      "|game quite nice o...|      3|              Neutral|       -0.8958|                    Negative|\n",
      "|great game random...|      5|             Positive|        0.8126|                    Positive|\n",
      "|find game fun pla...|      4|             Positive|        0.9747|                    Positive|\n",
      "|simply great cod ...|      3|              Neutral|        0.9118|                    Positive|\n",
      "+--------------------+-------+---------------------+--------------+----------------------------+\n",
      "only showing top 20 rows\n",
      "\n"
     ]
    }
   ],
   "source": [
    "kgcleaned.show()"
   ]
  },
  {
   "cell_type": "code",
   "execution_count": 10,
   "id": "8d30cac6-6348-4095-8148-7a8bad8ad22e",
   "metadata": {
    "editable": true,
    "slideshow": {
     "slide_type": ""
    },
    "tags": []
   },
   "outputs": [
    {
     "name": "stdout",
     "output_type": "stream",
     "text": [
      "Percentage of similarity between 'Sentiment for ratings' and 'Sentiment for SentimentScore': 60.407006697578566\n"
     ]
    }
   ],
   "source": [
    "from pyspark.sql.functions import col\n",
    "# Calculate the total number of rows\n",
    "total_rows = kgcleaned.count()\n",
    "\n",
    "# Calculate the number of rows where the two columns have the same value\n",
    "same_values_count = kgcleaned.filter(col('Sentiment for ratings') == col('Sentiment for SentimentScore')).count()\n",
    "\n",
    "# Calculate the percentage of similarity\n",
    "similarity_percentage = (same_values_count / total_rows) * 100\n",
    "\n",
    "print(\"Percentage of similarity between 'Sentiment for ratings' and 'Sentiment for SentimentScore':\", similarity_percentage)\n"
   ]
  },
  {
   "cell_type": "code",
   "execution_count": 3,
   "id": "5cd1a583-c2c1-417b-bd97-ed6e3ce43937",
   "metadata": {},
   "outputs": [],
   "source": [
    "# pip install -q transformers"
   ]
  },
  {
   "cell_type": "code",
   "execution_count": 2,
   "id": "048f821f-daa6-4fb7-9108-bccf3250f4c5",
   "metadata": {},
   "outputs": [],
   "source": [
    "# pip uninstall tensorflow"
   ]
  },
  {
   "cell_type": "code",
   "execution_count": null,
   "id": "94f196f0-dc17-434d-ad98-2f12f9ae5c69",
   "metadata": {},
   "outputs": [],
   "source": []
  }
 ],
 "metadata": {
  "kernelspec": {
   "display_name": "de_venv",
   "language": "python",
   "name": "de_venv"
  },
  "language_info": {
   "codemirror_mode": {
    "name": "ipython",
    "version": 3
   },
   "file_extension": ".py",
   "mimetype": "text/x-python",
   "name": "python",
   "nbconvert_exporter": "python",
   "pygments_lexer": "ipython3",
   "version": "3.10.12"
  }
 },
 "nbformat": 4,
 "nbformat_minor": 5
}
