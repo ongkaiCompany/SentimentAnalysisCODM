{
 "cells": [
  {
   "cell_type": "code",
   "execution_count": null,
   "metadata": {},
   "outputs": [],
   "source": [
    "#use pyspark dataframe"
   ]
  },
  {
   "cell_type": "code",
   "execution_count": 1,
   "metadata": {
    "colab": {
     "base_uri": "https://localhost:8080/"
    },
    "id": "Dg9kAh5Gr6c9",
    "outputId": "78056b45-74ba-4149-b867-6de8e7cb5794"
   },
   "outputs": [],
   "source": [
    "#pip install praw"
   ]
  },
  {
   "cell_type": "code",
   "execution_count": 2,
   "metadata": {
    "id": "ho0l28sFrRWD"
   },
   "outputs": [],
   "source": [
    "import socket\n",
    "import csv\n",
    "import pandas as pd\n",
    "import json\n",
    "import praw\n",
    "from bs4 import BeautifulSoup\n",
    "from pyspark.sql import Row"
   ]
  },
  {
   "cell_type": "code",
   "execution_count": 3,
   "metadata": {
    "id": "1QesouHh-egI"
   },
   "outputs": [],
   "source": [
    "my_client_id = 'RnK5sYk-GgkzUPk3wHZHsA'\n",
    "my_client_secret = 'bKaBlHbsCIVYLd3U-xwcqjDWjEIjcw'\n",
    "my_user_agent = 'example'\n",
    "\n",
    "\n",
    "\n",
    "reddit = praw.Reddit(client_id=my_client_id,\n",
    "                     client_secret=my_client_secret,\n",
    "                     user_agent=my_user_agent)\n",
    "\n",
    "brands = ['callofdutymobile']"
   ]
  },
  {
   "cell_type": "code",
   "execution_count": 4,
   "metadata": {},
   "outputs": [
    {
     "name": "stderr",
     "output_type": "stream",
     "text": [
      "24/04/04 14:49:48 WARN Utils: Your hostname, jupy-06 resolves to a loopback address: 127.0.1.1; using 10.123.51.206 instead (on interface ens18)\n",
      "24/04/04 14:49:48 WARN Utils: Set SPARK_LOCAL_IP if you need to bind to another address\n",
      "Setting default log level to \"WARN\".\n",
      "To adjust logging level use sc.setLogLevel(newLevel). For SparkR, use setLogLevel(newLevel).\n",
      "24/04/04 14:49:48 WARN NativeCodeLoader: Unable to load native-hadoop library for your platform... using builtin-java classes where applicable\n"
     ]
    }
   ],
   "source": [
    "# Building the SparkSession and name\n",
    "# it :'pandas to spark'\n",
    "spark = SparkSession.builder.appName(\n",
    "  \"pandas to spark\").getOrCreate()                                             "
   ]
  },
  {
   "cell_type": "code",
   "execution_count": 5,
   "metadata": {
    "colab": {
     "base_uri": "https://localhost:8080/",
     "height": 1000
    },
    "id": "poxeTtZ8r5k5",
    "outputId": "4b5b3744-7f75-4901-dc24-0b4418b79d67"
   },
   "outputs": [
    {
     "name": "stderr",
     "output_type": "stream",
     "text": [
      "                                                                                \r"
     ]
    },
    {
     "name": "stdout",
     "output_type": "stream",
     "text": [
      "+--------------------+----------+-------+----------------+--------------------+--------------------+-------------+----------+---------------+------------+\n",
      "|               title|post_score|post_id|       subreddit|                 url|             comment|comment_score|comment_id|comment_created|reply_number|\n",
      "+--------------------+----------+-------+----------------+--------------------+--------------------+-------------+----------+---------------+------------+\n",
      "|Call of Duty: Mob...|         7|1be6f25|callofdutymobile|https://www.reddi...|Please report any...|            1|   kvi01uq|  1.710803096E9|          75|\n",
      "|Call of Duty: Mob...|         7|1be6f25|callofdutymobile|https://www.reddi...|Hey devs, the new...|           27|   kurfpzv|  1.710375314E9|          75|\n",
      "|Call of Duty: Mob...|         7|1be6f25|callofdutymobile|https://www.reddi...| First.\\n\\n#ALCATRAZ|           42|   kur9acw|  1.710372967E9|          75|\n",
      "|Call of Duty: Mob...|         7|1be6f25|callofdutymobile|https://www.reddi...|So you’re removin...|           15|   kurm9ad|   1.71037771E9|          75|\n",
      "|Call of Duty: Mob...|         7|1be6f25|callofdutymobile|https://www.reddi...|Dear social media...|           24|   kura02r|  1.710373228E9|          75|\n",
      "|Call of Duty: Mob...|         7|1be6f25|callofdutymobile|https://www.reddi...|Will BR get a mod...|           12|   kurcofs|  1.710374216E9|          75|\n",
      "|Call of Duty: Mob...|         7|1be6f25|callofdutymobile|https://www.reddi...|What's your repla...|            5|   kurj9or|  1.710376609E9|          75|\n",
      "|Call of Duty: Mob...|         7|1be6f25|callofdutymobile|https://www.reddi...|Thanks for the ef...|            9|   kurep73|  1.710374946E9|          75|\n",
      "|Call of Duty: Mob...|         7|1be6f25|callofdutymobile|https://www.reddi...|BRING BACK SHOOT ...|            5|   kurdfjl|   1.71037449E9|          75|\n",
      "|Call of Duty: Mob...|         7|1be6f25|callofdutymobile|https://www.reddi...|u/COD_Mobile_Offi...|            3|   kurrxk9|  1.710379844E9|          75|\n",
      "|Call of Duty: Mob...|         7|1be6f25|callofdutymobile|https://www.reddi...|Anything is gonna...|            3|   kus49b1|  1.710384626E9|          75|\n",
      "|Call of Duty: Mob...|         7|1be6f25|callofdutymobile|https://www.reddi...|How many hackers/...|            3|   kus56p6|  1.710385006E9|          75|\n",
      "|Call of Duty: Mob...|         7|1be6f25|callofdutymobile|https://www.reddi...|Why don't you upd...|            3|   kusb7y6|  1.710387618E9|          75|\n",
      "|Call of Duty: Mob...|         7|1be6f25|callofdutymobile|https://www.reddi...|I'm excited for t...|            3|   kusgyoz|  1.710390357E9|          75|\n",
      "|Call of Duty: Mob...|         7|1be6f25|callofdutymobile|https://www.reddi...|update the for yo...|            3|   kuspq6k|  1.710395342E9|          75|\n",
      "|Call of Duty: Mob...|         7|1be6f25|callofdutymobile|https://www.reddi...|At least bring ba...|            3|   kuswk27|  1.710400039E9|          75|\n",
      "|Call of Duty: Mob...|         7|1be6f25|callofdutymobile|https://www.reddi...|Are we ever getti...|            3|   kuu2gzw|  1.710424502E9|          75|\n",
      "|Call of Duty: Mob...|         7|1be6f25|callofdutymobile|https://www.reddi...|Hi u/COD_Mobile_O...|            5|   kurgb68|  1.710375528E9|          75|\n",
      "|Call of Duty: Mob...|         7|1be6f25|callofdutymobile|https://www.reddi...|please add spectr...|            5|   kurd0i3|  1.710374337E9|          75|\n",
      "|Call of Duty: Mob...|         7|1be6f25|callofdutymobile|https://www.reddi...|Any plans for zom...|            3|   kurec17|  1.710374812E9|          75|\n",
      "+--------------------+----------+-------+----------------+--------------------+--------------------+-------------+----------+---------------+------------+\n",
      "only showing top 20 rows\n",
      "\n"
     ]
    }
   ],
   "source": [
    "\n",
    "\n",
    "all_posts = []\n",
    "\n",
    "for brand in brands:\n",
    "    game_subreddit = reddit.subreddit(brand)\n",
    "    for post in game_subreddit.hot(limit=100):  # Adjust limit as needed\n",
    "        post.comments.replace_more(limit=None)  # Retrieve all comments\n",
    "        for comment in post.comments.list():\n",
    "            row = Row(title=post.title, post_score=post.score, post_id=post.id,\n",
    "                      subreddit=game_subreddit.display_name, url=post.url,\n",
    "                      comment=comment.body, comment_score=comment.score,\n",
    "                      comment_id=comment.id, comment_created=comment.created,\n",
    "                     reply_number=post.num_comments)\n",
    "            all_posts.append(row)\n",
    "\n",
    "# Create DataFrame from list of Rows\n",
    "df = spark.createDataFrame(all_posts)\n",
    " \n",
    "df.show()\n",
    "# Concatenate all the rows into a single DataFrame\n",
    "#df = pd.concat(all_posts, ignore_index=True)\n",
    "\n",
    "# Print the DataFrame\n",
    "#df"
   ]
  },
  {
   "cell_type": "code",
   "execution_count": 17,
   "metadata": {},
   "outputs": [
    {
     "data": {
      "text/plain": [
       "['title',\n",
       " 'post_score',\n",
       " 'post_id',\n",
       " 'subreddit',\n",
       " 'url',\n",
       " 'comment',\n",
       " 'comment_score',\n",
       " 'comment_id',\n",
       " 'comment_created',\n",
       " 'reply_number']"
      ]
     },
     "execution_count": 17,
     "metadata": {},
     "output_type": "execute_result"
    }
   ],
   "source": [
    "df.columns"
   ]
  },
  {
   "cell_type": "code",
   "execution_count": 18,
   "metadata": {},
   "outputs": [],
   "source": [
    "from pyspark.sql.functions import regexp_replace\n",
    "df = df.withColumn(\"comment\", regexp_replace(\"comment\", \"[\\n\\r]\", \"\"))"
   ]
  },
  {
   "cell_type": "code",
   "execution_count": 7,
   "metadata": {},
   "outputs": [
    {
     "data": {
      "text/plain": [
       "1359"
      ]
     },
     "execution_count": 7,
     "metadata": {},
     "output_type": "execute_result"
    }
   ],
   "source": [
    "df.count()"
   ]
  },
  {
   "cell_type": "code",
   "execution_count": 19,
   "metadata": {
    "colab": {
     "base_uri": "https://localhost:8080/"
    },
    "id": "xcRIYQlGtiEJ",
    "outputId": "a55f149f-31c6-47f0-8fba-d36ea308189a"
   },
   "outputs": [],
   "source": [
    "redditPath = \"hdfs://10.123.51.194/user/g23/spark_hdfs_data_crawlingv3\"\n",
    "df.write.option(\"header\",True).csv(redditPath)\n"
   ]
  },
  {
   "cell_type": "code",
   "execution_count": 20,
   "metadata": {},
   "outputs": [
    {
     "name": "stdout",
     "output_type": "stream",
     "text": [
      "+--------------------+----------+-------+----------------+--------------------+--------------------+-------------+----------+---------------+------------+\n",
      "|               title|post_score|post_id|       subreddit|                 url|             comment|comment_score|comment_id|comment_created|reply_number|\n",
      "+--------------------+----------+-------+----------------+--------------------+--------------------+-------------+----------+---------------+------------+\n",
      "|Call of Duty: Mob...|         7|1be6f25|callofdutymobile|https://www.reddi...|Please report any...|            1|   kvi01uq|  1.710803096E9|          75|\n",
      "|Call of Duty: Mob...|         7|1be6f25|callofdutymobile|https://www.reddi...|Hey devs, the new...|           27|   kurfpzv|  1.710375314E9|          75|\n",
      "|Call of Duty: Mob...|         7|1be6f25|callofdutymobile|https://www.reddi...|     First.#ALCATRAZ|           42|   kur9acw|  1.710372967E9|          75|\n",
      "|Call of Duty: Mob...|         7|1be6f25|callofdutymobile|https://www.reddi...|So you’re removin...|           15|   kurm9ad|   1.71037771E9|          75|\n",
      "|Call of Duty: Mob...|         7|1be6f25|callofdutymobile|https://www.reddi...|Dear social media...|           24|   kura02r|  1.710373228E9|          75|\n",
      "|Call of Duty: Mob...|         7|1be6f25|callofdutymobile|https://www.reddi...|Will BR get a mod...|           12|   kurcofs|  1.710374216E9|          75|\n",
      "|Call of Duty: Mob...|         7|1be6f25|callofdutymobile|https://www.reddi...|What's your repla...|            5|   kurj9or|  1.710376609E9|          75|\n",
      "|Call of Duty: Mob...|         7|1be6f25|callofdutymobile|https://www.reddi...|Thanks for the ef...|            9|   kurep73|  1.710374946E9|          75|\n",
      "|Call of Duty: Mob...|         7|1be6f25|callofdutymobile|https://www.reddi...|BRING BACK SHOOT ...|            5|   kurdfjl|   1.71037449E9|          75|\n",
      "|Call of Duty: Mob...|         7|1be6f25|callofdutymobile|https://www.reddi...|u/COD_Mobile_Offi...|            3|   kurrxk9|  1.710379844E9|          75|\n",
      "|Call of Duty: Mob...|         7|1be6f25|callofdutymobile|https://www.reddi...|Anything is gonna...|            3|   kus49b1|  1.710384626E9|          75|\n",
      "|Call of Duty: Mob...|         7|1be6f25|callofdutymobile|https://www.reddi...|How many hackers/...|            3|   kus56p6|  1.710385006E9|          75|\n",
      "|Call of Duty: Mob...|         7|1be6f25|callofdutymobile|https://www.reddi...|Why don't you upd...|            3|   kusb7y6|  1.710387618E9|          75|\n",
      "|Call of Duty: Mob...|         7|1be6f25|callofdutymobile|https://www.reddi...|I'm excited for t...|            3|   kusgyoz|  1.710390357E9|          75|\n",
      "|Call of Duty: Mob...|         7|1be6f25|callofdutymobile|https://www.reddi...|update the for yo...|            3|   kuspq6k|  1.710395342E9|          75|\n",
      "|Call of Duty: Mob...|         7|1be6f25|callofdutymobile|https://www.reddi...|At least bring ba...|            3|   kuswk27|  1.710400039E9|          75|\n",
      "|Call of Duty: Mob...|         7|1be6f25|callofdutymobile|https://www.reddi...|Are we ever getti...|            3|   kuu2gzw|  1.710424502E9|          75|\n",
      "|Call of Duty: Mob...|         7|1be6f25|callofdutymobile|https://www.reddi...|Hi u/COD_Mobile_O...|            5|   kurgb68|  1.710375528E9|          75|\n",
      "|Call of Duty: Mob...|         7|1be6f25|callofdutymobile|https://www.reddi...|please add spectr...|            5|   kurd0i3|  1.710374337E9|          75|\n",
      "|Call of Duty: Mob...|         7|1be6f25|callofdutymobile|https://www.reddi...|Any plans for zom...|            3|   kurec17|  1.710374812E9|          75|\n",
      "+--------------------+----------+-------+----------------+--------------------+--------------------+-------------+----------+---------------+------------+\n",
      "only showing top 20 rows\n",
      "\n"
     ]
    }
   ],
   "source": [
    "rd_df = spark.read.csv(\"hdfs://10.123.51.194/user/g23/spark_hdfs_data_crawlingv3\", header=True)\n",
    "rd_df.show(20)"
   ]
  },
  {
   "cell_type": "code",
   "execution_count": 21,
   "metadata": {},
   "outputs": [
    {
     "data": {
      "text/plain": [
       "1359"
      ]
     },
     "execution_count": 21,
     "metadata": {},
     "output_type": "execute_result"
    }
   ],
   "source": [
    "rd_df.count()"
   ]
  }
 ],
 "metadata": {
  "accelerator": "GPU",
  "colab": {
   "gpuType": "T4",
   "provenance": []
  },
  "kernelspec": {
   "display_name": "de_venv",
   "language": "python",
   "name": "de_venv"
  },
  "language_info": {
   "codemirror_mode": {
    "name": "ipython",
    "version": 3
   },
   "file_extension": ".py",
   "mimetype": "text/x-python",
   "name": "python",
   "nbconvert_exporter": "python",
   "pygments_lexer": "ipython3",
   "version": "3.10.12"
  }
 },
 "nbformat": 4,
 "nbformat_minor": 4
}
