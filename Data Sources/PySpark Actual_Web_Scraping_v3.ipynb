{
 "cells": [
  {
   "cell_type": "code",
   "execution_count": 1,
   "metadata": {
    "id": "MhiFvj4NiS0o"
   },
   "outputs": [],
   "source": [
    "\n",
    "import json\n",
    "import sys\n",
    "import re\n",
    "import time\n",
    "import warnings\n",
    "import requests\n",
    "import re\n",
    "import pyspark\n",
    "from pyspark.sql import SparkSession\n",
    "from pyspark.sql.types import *\n",
    "\n",
    "warnings.filterwarnings('ignore')"
   ]
  },
  {
   "cell_type": "code",
   "execution_count": 2,
   "metadata": {
    "colab": {
     "base_uri": "https://localhost:8080/"
    },
    "id": "Th61uql4jvHk",
    "outputId": "7ec35e0e-e79d-4681-91c1-732cda785a8a"
   },
   "outputs": [
    {
     "name": "stdout",
     "output_type": "stream",
     "text": [
      "https://www.youtube.com/watch?v=M73hdSxW1sM\n",
      "https://www.youtube.com/watch?v=siM4W-4nuMc\n",
      "https://www.youtube.com/watch?v=ixGaMxHs6A4\n",
      "https://www.youtube.com/watch?v=kni1w-JxViw\n",
      "https://www.youtube.com/watch?v=VY6mcZmetYU\n",
      "https://www.youtube.com/watch?v=LE4SpImAQdY\n",
      "https://www.youtube.com/watch?v=EtOtuQmaljU\n",
      "https://www.youtube.com/watch?v=6u2wdQNxs-Q\n",
      "https://www.youtube.com/watch?v=2rL4foKjtsA\n",
      "https://www.youtube.com/watch?v=zlmI7ioQ_iY\n",
      "https://www.youtube.com/watch?v=NatBX3VjnWw\n",
      "https://www.youtube.com/watch?v=WHLkF566Jn4\n",
      "https://www.youtube.com/watch?v=MW0UGCIg1tU\n",
      "https://www.youtube.com/watch?v=MaBiS5JvoYc\n",
      "https://www.youtube.com/watch?v=CPDxA69zbi8\n",
      "https://www.youtube.com/watch?v=GZi0Y4HvOS8\n",
      "https://www.youtube.com/watch?v=NO4ikM9CfYY\n",
      "https://www.youtube.com/watch?v=Fj6W2iMtKwE\n",
      "https://www.youtube.com/watch?v=UYvKs8b74qs\n",
      "https://www.youtube.com/watch?v=ms8wiprrdns\n",
      "https://www.youtube.com/watch?v=M_VX_8JIe_A\n",
      "https://www.youtube.com/watch?v=NDYG3j24zko\n",
      "https://www.youtube.com/watch?v=G5UsHG2HVjM\n",
      "https://www.youtube.com/watch?v=u9I46dpK_sU\n",
      "https://www.youtube.com/watch?v=mXNbd9oTvSc\n",
      "https://www.youtube.com/watch?v=pUibTylbU5k\n",
      "https://www.youtube.com/watch?v=h45laNr9EvQ\n",
      "https://www.youtube.com/watch?v=hobSJaKgQMI\n",
      "https://www.youtube.com/watch?v=s6wloAqwbkc\n",
      "https://www.youtube.com/watch?v=DTcU9GD1PmQ\n",
      "https://www.youtube.com/watch?v=WtgsvvRWKLs\n",
      "https://www.youtube.com/watch?v=LztFpss6tWQ\n",
      "https://www.youtube.com/watch?v=ixnFbw-TOZw\n",
      "https://www.youtube.com/watch?v=kzdBUuzNfb8\n",
      "https://www.youtube.com/watch?v=bgq6tCQL0JQ\n",
      "https://www.youtube.com/watch?v=YwcYcAdzccc\n",
      "https://www.youtube.com/watch?v=rRkppsLGswo\n",
      "https://www.youtube.com/watch?v=hkLy5_8frs8\n",
      "https://www.youtube.com/watch?v=jLX-pY3HMXA\n",
      "https://www.youtube.com/watch?v=lV0YDXEaiz8\n",
      "https://www.youtube.com/watch?v=LaTgztlfr-w\n",
      "https://www.youtube.com/watch?v=x-lWhvVaUsk\n",
      "https://www.youtube.com/watch?v=wBcs6d2zUN8\n",
      "https://www.youtube.com/watch?v=7eL3_0MlJxA\n",
      "https://www.youtube.com/watch?v=7XTZeurZgOM\n",
      "https://www.youtube.com/watch?v=v96PqM8XyJg\n",
      "https://www.youtube.com/watch?v=zBKM-GTO0eo\n",
      "https://www.youtube.com/watch?v=o0onnMx67PI\n",
      "https://www.youtube.com/watch?v=IEgypM-TyKk\n",
      "https://www.youtube.com/watch?v=wP09NnFrtfw\n",
      "https://www.youtube.com/watch?v=f-OlElbzZJM\n",
      "https://www.youtube.com/watch?v=9eRN2Upmw2Q\n",
      "https://www.youtube.com/watch?v=LhxPKvwX9_I\n",
      "https://www.youtube.com/watch?v=Ih6dphFyyqU\n",
      "https://www.youtube.com/watch?v=i5WD5ylgm3U\n",
      "https://www.youtube.com/watch?v=lPLpPksn0bg\n",
      "https://www.youtube.com/watch?v=lJW98uavjx0\n",
      "https://www.youtube.com/watch?v=fYSSB_XmrwU\n",
      "https://www.youtube.com/watch?v=E6UnQfozOS8\n",
      "https://www.youtube.com/watch?v=9ZH6XhmvHX4\n",
      "https://www.youtube.com/watch?v=b91RHKCOfXU\n",
      "https://www.youtube.com/watch?v=y9tAUhNDL_0\n",
      "https://www.youtube.com/watch?v=3I2p8w23PoU\n",
      "https://www.youtube.com/watch?v=qqo3DTukEBs\n",
      "https://www.youtube.com/watch?v=8fkSH-Ac080\n",
      "https://www.youtube.com/watch?v=ii-WESZLYLs\n",
      "https://www.youtube.com/watch?v=zyPUQKXMDfo\n",
      "https://www.youtube.com/watch?v=o9hOo3seO54\n",
      "https://www.youtube.com/watch?v=FNkzYAOax7U\n",
      "https://www.youtube.com/watch?v=4OLpbzR4Qks\n",
      "https://www.youtube.com/watch?v=tGh9Ybv_kBc\n",
      "https://www.youtube.com/watch?v=FIoS44pJYjE\n",
      "https://www.youtube.com/watch?v=xMELfDQv5SA\n",
      "https://www.youtube.com/watch?v=HQ7YQ6X3Mbc\n",
      "https://www.youtube.com/watch?v=Kd9x_m_fQvE\n",
      "https://www.youtube.com/watch?v=Ydx9i6DZFho\n",
      "https://www.youtube.com/watch?v=OlMFnoyTLBQ\n",
      "https://www.youtube.com/watch?v=cPhocN71Q7s\n",
      "https://www.youtube.com/watch?v=CML4Fp-cXfA\n",
      "https://www.youtube.com/watch?v=MN5__VcrxPE\n",
      "https://www.youtube.com/watch?v=TvlGmOcFrHg\n",
      "https://www.youtube.com/watch?v=sw_32MLn6go\n",
      "https://www.youtube.com/watch?v=fVSA1qyHnhc\n",
      "https://www.youtube.com/watch?v=iaDnijsooBA\n",
      "https://www.youtube.com/watch?v=tyHRAuO_EYk\n",
      "https://www.youtube.com/watch?v=rVFUOnhXuHc\n",
      "https://www.youtube.com/watch?v=RLVnzEktgbY\n",
      "https://www.youtube.com/watch?v=jLQsvVZEe6c\n",
      "https://www.youtube.com/watch?v=dS6lndI_xlE\n",
      "https://www.youtube.com/watch?v=zWCSQI8SU5c\n"
     ]
    }
   ],
   "source": [
    "# Function to get video URLs from the \"Videos\" tab of a YouTube channel\n",
    "def get_video_urls(channel_url):\n",
    "    # Append \"/videos\" to the channel URL\n",
    "    channel_url += '/videos'\n",
    "\n",
    "    # Send a GET request to the channel's \"Videos\" tab URL\n",
    "    response = requests.get(channel_url)\n",
    "\n",
    "    # Check if the request was successful\n",
    "    if response.status_code == 200:\n",
    "        # Use regular expression to find video URLs containing \"videoId\"\n",
    "        video_urls = re.findall(r'\"videoId\":\"([^\"]+)\"', response.text)\n",
    "\n",
    "        # Construct complete video URLs\n",
    "        #video_urls = ['https://www.youtube.com/watch?v=VKBnCrPoF64' + video_id for video_id in video_urls]\n",
    "        video_urls = ['https://www.youtube.com/watch?v=' + video_id for video_id in video_urls]\n",
    "\n",
    "        # Remove duplicates\n",
    "        video_urls = list(set(video_urls))\n",
    "\n",
    "        return video_urls\n",
    "    else:\n",
    "        print('Failed to retrieve channel page. Status code:', response.status_code)\n",
    "        return None\n",
    "\n",
    "# Example usage\n",
    "channel_urls = [\"https://www.youtube.com/@callofdutymobile\",\"https://www.youtube.com/@CODMesports\", \"https://www.youtube.com/@DeepanshuCODYT\"]\n",
    "video_urls = []\n",
    "#channel_url = 'https://www.youtube.com/@IGN'  ### ENTER THE YOUTUBE CHANNEL'S LINK HERE ###\n",
    "for channel_url in channel_urls:\n",
    "  temp_urls = get_video_urls(channel_url)\n",
    "  for temp in temp_urls:\n",
    "    video_urls.append(temp)\n",
    "\n",
    "if video_urls:\n",
    "    #print('Video URLs in the \"Videos\" tab of the channel (without duplicates):')\n",
    "    for url in video_urls:\n",
    "        print(url)"
   ]
  },
  {
   "cell_type": "code",
   "execution_count": 3,
   "metadata": {
    "colab": {
     "base_uri": "https://localhost:8080/"
    },
    "id": "_JEyXz4yli09",
    "outputId": "67ffa639-4ca2-4f36-852a-8ccdce7f15e6"
   },
   "outputs": [
    {
     "name": "stdout",
     "output_type": "stream",
     "text": [
      "90\n"
     ]
    }
   ],
   "source": [
    "print(len(video_urls))"
   ]
  },
  {
   "cell_type": "code",
   "execution_count": 50,
   "metadata": {
    "id": "T3zg-b_1kIiP"
   },
   "outputs": [],
   "source": [
    "YOUTUBE_COMMENTS_AJAX_URL = 'https://www.youtube.com/comment_service_ajax'\n",
    "\n",
    "USER_AGENT = 'Mozilla/5.0 (Windows NT 10.0; Win64; x64) AppleWebKit/537.36 (KHTML, like Gecko) Chrome/79.0.3945.130 Safari/537.36'\n",
    "\n",
    "# filter comments by popularity or recent, 0:False, 1:True\n",
    "SORT_BY_POPULAR = 0\n",
    "# set comment limit\n",
    "COMMENT_LIMIT = 100\n",
    "\n",
    "YT_CFG_RE = r'ytcfg\\.set\\s*\\(\\s*({.+?})\\s*\\)\\s*;'\n",
    "YT_INITIAL_DATA_RE = r'(?:window\\s*\\[\\s*[\"\\']ytInitialData[\"\\']\\s*\\]|ytInitialData)\\s*=\\s*({.+?})\\s*;\\s*(?:var\\s+meta|</script|\\n)'\n",
    "\n",
    "def regex_search(text, pattern, group=1, default=None):\n",
    "    match = re.search(pattern, text)\n",
    "    return match.group(group) if match else default\n",
    "\n",
    "\n",
    "def ajax_request(session, endpoint, ytcfg, retries=5, sleep=20):\n",
    "    url = 'https://www.youtube.com' + endpoint['commandMetadata']['webCommandMetadata']['apiUrl']\n",
    "\n",
    "    data = {'context': ytcfg['INNERTUBE_CONTEXT'],\n",
    "            'continuation': endpoint['continuationCommand']['token']}\n",
    "\n",
    "    for _ in range(retries):\n",
    "        response = session.post(url, params={'key': ytcfg['INNERTUBE_API_KEY']}, json=data)\n",
    "        if response.status_code == 200:\n",
    "            return response.json()\n",
    "        if response.status_code in [403, 413]:\n",
    "            return {}\n",
    "        else:\n",
    "            time.sleep(sleep)\n",
    "\n",
    "\n",
    "def download_comments(YOUTUBE_VIDEO_URL, language=None, sleep=0.1):\n",
    "    session = requests.Session()\n",
    "    session.headers['User-Agent'] = USER_AGENT\n",
    "    response = session.get(YOUTUBE_VIDEO_URL)\n",
    "\n",
    "    if 'uxe=' in response.request.url:\n",
    "        session.cookies.set('CONSENT', 'YES+cb', domain='.youtube.com')\n",
    "        response = session.get(YOUTUBE_VIDEO_URL)\n",
    "\n",
    "    html = response.text\n",
    "    ytcfg = json.loads(regex_search(html, YT_CFG_RE, default=''))\n",
    "    if not ytcfg:\n",
    "        return  # Unable to extract configuration\n",
    "    if language:\n",
    "        ytcfg['INNERTUBE_CONTEXT']['client']['hl'] = language\n",
    "\n",
    "    data = json.loads(regex_search(html, YT_INITIAL_DATA_RE, default=''))\n",
    "\n",
    "    section = next(search_dict(data, 'itemSectionRenderer'), None)\n",
    "    renderer = next(search_dict(section, 'continuationItemRenderer'), None) if section else None\n",
    "    if not renderer:\n",
    "        # Comments disabled?\n",
    "        return\n",
    "\n",
    "    continuations = [renderer['continuationEndpoint']]\n",
    "    while continuations:\n",
    "        continuation = continuations.pop()\n",
    "        response = ajax_request(session, continuation, ytcfg)\n",
    "\n",
    "        if not response:\n",
    "            break\n",
    "        if list(search_dict(response, 'externalErrorMessage')):\n",
    "            raise RuntimeError('Error returned from server: ' + next(search_dict(response, 'externalErrorMessage')))\n",
    "\n",
    "        actions = list(search_dict(response, 'reloadContinuationItemsCommand')) + \\\n",
    "                  list(search_dict(response, 'appendContinuationItemsAction'))\n",
    "        for action in actions:\n",
    "            for item in action.get('continuationItems', []):\n",
    "                if action['targetId'] == 'comments-section':\n",
    "                    # Process continuations for comments and replies.\n",
    "                    continuations[:0] = [ep for ep in search_dict(item, 'continuationEndpoint')]\n",
    "                if action['targetId'].startswith('comment-replies-item') and 'continuationItemRenderer' in item:\n",
    "                    # Process the 'Show more replies' button\n",
    "                    continuations.append(next(search_dict(item, 'buttonRenderer'))['command'])\n",
    "\n",
    "        for comment in reversed(list(search_dict(response, 'commentRenderer'))):\n",
    "            # Print comment data for debugging\n",
    "            #print(\"Comment Data:\", comment)\n",
    "            yield {\n",
    "                   'text': ''.join([c['text'] for c in comment['contentText'].get('runs', [])]),\n",
    "                   'author': comment.get('authorText', {}).get('simpleText'),\n",
    "                   'votes': comment.get('voteCount', {}).get('simpleText', '0'),\n",
    "                   'dislikes': comment.get('dislikeCount', {}).get('simpleText', '0'),\n",
    "                   'replies': comment.get('replyCount'),\n",
    "                   'id': comment.get('commentId'),\n",
    "                   # Add more fields as needed\n",
    "                  }\n",
    "\n",
    "        time.sleep(sleep)\n",
    "\n",
    "\n",
    "\n",
    "def search_dict(partial, search_key):\n",
    "    stack = [partial]\n",
    "    while stack:\n",
    "        current_item = stack.pop()\n",
    "        if isinstance(current_item, dict):\n",
    "            for key, value in current_item.items():\n",
    "                if key == search_key:\n",
    "                    yield value\n",
    "                else:\n",
    "                    stack.append(value)\n",
    "        elif isinstance(current_item, list):\n",
    "            for value in current_item:\n",
    "                stack.append(value)\n",
    "\n",
    "#Change code here\n",
    "def main(url, schema, spark):\n",
    "    #spark = SparkSession.builder.appName(\"YouTubeComments\").getOrCreate()\n",
    "    #schema = StructType().add(\"comment_id\", StringType()).add(\"comment_text\", StringType()).add(\"author\", StringType()).add(\"likes\", StringType()).add(\"timestamp\", StringType())\n",
    "\n",
    "    try:\n",
    "        youtube_url = url\n",
    "        limit = COMMENT_LIMIT\n",
    "        count = 0\n",
    "        start_time = time.time()\n",
    "\n",
    "        df_comment = spark.createDataFrame([], schema=schema)\n",
    "\n",
    "        for comment in download_comments(youtube_url):\n",
    "            #mod_comment = spark.createDataFrame([comment], schema=schema)\n",
    "            #df_comment = df_comment.union(mod_comment)\n",
    "\n",
    "            id = comment['id']\n",
    "            comment_text = comment['text']\n",
    "            author = comment['author']\n",
    "            likes = int(comment['votes'])\n",
    "            dislikes = int(comment['dislikes'])\n",
    "            replies = comment['replies']\n",
    "            df_comment = df_comment.union(spark.createDataFrame([(comment_text, author, likes, dislikes, replies, id)], schema=schema))\n",
    "\n",
    "\n",
    "\n",
    "            count += 1\n",
    "            if limit and count >= limit:\n",
    "                break\n",
    "        return df_comment\n",
    "\n",
    "    except Exception as e:\n",
    "        print('Error:', str(e))\n",
    "        sys.exit(1)"
   ]
  },
  {
   "cell_type": "code",
   "execution_count": 51,
   "metadata": {
    "colab": {
     "base_uri": "https://localhost:8080/"
    },
    "id": "INyjg3V2l3fI",
    "outputId": "ab5155a7-9ce8-450e-b6c1-22b5ed00d6b9",
    "scrolled": true
   },
   "outputs": [],
   "source": [
    "# Starting a spark session\n",
    "spark = SparkSession.builder.appName(\"YouTubeComments\").getOrCreate()\n",
    "schema = StructType().add(\"comment_text\", StringType()).add(\"comment_author\", StringType()).add(\"votes\", IntegerType(), nullable=True).add(\"dislikes\", IntegerType(), nullable=True).add(\"replies\", IntegerType(), nullable=True).add(\"id\", StringType())\n",
    "\n",
    "#dataset = pd.DataFrame()\n",
    "dataset = spark.createDataFrame([], schema=schema)\n",
    "\n",
    "for video in video_urls:\n",
    "  extradf = main(video, schema, spark)\n",
    "  dataset = dataset.union(extradf)\n",
    "#dataset.reset_index(drop=True, inplace=True)\n"
   ]
  },
  {
   "cell_type": "code",
   "execution_count": 59,
   "metadata": {
    "id": "GsN3mpd4mJOn"
   },
   "outputs": [
    {
     "name": "stderr",
     "output_type": "stream",
     "text": [
      "24/04/04 14:40:06 WARN DAGScheduler: Broadcasting large task binary with size 7.0 MiB\n",
      "24/04/04 14:40:06 WARN DAGScheduler: Broadcasting large task binary with size 7.0 MiB\n",
      "24/04/04 14:40:06 WARN DAGScheduler: Broadcasting large task binary with size 7.0 MiB\n",
      "24/04/04 14:40:08 WARN DAGScheduler: Broadcasting large task binary with size 7.0 MiB\n",
      "24/04/04 14:40:12 WARN DAGScheduler: Broadcasting large task binary with size 7.0 MiB\n"
     ]
    },
    {
     "name": "stdout",
     "output_type": "stream",
     "text": [
      "+--------------------+--------------------+-----+--------+-------+--------------------+\n",
      "|        comment_text|      comment_author|votes|dislikes|replies|                  id|\n",
      "+--------------------+--------------------+-----+--------+-------+--------------------+\n",
      "|I like how codm p...|         @--FlameZ--|   51|       0|      3|UgyTUAWhSyj0QI6Pz...|\n",
      "|Please add the we...|       @Angel--AR-15|    7|       0|   NULL|Ugy_rJN270SWTrHvt...|\n",
      "|Blitz Is Amazing ...|        @gaminguceyt|    2|       0|   NULL|Ugx82pUfNqR-GWaig...|\n",
      "|I'm just saying i...|      @jaevaldez9650|    1|       0|   NULL|UgxtOCQDBmdL2bZ7p...|\n",
      "|Button to block m...|       @Martin-zb4rk|    3|       0|      3|UgzJsAoP-3kzZmLh9...|\n",
      "|Valentine's Day i...|  @morganmeliora2603|    1|       0|   NULL|UgxABlusdyDN8i5Lh...|\n",
      "|Hello to the Acti...|            @M-ev1zz|    0|       0|   NULL|Ugzlwo2nHEgOUc2yB...|\n",
      "|Would be nice to ...|       @KingPepper41|    4|       0|   NULL|UgxSjyCV-jwbpv7gX...|\n",
      "|Still waiting for...|   @huntervincent579|    0|       0|   NULL|Ugwwj8DJBfWisc3Rh...|\n",
      "|the map is beauti...|        @SlayinSiren|    0|       0|   NULL|Ugw1tzBaqOJ-snHIc...|\n",
      "|WHEN WILL YOU RET...|          @K.A.R.A.U|    0|       0|   NULL|UgwEkadtPNo1UeM6o...|\n",
      "|       Where siren!!|       @hanzxianvlog|    0|       0|   NULL|UgzSZXHRUJrbRt4Io...|\n",
      "|We need an old Ba...|@alirezarzaqzade4484|    2|       0|      1|UgxCia6m32Y1ovipM...|\n",
      "|Give the opportun...|        @zeroalfa016|    0|       0|   NULL|Ugx5i9ryxf4hFst1W...|\n",
      "|Its been a while ...|           @hardy352|    0|       0|   NULL|UgzQltfcw3tPmJShP...|\n",
      "|   Mythic fennec pls|        @iPadKid1324|    0|       0|   NULL|UgwodyJpCH8EHLw8U...|\n",
      "|   Bring back MEMNOS|          @SINfromPL|    1|       0|   NULL|UgwBGqSE0db95o5AT...|\n",
      "|Pls add br practi...|@AidenFunnyShorts...|    0|       0|   NULL|UgzOhbhSqRp0uZdFi...|\n",
      "|Battle Pass Seaso...|        @COD_PRO8L3M|    1|       0|   NULL|UgyZLOEdRt9nA6PDX...|\n",
      "|Thanks for the fr...|        @abolfazl648|    0|       0|   NULL|UgyKmSKzNhBu-YR7z...|\n",
      "+--------------------+--------------------+-----+--------+-------+--------------------+\n",
      "only showing top 20 rows\n",
      "\n"
     ]
    }
   ],
   "source": [
    "dataset.show(20)"
   ]
  },
  {
   "cell_type": "code",
   "execution_count": 53,
   "metadata": {
    "colab": {
     "base_uri": "https://localhost:8080/",
     "height": 424
    },
    "id": "cGy0lSuPmSKJ",
    "outputId": "7ff955c7-7aa8-4901-a736-a749b666403a"
   },
   "outputs": [
    {
     "name": "stderr",
     "output_type": "stream",
     "text": [
      "24/04/04 14:32:06 WARN DAGScheduler: Broadcasting large task binary with size 3.4 MiB\n",
      "                                                                                \r"
     ]
    },
    {
     "data": {
      "text/plain": [
       "800"
      ]
     },
     "execution_count": 53,
     "metadata": {},
     "output_type": "execute_result"
    }
   ],
   "source": [
    "dataset.count()"
   ]
  },
  {
   "cell_type": "code",
   "execution_count": 55,
   "metadata": {},
   "outputs": [],
   "source": [
    "from pyspark.sql.functions import regexp_replace\n",
    "dataset = dataset.withColumn(\"comment_text\", regexp_replace(\"comment_text\", \"[\\n\\r]\", \"\"))"
   ]
  },
  {
   "cell_type": "code",
   "execution_count": 56,
   "metadata": {
    "scrolled": true
   },
   "outputs": [
    {
     "name": "stderr",
     "output_type": "stream",
     "text": [
      "24/04/04 14:36:28 WARN DAGScheduler: Broadcasting large task binary with size 6.5 MiB\n",
      "                                                                                \r"
     ]
    }
   ],
   "source": [
    "youtubePath = \"hdfs://10.123.51.194/user/g23/spark_hdfs_webScrapingv3.csv\"\n",
    "#dataset.write.csv(youtubePath, header=True)\n",
    "dataset.write.option(\"header\",True).csv(youtubePath)"
   ]
  },
  {
   "cell_type": "code",
   "execution_count": 62,
   "metadata": {},
   "outputs": [
    {
     "name": "stderr",
     "output_type": "stream",
     "text": [
      "                                                                                \r"
     ]
    },
    {
     "name": "stdout",
     "output_type": "stream",
     "text": [
      "+--------------------+--------------------+-----+--------+-------+--------------------+\n",
      "|        comment_text|      comment_author|votes|dislikes|replies|                  id|\n",
      "+--------------------+--------------------+-----+--------+-------+--------------------+\n",
      "|Just wanted to sa...|          @J3FFBezos|   11|       0|      1|UgwNKGEArXPJaKx-y...|\n",
      "|The first LAN eve...|       @josepila9310|    5|       0|   NULL|UgxY1qWMgGKDLtXZv...|\n",
      "|EXCELENTE CAMPEÓN...|@gerardomartinez6063|    0|       0|   NULL|UgzR-GPIW5LZERY4a...|\n",
      "|Yrr me ye nhi sam...|            @Amaze__|    1|       0|   NULL|UgwjTC9JHr9ux3lYv...|\n",
      "|👑👑👑👑👑👑👑👑?...|@gerardomartinez6063|    0|       0|   NULL|UgwScr2cyFWXV-Ff3...|\n",
      "|Just curious wasn...|     @samuelconn3571|    0|       0|   NULL|Ugx7soqAm0113R5ju...|\n",
      "|he always know wh...|       @cjkamela4896|    2|       0|   NULL|Ugx1leLq0i0wtMPlh...|\n",
      "|Why do not you do...|   @silverbullet4966|    0|       0|   NULL|UgyuuSJVHHUP6Go4N...|\n",
      "|Bring back the ak...|            @gads994|    1|       0|   NULL|UgywHiJjgRF92C1U7...|\n",
      "|Add 🪚🔗⛽🩸CHAIN ...|   @rohaanshahab8414|    0|       0|   NULL|UgxCo5jR_AH64ouzO...|\n",
      "|Unfortunately I w...| @thedevilhunter0013|    1|       0|   NULL|UgyC4ObX4L2G6Oojp...|\n",
      "|Bro, as a long ti...|   @arshadjassim4913|    1|       0|   NULL|Ugy9F-LQsdCmPntNj...|\n",
      "|What determines w...|     @anderjantvcodm|    3|       0|      1|UgytWFMX2xA7jSQBf...|\n",
      "|Maybe have a numb...|       @TJ4PRESIDENT|    1|       0|   NULL|Ugy92bT5N6O3PHinX...|\n",
      "|This is like sayi...|            @ray6808|    0|       0|   NULL|UgyFhmTDnTQhSdSvV...|\n",
      "|This is cool but ...|            @Amircrl|    2|       0|   NULL|UgwaN72a0GmyxVf8L...|\n",
      "|I remember watchi...|         @Newgrfx321|    1|       0|   NULL|Ugx_JMGR-dQWC8HMU...|\n",
      "|Como lo haces par...|   @feliperendon6387|    1|       0|   NULL|UgyHQXHAJuCkjGooA...|\n",
      "|Codm need a Codm ...|       @adityasai311|    1|       0|   NULL|UgzNBzWU1nuBOhCUn...|\n",
      "|bro can I also re...|      @aadigupta7777|    0|       0|   NULL|Ugx2I2A4IFHtXgXks...|\n",
      "+--------------------+--------------------+-----+--------+-------+--------------------+\n",
      "only showing top 20 rows\n",
      "\n"
     ]
    }
   ],
   "source": [
    "yt_df = spark.read.csv(\"hdfs://10.123.51.194/user/g23/spark_hdfs_webScrapingv3.csv\", header=True)\n",
    "yt_df.show(20)\n",
    "#yt_pdf = yt_df.toPandas()\n",
    "#local_file_path = \"/home/g23/ASSIGNMENT CODES/test2.csv\"\n",
    "#yt_pdf.to_csv(local_file_path, index=False)"
   ]
  },
  {
   "cell_type": "code",
   "execution_count": 63,
   "metadata": {},
   "outputs": [
    {
     "data": {
      "text/plain": [
       "800"
      ]
     },
     "execution_count": 63,
     "metadata": {},
     "output_type": "execute_result"
    }
   ],
   "source": [
    "yt_df.count()"
   ]
  },
  {
   "cell_type": "code",
   "execution_count": 64,
   "metadata": {},
   "outputs": [],
   "source": [
    "spark.stop()"
   ]
  },
  {
   "cell_type": "code",
   "execution_count": null,
   "metadata": {},
   "outputs": [],
   "source": []
  }
 ],
 "metadata": {
  "colab": {
   "provenance": []
  },
  "kernelspec": {
   "display_name": "de_venv",
   "language": "python",
   "name": "de_venv"
  },
  "language_info": {
   "codemirror_mode": {
    "name": "ipython",
    "version": 3
   },
   "file_extension": ".py",
   "mimetype": "text/x-python",
   "name": "python",
   "nbconvert_exporter": "python",
   "pygments_lexer": "ipython3",
   "version": "3.10.12"
  }
 },
 "nbformat": 4,
 "nbformat_minor": 4
}
