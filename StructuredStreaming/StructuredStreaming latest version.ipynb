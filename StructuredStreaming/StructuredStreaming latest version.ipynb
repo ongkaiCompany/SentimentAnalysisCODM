{
 "cells": [
  {
   "cell_type": "code",
   "execution_count": 1,
   "id": "4d90f633",
   "metadata": {},
   "outputs": [
    {
     "name": "stderr",
     "output_type": "stream",
     "text": [
      "24/04/26 08:39:37 WARN Utils: Your hostname, jupy-06 resolves to a loopback address: 127.0.1.1; using 10.123.51.206 instead (on interface ens18)\n",
      "24/04/26 08:39:37 WARN Utils: Set SPARK_LOCAL_IP if you need to bind to another address\n",
      "Setting default log level to \"WARN\".\n",
      "To adjust logging level use sc.setLogLevel(newLevel). For SparkR, use setLogLevel(newLevel).\n",
      "24/04/26 08:39:37 WARN NativeCodeLoader: Unable to load native-hadoop library for your platform... using builtin-java classes where applicable\n"
     ]
    }
   ],
   "source": [
    "import findspark\n",
    "findspark.init()\n",
    "\n",
    "import pyspark\n",
    "from pyspark.sql import SparkSession\n",
    "from pyspark.conf import SparkConf\n",
    "from pyspark.sql.functions import *\n",
    "from pyspark.sql.types import *\n",
    "\n",
    "spark = SparkSession\\\n",
    "         .builder\\\n",
    "         .appName(\"SparkHiveDemo\")\\\n",
    "         .config('spark.sql.warehouse.dir', 'hdfs:/user/hive/warehouse/')\\\n",
    "         .config(\"spark.sql.catalogImplementation\", \"hive\")\\\n",
    "         .config(\"spark.sql.adaptive.enabled\", \"false\") \\\n",
    "         .enableHiveSupport()\\\n",
    "         .getOrCreate()"
   ]
  },
  {
   "cell_type": "code",
   "execution_count": 2,
   "id": "68e6a6ac",
   "metadata": {},
   "outputs": [
    {
     "name": "stderr",
     "output_type": "stream",
     "text": [
      "24/04/26 08:39:40 WARN DomainSocketFactory: The short-circuit local reads feature cannot be used because libhadoop cannot be loaded.\n"
     ]
    },
    {
     "name": "stdout",
     "output_type": "stream",
     "text": [
      "+--------------+--------------------+-----------+\n",
      "|     namespace|           tableName|isTemporary|\n",
      "+--------------+--------------------+-----------+\n",
      "|sentiment_data|   prediction_result|      false|\n",
      "|sentiment_data|prediction_result...|      false|\n",
      "|sentiment_data|      temp_csv_table|      false|\n",
      "|sentiment_data|           test_data|      false|\n",
      "|sentiment_data|          train_data|      false|\n",
      "|sentiment_data|      train_data_eva|      false|\n",
      "+--------------+--------------------+-----------+\n",
      "\n"
     ]
    }
   ],
   "source": [
    "# Use schema/db used by JY\n",
    "spark.sql('USE sentiment_data')\n",
    "tables = spark.sql(\"SHOW TABLES\").show()"
   ]
  },
  {
   "cell_type": "markdown",
   "id": "e4de1154",
   "metadata": {},
   "source": [
    "<h2>1. For the Purpose of Displaying Negative Sentiments (Management wants to know what customers are unhappy about)</h2>"
   ]
  },
  {
   "cell_type": "code",
   "execution_count": 3,
   "id": "4d93a4d1",
   "metadata": {},
   "outputs": [],
   "source": [
    "# Positive = 0.0\n",
    "# Negative = 1.0\n",
    "# Neutral  = 2.0"
   ]
  },
  {
   "cell_type": "code",
   "execution_count": 3,
   "id": "49c9216d",
   "metadata": {},
   "outputs": [
    {
     "name": "stderr",
     "output_type": "stream",
     "text": [
      "24/04/26 08:39:49 WARN SessionState: METASTORE_FILTER_HOOK will be ignored, since hive.security.authorization.manager is set to instance of HiveAuthorizerFactory.\n"
     ]
    },
    {
     "name": "stdout",
     "output_type": "stream",
     "text": [
      "+--------------------+---------+----------+\n",
      "|             Comment|Sentiment|prediction|\n",
      "+--------------------+---------+----------+\n",
      "|a gun with    met...| Negative|       1.0|\n",
      "|a ww  mythic with...| Negative|       2.0|\n",
      "|already a w  alth...|  Neutral|       2.0|\n",
      "|              always|  Neutral|       2.0|\n",
      "|am i the only one...| Positive|       0.0|\n",
      "|american college ...|  Neutral|       2.0|\n",
      "|among ars i feel ...| Positive|       0.0|\n",
      "|and we appreciate...| Positive|       2.0|\n",
      "|appearently it s ...|  Neutral|       2.0|\n",
      "|are we ever getti...| Positive|       0.0|\n",
      "|as a persistence ...| Positive|       0.0|\n",
      "|as long as there ...| Positive|       0.0|\n",
      "|as long as there ...|  Neutral|       0.0|\n",
      "|asks redditors fo...| Positive|       0.0|\n",
      "|ay another loose ...| Negative|       1.0|\n",
      "|because i m a dum...| Negative|       2.0|\n",
      "|best record for l...| Positive|       0.0|\n",
      "|better not  buttt...| Negative|       0.0|\n",
      "|   bot match invites| Positive|       2.0|\n",
      "|bro is going to d...|  Neutral|       2.0|\n",
      "+--------------------+---------+----------+\n",
      "only showing top 20 rows\n",
      "\n"
     ]
    }
   ],
   "source": [
    "spark.sql(\"SELECT * FROM prediction_result\").show()"
   ]
  },
  {
   "cell_type": "code",
   "execution_count": 4,
   "id": "81d3ddf7",
   "metadata": {},
   "outputs": [
    {
     "name": "stdout",
     "output_type": "stream",
     "text": [
      "+--------------------+----------+\n",
      "|             Comment|prediction|\n",
      "+--------------------+----------+\n",
      "|a gun with    met...|       1.0|\n",
      "|ay another loose ...|       1.0|\n",
      "|bruh what    it s...|       1.0|\n",
      "|by that logic sni...|       1.0|\n",
      "|far from balanced...|       1.0|\n",
      "|for once i agree ...|       1.0|\n",
      "|fully upgraded th...|       1.0|\n",
      "|           hell yeah|       1.0|\n",
      "|hey there  alcatr...|       1.0|\n",
      "|i forgot about re...|       1.0|\n",
      "+--------------------+----------+\n",
      "only showing top 10 rows\n",
      "\n"
     ]
    }
   ],
   "source": [
    "hive_table_df = spark.table(\"prediction_result\")\n",
    "filtered_df = hive_table_df.filter(hive_table_df['prediction'] == 1.0)\n",
    "filtered_df = filtered_df.drop(\"Sentiment\")\n",
    "filtered_df.show(10)"
   ]
  },
  {
   "cell_type": "code",
   "execution_count": 5,
   "id": "c335611e",
   "metadata": {},
   "outputs": [
    {
     "name": "stdout",
     "output_type": "stream",
     "text": [
      "Number of records in filtered_df: 210\n"
     ]
    }
   ],
   "source": [
    "record_count = filtered_df.count()\n",
    "print(\"Number of records in filtered_df:\", record_count)"
   ]
  },
  {
   "cell_type": "code",
   "execution_count": 6,
   "id": "e554de69",
   "metadata": {},
   "outputs": [
    {
     "name": "stdout",
     "output_type": "stream",
     "text": [
      "root\n",
      " |-- Comment: string (nullable = true)\n",
      " |-- prediction: double (nullable = true)\n",
      "\n"
     ]
    }
   ],
   "source": [
    "filtered_df.printSchema()"
   ]
  },
  {
   "cell_type": "code",
   "execution_count": 7,
   "id": "7fd80595",
   "metadata": {},
   "outputs": [],
   "source": [
    "parquet_output_path = \"hdfs://10.123.51.194/user/g23/predicted.parquet\""
   ]
  },
  {
   "cell_type": "code",
   "execution_count": 8,
   "id": "4e15ee10",
   "metadata": {},
   "outputs": [
    {
     "name": "stderr",
     "output_type": "stream",
     "text": [
      "                                                                                \r"
     ]
    }
   ],
   "source": [
    "filtered_df.write.mode(\"overwrite\").parquet(parquet_output_path)"
   ]
  },
  {
   "cell_type": "code",
   "execution_count": 9,
   "id": "346319a0",
   "metadata": {},
   "outputs": [],
   "source": [
    "from pyspark.sql import SparkSession\n",
    "from pyspark.sql.types import StructType, StructField, StringType, IntegerType, DoubleType"
   ]
  },
  {
   "cell_type": "code",
   "execution_count": 10,
   "id": "d739c625",
   "metadata": {},
   "outputs": [],
   "source": [
    "schema = StructType([\n",
    "    StructField(\"Comment\", StringType(), True),\n",
    "    StructField(\"prediction\", DoubleType(), True),\n",
    "    # Add more StructFields as needed\n",
    "])"
   ]
  },
  {
   "cell_type": "code",
   "execution_count": 11,
   "id": "3ccb1847",
   "metadata": {},
   "outputs": [],
   "source": [
    "parquet_stream = spark \\\n",
    "    .readStream \\\n",
    "    .schema(schema) \\\n",
    "    .format(\"parquet\") \\\n",
    "    .load(parquet_output_path)"
   ]
  },
  {
   "cell_type": "code",
   "execution_count": 12,
   "id": "b8bc887a",
   "metadata": {},
   "outputs": [
    {
     "name": "stdout",
     "output_type": "stream",
     "text": [
      "root\n",
      " |-- Comment: string (nullable = true)\n",
      " |-- prediction: double (nullable = true)\n",
      "\n"
     ]
    }
   ],
   "source": [
    "parquet_stream.printSchema()"
   ]
  },
  {
   "cell_type": "code",
   "execution_count": 13,
   "id": "d4f0cd8c",
   "metadata": {},
   "outputs": [
    {
     "name": "stderr",
     "output_type": "stream",
     "text": [
      "24/04/26 08:40:12 WARN ResolveWriteToStream: Temporary checkpoint location created which is deleted normally when the query didn't fail: /tmp/temporary-eee8fbe6-35f7-46bf-990e-04f777a96d1d. If it's required to delete it under any circumstances, please set spark.sql.streaming.forceDeleteTempCheckpointLocation to true. Important to know deleting temp checkpoint folder is best effort.\n"
     ]
    }
   ],
   "source": [
    "memory_query = parquet_stream \\\n",
    "    .writeStream \\\n",
    "    .queryName(\"memory_query\") \\\n",
    "    .format(\"memory\") \\\n",
    "    .outputMode(\"append\") \\\n",
    "    .start()"
   ]
  },
  {
   "cell_type": "code",
   "execution_count": 15,
   "id": "967c6d69",
   "metadata": {},
   "outputs": [],
   "source": [
    "#memory_query.awaitTermination()"
   ]
  },
  {
   "cell_type": "code",
   "execution_count": 14,
   "id": "cb1e4dd3",
   "metadata": {},
   "outputs": [
    {
     "name": "stdout",
     "output_type": "stream",
     "text": [
      "+--------+\n",
      "|count(1)|\n",
      "+--------+\n",
      "|     210|\n",
      "+--------+\n",
      "\n"
     ]
    }
   ],
   "source": [
    "spark.sql(\"SELECT count(*) FROM memory_query\").show()"
   ]
  },
  {
   "cell_type": "code",
   "execution_count": 15,
   "id": "9f0c5718",
   "metadata": {},
   "outputs": [
    {
     "name": "stdout",
     "output_type": "stream",
     "text": [
      "+--------------------+----------+\n",
      "|             Comment|prediction|\n",
      "+--------------------+----------+\n",
      "|350mbps internet ...|       1.0|\n",
      "|activision seriou...|       1.0|\n",
      "|almost 4 year pla...|       1.0|\n",
      "|amazing game kind...|       1.0|\n",
      "|attention  please...|       1.0|\n",
      "|battle royal suck...|       1.0|\n",
      "|best game world l...|       1.0|\n",
      "|change 1 star fre...|       1.0|\n",
      "|consistently deal...|       1.0|\n",
      "|could always use ...|       1.0|\n",
      "+--------------------+----------+\n",
      "only showing top 10 rows\n",
      "\n"
     ]
    }
   ],
   "source": [
    "spark.sql(\"SELECT * FROM memory_query\").show(10)"
   ]
  },
  {
   "cell_type": "code",
   "execution_count": 16,
   "id": "75dc19cc",
   "metadata": {
    "scrolled": true
   },
   "outputs": [
    {
     "name": "stdout",
     "output_type": "stream",
     "text": [
      "Full content of the Comment column:\n",
      "--------------------------------------------------\n",
      "Comment 1\n",
      "350mbps internet battle royales totally unplayable lag ridiculous everytime encounter enemy god forbid fire weapon screen lock decided work youre dead used bad manageable albeit frustrating much worse pointless\n",
      "--------------------------------------------------\n",
      "Comment 2\n",
      "activision seriously need look ive wasted 2gb data already trying update app find 4gb space left phone memory prior update mysteriously vanished downloading additional resource result update couldnt get completed shouldnt said 14gb fact 153gb size download additional file installing update sad seriously regretting trying update\n",
      "--------------------------------------------------\n",
      "Comment 3\n",
      "almost 4 year playing game launch day changing review 5 star 1 star cannot go 1 star main reason spending thousand dollar thousand gaming hour account got hacked activision customer service bad 3 week trying get help gave facebook psn account frozen linked original cod mobile account cannot release disappointing customer support\n",
      "--------------------------------------------------\n",
      "Comment 4\n",
      "amazing game kinda addicting alright ive gotten many like dislike let start dislike dislike match gunfight start 1st round gun wont load screen lag bad new map like variety gun realisticness train eye contact enemy shooting great aim youre bad game go practice session headshot bloodthirsty  comment\n",
      "--------------------------------------------------\n",
      "Comment 5\n",
      "attention  please fix problem  still cant use ps5 controller  noticed guy change controller connection stuff still didnt fix problem  give option chose controller chose ps5 enter match shoot reload button work controller brand new problem\n",
      "--------------------------------------------------\n",
      "Comment 6\n",
      "battle royal suck fill squad dont get fking teammate mean think good game constantly 1 v 4 suck tried br game mode still teammate\n",
      "--------------------------------------------------\n",
      "Comment 7\n",
      "best game world love game heart recent groundwar update almost feel like there hardcore battle royale light machine gun several weapon work like theyre supposed revolver handgun 1 headshot  1 kill across map even without stopping power round ground war last 3x long certain attachment spr 208s range brought 36 thats ridiculous sniper rifle worse shotgun\n",
      "--------------------------------------------------\n",
      "Comment 8\n",
      "change 1 star freezing new ipad im still lagging every game even m dropping waiting time game also ridiculously long wait 100 second get game end even quicker meta broken right mac10 even giving chance shoot back kilo141 recoil high damage\n",
      "--------------------------------------------------\n",
      "Comment 9\n",
      "consistently dealing server issue mobile game isnt connecting game keep getting drop match frustrating amount money put series alone ill uninstalling application\n",
      "--------------------------------------------------\n",
      "Comment 10\n",
      "could always use map better match making overall bad definitely enjoyable match also u shoot somebody 3 time sniper wont die somehow get 1 shotted sniper ranked doesnt mean anything good often team isnt\n",
      "--------------------------------------------------\n",
      "Comment 11\n",
      "developer doesnt want pay attention improve quality adress glitch lagging issue busy developing crate enough audience buy fancy stuff game like full issue slowness crash glitch\n",
      "--------------------------------------------------\n",
      "Comment 12\n",
      "downloadsupdates terrible mess gaming experience  like booted game two time challenge cool update 053022 continue shut down playingneeding start entry allover time return match time\n",
      "--------------------------------------------------\n",
      "Comment 13\n",
      "enemy fire anywhere get hit bullet fastly hit enemy gun cannot die day game working badly phone phone spec 8gb ram rom 128gb working fast playing ranked game slows draw system bad somebody get mythic gun one draw draw many time cannot get one draw unfair\n",
      "--------------------------------------------------\n",
      "Comment 14\n",
      "even sitting next wifi speed 30 mbps ping would rise near 200 secondsneed improve need new level past 150 profile need new modsattachments increase damage cost acquiring legendary weapon lowered damn expensive probability acquire gun draw last chance\n",
      "--------------------------------------------------\n",
      "Comment 15\n",
      "every day wish i never got the garbage mythic grau  so glad it s even worse now  i d trade that thing for literally any other mythic\n",
      "--------------------------------------------------\n",
      "Comment 16\n",
      "every new update game performance decline ive messaged reported game crashing month response fix recent update game crash two three time per game play ranked match well penalize non performing game seems focused adding game purchase le focused game actually performing playing im point uninstalling\n",
      "--------------------------------------------------\n",
      "Comment 17\n",
      "every time manage score mythic weapon game close start give option reconnect game reload app im already dead seem im position win game quits every single time cant person experiencing thisif keep happening im going leave areveiw every single time happens idk else\n",
      "--------------------------------------------------\n",
      "Comment 18\n",
      "every update stuff game start taking forever load start lagging lot usual start crashing even ranked match making harder rank\n",
      "--------------------------------------------------\n",
      "Comment 19\n",
      "everyone focusing on the persistence while i m salivating at the vulture buff   it ll be interesting to see if they reverse course back to    or    in s\n",
      "--------------------------------------------------\n",
      "Comment 20\n",
      "everything fine except problem ranked match crash ill get ban 5 min 80 xp reduction totally uncool sometimes suffer network problem game crash reason middle match utterly pointless penalty wasnt fault first place\n",
      "--------------------------------------------------\n",
      "Comment 21\n",
      "excellent game impressive mobile game  game top class two issue get robbed kill cause hit like 8 kill br game confirm kill get 7 kill secondly enemy appear nowhere see shooting  already game requires fast internet line compatible cause run 100meg line im mostly player 4\n",
      "--------------------------------------------------\n",
      "Comment 22\n",
      "first matchmaking really trash get afk teammate ranked game worst bot teammate multiplayer second nerf bot played one rust game bot hit without fully aiming crosshairs make sense third matchmaking biggest issue apart bot teammate like level 548 opponent diamond camo mythic gun max level far worse thanks\n",
      "--------------------------------------------------\n",
      "Comment 23\n",
      "fix ghost touch red magic 7  doesnt let run sometimes im trying run im aiming trying move forward stop move back instead sideways soooo annoying unplayable please fix issue happening red magic 7  red magic 7 18gb ram supernova\n",
      "--------------------------------------------------\n",
      "Comment 24\n",
      "fun game issue battle royale enemy opposing team team many cheat used durng gameplay despite reporting every time happens seem correct punish cheater\n",
      "--------------------------------------------------\n",
      "Comment 25\n",
      "fun game nothing wrong wouldve gave 5 star play map day make u download like 50 map get 4 map every game literally every match ill play get map game mode 3 time row get another map back map plus u get higher rank wait longer match ok dont want look time reminding wasted 3min waiting match\n",
      "--------------------------------------------------\n",
      "Comment 26\n",
      "game cheat even pay game server cheat still never pay something free pay never play game wont add kill add death everytime die player kill premium membership something player always use kind cheat code nobody play game without cheating\n",
      "--------------------------------------------------\n",
      "Comment 27\n",
      "game could fun sadly one map tiny map playing hardpoint terrible game mode plus get spawn camped every second spawn 2 star rating dumb game oh yeah final one zombie zombie game mode dumb survive day repair stuffthis game boring dead\n",
      "--------------------------------------------------\n",
      "Comment 28\n",
      "game fixed thesevery single time try destroy chopper gunner boom instantly dead matter many time keep respawning always see death screen making lag game bad low end device game wod 100x enjoyable low end device would chance plus get game really long time playing lag game game game codm fix ruining gaming expierience codm\n",
      "--------------------------------------------------\n",
      "Comment 29\n",
      "game fun boxing glove dog really shoot person boxing glove take many shot one punch dead dog many thing wrong enough time game well par evaluated updated possible would give negative star\n",
      "--------------------------------------------------\n",
      "Comment 30\n",
      "game terrible used fun thanks skill based match making completely ruined camping sentry gunchopper gunner spam k9s broken weapon tryharding generally pathetic behavior human engage casual mode mobile game done every single match escape loop aid except uninstall shame good game buts nearly unplayable even purchase battle pas\n",
      "--------------------------------------------------\n",
      "Comment 31\n",
      "gave star first one much bot game annoying secondly every time new update come volume high map must downloaded beginning condition\n",
      "--------------------------------------------------\n",
      "Comment 32\n",
      "glitch extremely annoying character keep teleporting different location enemy player cross hair easily killed character dy instead also take game register killed enemy player please fix\n",
      "--------------------------------------------------\n",
      "Comment 33\n",
      "going downhill used great fair game everything kill faster react knewknow walking war robotswar robot practically turning pay win game almost year developer dont listen ear dont recommend unless want something else life feel like problem even see user player amount downloads game skyrocket doesnt mean getting better rant truth\n",
      "--------------------------------------------------\n",
      "Comment 34\n",
      "good game many bug trying get reptile skin didnt work didnt work diamond skin aswell annoying u hit directly head dont die gravity vortex gun kill drone plus button keep glitching also weapon balenced people pay get better gun always win would put three bug suck\n",
      "--------------------------------------------------\n",
      "Comment 35\n",
      "great game love two issue 1 keep throwing match already half way dont time get mvp lot kill make history look bad 2 cant select map want go stuck random still end playing crash 14 time row annoying\n",
      "--------------------------------------------------\n",
      "Comment 36\n",
      "great killer game top line graphic  different option  game mode realistic image neither poor image make look cheap like shooting game tend business  make wonder hell manage put garbage market waste time  space messing game stop wasting time  get  download today promise youll love call duty guarantee jr\n",
      "--------------------------------------------------\n",
      "Comment 37\n",
      "gun doesnt work time reason selecting respond use inbuilt trigger xiaomi blackshark 4 game running perfectly prior update cant play without fix\n",
      "--------------------------------------------------\n",
      "Comment 38\n",
      "happened bundle hate yall forcing u buy crate lucky draw typical cash grab cod coin store nothing trash skin gun still pay win last update awful skin detail nothing unique mention 1 worst battlepasses timefix lagging glitch game fam stop knocking u head price mediocre gameplaygave u 4 trash female skin  better\n",
      "--------------------------------------------------\n",
      "Comment 39\n",
      "have you bought the battle pass  you can complete battle pass tiers but to acquire the characters guns camos you gotta buy bp\n",
      "--------------------------------------------------\n",
      "Comment 40\n",
      "i got them early in the pulls  around   or   triesdunno i pulled them when i was bored\n",
      "--------------------------------------------------\n",
      "Comment 41\n",
      "i think that s your device telling you it s about to die soon and you need to get a new one  usually when it happens you get excessive lag  crashing  randomly start having issues with sound  buzzing and so on\n",
      "--------------------------------------------------\n",
      "Comment 42\n",
      "i ve killed lots of mythic users with my f p weapons especially bright ffar for some reason  if you know you re decent  you shouldn t be worried  if it s about iron sights then use white dot for pin point accuracy hesdshots  only if you can control the recoil\n",
      "--------------------------------------------------\n",
      "Comment 43\n",
      "keep login error reason time guy still havent rectified every single time update login game becomes problem ill start getting login error ill clear cache yet thing please permanently remedy\n",
      "--------------------------------------------------\n",
      "Comment 44\n",
      "like game randomly battle royal ge like freeze im shooting like 10 second make stop shooting j end dead also stop moving problem pthrr good game\n",
      "--------------------------------------------------\n",
      "Comment 45\n",
      "look like hacker getting banned little slow banning hacker start hope many get banned get 2 star lag still much used wich get 1 star low graphic causing problem battle royale give enemy player unfair upper hand shooting foot away cant even see vehicle suddenly land show nowhere near cant see coming\n",
      "--------------------------------------------------\n",
      "Comment 46\n",
      "love game first heard played almost every call duty never problem none wish bring back kilo 141 demon song lag part shot dont hit enemy get moving one else\n",
      "--------------------------------------------------\n",
      "Comment 47\n",
      "love game though close real greatest problem consistent upgrade large storage taken reduces functionality game one would think game offline frustratingly online developer reconsider player may drop period time due game capacity also noticed developer dont respond people review mean care le look\n",
      "--------------------------------------------------\n",
      "Comment 48\n",
      "loving game since day one wish final kill cam battle royal kill cam killed kill get pulled clip worthy sometimes want see got edit 6822 suggestion yo development team battle royal look scope rifle replace movement control fire control annoying ive lined shot instead firing start walking\n",
      "--------------------------------------------------\n",
      "Comment 49\n",
      "many cheater hacker game developer figure stop kill fun game another thing im discovering developer seems favor people coin control dont work sudden function like youre pulling backwards hide enemy sudden notice player moving forward get shot\n",
      "--------------------------------------------------\n",
      "Comment 50\n",
      "massive bot problem im losing much game im real player team happens like 5070 time everytime play im playing ranked shouldnt bot ranked match\n",
      "--------------------------------------------------\n",
      "Comment 51\n",
      "matter good get game get frustrated hacker happens mostly get legendary ranked match majority use sniper weapon cause never miss 1 shot 1 kill try investigating legendary player ranked match 60 hacker\n",
      "--------------------------------------------------\n",
      "Comment 52\n",
      "mean call duty wonderful game call duty franchise doesnt work low end device properly new ground war mode lag lot indian server get lot ping spike f2p community doesnt lot option think would really cool add co large event aur set event battle pas activation card atleast\n",
      "--------------------------------------------------\n",
      "Comment 53\n",
      "must always download additional resource every weekonce take 4 day break come back suddenly need start downloading additional stuff playthen new ground war terriblei keep getting shot without seeing shot mewhen one start\n",
      "--------------------------------------------------\n",
      "Comment 54\n",
      "negative rating possible 15 month  game keep refreshingreloading whatever playing cod team doesnt really care dont vod team care time delete annoying game\n",
      "--------------------------------------------------\n",
      "Comment 55\n",
      "new update game keep dropping connection middle almost every match game useless wasting time\n",
      "--------------------------------------------------\n",
      "Comment 56\n",
      "new update joke new multiplayer map bugged empty whole clip enemy dont take damage get shot take 3 bullet\n",
      "--------------------------------------------------\n",
      "Comment 57\n",
      "past week ive noticed significant difficulty change br ranked multilayer mode normally either winning finishing strong player team rarely able kill one maybe two enemy latest update 6 game br ring death faster car always engaged least 2 team 3 4 game gone challenging fun pointless one update\n",
      "--------------------------------------------------\n",
      "Comment 58\n",
      "pay game suffer pain development reconnecting game even network smooth u ping problem worst experience way cp event crappier crate coupon give elite rare camo unwanted grenade worthless skin collector player worth heavy spender\n",
      "--------------------------------------------------\n",
      "Comment 59\n",
      "playing game year every update weapon buffed nerf soon get use layout codm developer destroys mythic ak kill enemy ping 90 m waste money recommend spending money game anymore current season oden ground loot almost ground loot stonger expensive gun skin ridiculous\n",
      "--------------------------------------------------\n",
      "Comment 60\n",
      "please fix ninja perk footstep close whatsoever absolutely sound notification around appear face youve nerfed trap dont anything enemy run jetpack make impossible even target enemy time pay gun win game shotgun powerful even good movement lose im done playing awhile\n",
      "--------------------------------------------------\n",
      "Comment 61\n",
      "pls review game love play yeah bug make frustratededit pls change way tie work capture flag flag captured end shouldnt tie win obviously pls fix editpls fix way long shot obj work shorty  nerf impossible finish pls make range req le activision doesnt care game anymore editfix ranked  dont want play bot dumb\n",
      "--------------------------------------------------\n",
      "Comment 62\n",
      "quick draw game quicker draw reason bullet take 3 second register hit somebody full clip long dont get hit next three second ill kill disadvantage want know bullet take 3 second hit somebody hacked happen anyone else\n",
      "--------------------------------------------------\n",
      "Comment 63\n",
      "rate game 210 fun lot cheater like unfair player game onscreen game controller laptoppc player really making game hard play mobile 9 time outta 10 cannot beat mobile device disappointing unplayable staff reporting aimbot user\n",
      "--------------------------------------------------\n",
      "Comment 64\n",
      "really great game one slight problem past day ive noticed increase amount hacker playing let multiplayer battle royal fire entire clip dont even flinch 2 shot dead make frustrated see please help getting rid hacker\n",
      "--------------------------------------------------\n",
      "Comment 65\n",
      "receiving configuration download error message numerous time uninstall reinstall game update downloads z fold 2 time wasted data wasted  routine major change twice monthly earns review\n",
      "--------------------------------------------------\n",
      "Comment 66\n",
      "recently downloaded game purchased ingame cod coin able buy battle pas bundle beginner bundle paid direct making transations receive purchase checked paypal actually paid twice beginner bundle sent activision report response\n",
      "--------------------------------------------------\n",
      "Comment 67\n",
      "ridiculous disappointing crash crash crash crash mobile game called call crash disgrace even name call duty stupid load screen beginning pointless egyptian animation swear one purposeto crash game problem running mobile game except one disappointed activision around since 4000bc still havent realized crash fixed\n",
      "--------------------------------------------------\n",
      "Comment 68\n",
      "sad say quitting game reason severe lag ping spike cannot enjoy game anymore fps drop kept getting worse season progress major issue lag fixed quitting game\n",
      "--------------------------------------------------\n",
      "Comment 69\n",
      "say please bring back old graphic setting since update gaming experience ruined new graphic preference downloaded resource nothing didnt change anything update full bug glitch audio br messed cant hear vehicle going nearby enemy invisible appear dont fix issue soon people stop playing game getting annoying\n",
      "--------------------------------------------------\n",
      "Comment 70\n",
      "started first came would know take way long get ranked mp match might well give bot people dont give leave zombie die headshot im sure hacker seems pointless report\n",
      "--------------------------------------------------\n",
      "Comment 71\n",
      "stop downloading additional map dont want keep downloading stuff even stop download keep filling phone game lag stupid could use map want dont get map shoved throat phone would run smoothly problem ruin whole experience dont want download every freaking thing low iq u\n",
      "--------------------------------------------------\n",
      "Comment 72\n",
      "stupid useless game  update nonsense twice stii refuse update  nonsense updated game wifi mobile still doesnt want update finish data annoying urge team something\n",
      "--------------------------------------------------\n",
      "Comment 73\n",
      "take data update came even s5 update take 76 gb mobile data upar stop 100 show couldnt update plz update first update 3 time couldnt worst thing game codm thank codm\n",
      "--------------------------------------------------\n",
      "Comment 74\n",
      "the iron sight isn t too insufferable for me  i can still drop    kills on ground war with it no problem\n",
      "--------------------------------------------------\n",
      "Comment 75\n",
      "this is what i ve been saying  they deal the same amount of damage  it s just that paid guns have a better ironi normally just slap a red dot on any gun that doesn t have a good iron so it s not that noticeable  if anything it s pay to lose for me because i find stuff that s too shiny distracting\n",
      "--------------------------------------------------\n",
      "Comment 76\n",
      "uninstalled app month reinstalled day back whenever start show device active internet connection working stable wifi connection dont understand problem\n",
      "--------------------------------------------------\n",
      "Comment 77\n",
      "wish could give game 5 star developer dont deserve brand new season there bug ever extreme lagging server connection error screen totally black battle royale game fueds come 4th season already every update seems worse last update last sentence 4120 still true\n",
      "--------------------------------------------------\n",
      "Comment 78\n",
      "worst game ever game run specific algorithm winning losing optimization necessary rather fooling around mass seasonal update thankyou\n",
      "--------------------------------------------------\n",
      "Comment 79\n",
      "worst game world download game always freeze ive tried two different mobile mobile issue attempt email problem youre going get automated reply wish could give app 5\n",
      "--------------------------------------------------\n",
      "Comment 80\n",
      "would 5 star connect bt controller cant look leftright updown none button work way setting say walk back forthaim shoot even tactical button dont work\n",
      "--------------------------------------------------\n",
      "Comment 81\n",
      "zrg  it just feels so damn powerful\n",
      "--------------------------------------------------\n",
      "Comment 82\n",
      "addicted game problem complaint playing crash alot alot memory space updated hate cuz playing hella gud bam close  hella fun\n",
      "--------------------------------------------------\n",
      "Comment 83\n",
      "aim kill switch repeat\n",
      "--------------------------------------------------\n",
      "Comment 84\n",
      "allow cheating really bad bad game becomes unplayable long stretch reporting system dont think actually anything think seem like care cheating play multiple game people cheat every time report still allowed play\n",
      "--------------------------------------------------\n",
      "Comment 85\n",
      "always giving legendary weapon wild draw open last gave bundle much sensible worth anymore suck give legendary weapon bundle\n",
      "--------------------------------------------------\n",
      "Comment 86\n",
      "app always downloads stuff wifi even autodownload unticked ask download ticked app ignores downloads anyways bad people connected via access point\n",
      "--------------------------------------------------\n",
      "Comment 87\n",
      "bad experience updating game used almost 25gb data update new season ending download fail  showing download\n",
      "--------------------------------------------------\n",
      "Comment 88\n",
      "bad performance always updating updating open game dont waste mobile memory per day updating open game error error error wastage mb always best free fire give free fire 5 star call duty 01  star\n",
      "--------------------------------------------------\n",
      "Comment 89\n",
      "bit funky frame rate sometimes tends lag small amount overall bad\n",
      "--------------------------------------------------\n",
      "Comment 90\n",
      "bruh cant even install game reason dont knowi plenty storage empty still cant install cancel whole dame thingelse tried get game friend simpley denies install say app doesnt install one time installed suddenly give permission access storage say playstore support please help asap\n",
      "--------------------------------------------------\n",
      "Comment 91\n",
      "cant download update 153 gb space phone even deleted apex legend thinkin deleting codm playing since 2019\n",
      "--------------------------------------------------\n",
      "Comment 92\n",
      "connection loss game becomes oblivious several second match extremely irritating\n",
      "--------------------------------------------------\n",
      "Comment 93\n",
      "data erased mad lot progress game logged fb account able restore old level\n",
      "--------------------------------------------------\n",
      "Comment 94\n",
      "disappointed game struggling connect controller research problem going\n",
      "--------------------------------------------------\n",
      "Comment 95\n",
      "downloaded game wifi made set open game say  network error error time downloading game earth cause problem\n",
      "--------------------------------------------------\n",
      "Comment 96\n",
      "enough storage device limited data update game stop 100 data still get use use download doesnt stop fix sh\n",
      "--------------------------------------------------\n",
      "Comment 97\n",
      "ever since updated opening showing crash fixed problem\n",
      "--------------------------------------------------\n",
      "Comment 98\n",
      "every month  could worse glad yall back new set\n",
      "--------------------------------------------------\n",
      "Comment 99\n",
      "every time updatethe downloading done 100  happens dont know full internet pack got wasted every time annoying far nothing related realistic gaming\n",
      "--------------------------------------------------\n",
      "Comment 100\n",
      "every time updating updating n keep updatingafter update 100 show cant updatedwhy wasted data3 time wasted dataworst experiencem big fan gamebut going uninstallgoodbye\n",
      "--------------------------------------------------\n",
      "Comment 101\n",
      "fix game optimization run badly mp low end phone getting tired constantly lagging mp ranked frustrating motivation play game thiseven shaders preload game impossible run smoothly fix game codm devs reason player leaving game playing something else\n",
      "--------------------------------------------------\n",
      "Comment 102\n",
      "forced tutorial idiotic let play game ill figure especially since done reason ive restart scratch\n",
      "--------------------------------------------------\n",
      "Comment 103\n",
      "full looot scheme purchasing weapon strongly recommend buying anything gun skin look cheap end paying 56 time see\n",
      "--------------------------------------------------\n",
      "Comment 104\n",
      "fun played game allready 3 year new update super bad wired dont like way everything look bad hate might delete istg bad af hate anyway think old version better\n",
      "--------------------------------------------------\n",
      "Comment 105\n",
      "game crash middle battle royale match really suck middle match suddenly game crash\n",
      "--------------------------------------------------\n",
      "Comment 106\n",
      "game get worse play seriously game made trigger deepest anger cost devs ashamed latest patch never fails matter device play slightest tilt bump make screen flip upside uncontrollably uninstalled never install game serious balancing issue matchmaking never fixed\n",
      "--------------------------------------------------\n",
      "Comment 107\n",
      "game good every time log alwalys updating map resource also gun wasted time already update going play update even finish update stop playing game recommed friend friend onthers friend neighbor relative friend basketbal work mate kalas\n",
      "--------------------------------------------------\n",
      "Comment 108\n",
      "game got crash good device first time gotting crash think update may bug anything else make fear lost account something else plz call duty fix plz\n",
      "--------------------------------------------------\n",
      "Comment 109\n",
      "game horrible gotdam take away point even get victory getting really annoying put slef play battle royal check fill squad duo still put single\n",
      "--------------------------------------------------\n",
      "Comment 110\n",
      "game keep shutting battle royale hardly ever seems quick multiplayer match get battle royale ill relog three four time game  seriously thinking putting money game cant kicking time\n",
      "--------------------------------------------------\n",
      "Comment 111\n",
      "game lagging like crazy every often every game play lag glitch bad im dead even knew happened game isnt enjoyable anymore\n",
      "--------------------------------------------------\n",
      "Comment 112\n",
      "game pant ai game clue whatsoever using environment die approx 15 time may die andl loose match realistically match dont expect ai actually stay put respawning enemy us vito helicopter see cannot option ai game id rather 1 v 5 jack ai would nice maybe might actually win match 2 stand impossible\n",
      "--------------------------------------------------\n",
      "Comment 113\n",
      "game puposly set challenge make hard complete challenge exzample challenge slide 10 time match ill get killed 4th slide revive team mate lobby sweaty second crouch revive get killed even one around somehow ill get snipped half way across map game becoming silly cant wait apex come might go back fortnite even tho feel fortnite silly\n",
      "--------------------------------------------------\n",
      "Comment 114\n",
      "game starting suck really bad im delete every time turn around download map weapon every time there update im sick\n",
      "--------------------------------------------------\n",
      "Comment 115\n",
      "game suck bad activision cant even game best gun unbalanced rage one minute way many sweat lot camper stupid powered score streak\n",
      "--------------------------------------------------\n",
      "Comment 116\n",
      "game worst hacker hacker annoying game security even ban hacker 2 bot bot lame im real life person rest bot team always lose wish could rate half star activision could security bot actually pro would rate 5 star give good ratingthanks update\n",
      "--------------------------------------------------\n",
      "Comment 117\n",
      "garena player use often search destroy\n",
      "--------------------------------------------------\n",
      "Comment 118\n",
      "great experience every update game get worst performanceyou cant play fair game 4gb ram anymore lag bearable due required ram gb space 16gb\n",
      "--------------------------------------------------\n",
      "Comment 119\n",
      "hell yeah ethan battle pas slaying style\n",
      "--------------------------------------------------\n",
      "Comment 120\n",
      "hello deepanshuone man army master mind gameplay\n",
      "--------------------------------------------------\n",
      "Comment 121\n",
      "ill give 3 star three reason reason 1 game need constant updating reason 2 without money get bad gun anything else reason 3 lagging glitching hacker like game three reason dont\n",
      "--------------------------------------------------\n",
      "Comment 122\n",
      "ive 5 star review since november 2019 latest update caused bug crash game every br match always either kill blue zone freeze right im fight kinda hard improve stats game biggest opponent fix bug ill happy bring back 5 star\n",
      "--------------------------------------------------\n",
      "Comment 123\n",
      "ive experiencing issue game graphic past week blur lag game much br become unplayable\n",
      "--------------------------------------------------\n",
      "Comment 124\n",
      "le 1 star would pick worst game pay win many cheater based good game stupid game ever 90 player either use game console supposed mobile game 90 player also cheat using hack penetration autoaim bot wall hack never dy dont know nothing\n",
      "--------------------------------------------------\n",
      "Comment 125\n",
      "like game waste time shooting ppl kill two shot im shooting bullet keep reload never ragged game like one\n",
      "--------------------------------------------------\n",
      "Comment 126\n",
      "listen activision  new update suck big time  whoever suggested might issue life  dude make worth playing  attachment  useless health system  lagging bot  also nerfed ski wingsuit  hell wrong developer   fine update  guy made fall\n",
      "--------------------------------------------------\n",
      "Comment 127\n",
      "need crashing im losing ranked match xp screen black cant participate match sometimes fix asap\n",
      "--------------------------------------------------\n",
      "Comment 128\n",
      "new problem new update full network still showing network problem game get stucked bw match always network issue showing though full network full internet speed\n",
      "--------------------------------------------------\n",
      "Comment 129\n",
      "one day chug cup dissolved capsaicin\n",
      "--------------------------------------------------\n",
      "Comment 130\n",
      "pls add br practice v ai creative plssss\n",
      "--------------------------------------------------\n",
      "Comment 131\n",
      "poor game instead playing wanna play mario oldest version worst game ever seen server much glitch loading endless management game\n",
      "--------------------------------------------------\n",
      "Comment 132\n",
      "probably shittest season people low end device cannot play br lag caused due sandstorm every match show loading timeout even though good network connection guy gonna lose lot gamers season\n",
      "--------------------------------------------------\n",
      "Comment 133\n",
      "ranked match option play solo dont like losing even kill far rest team basically cant win ranked friend professional gamers usually play random teammate feel like team usually full bot like 23 kill 1520 death non ranked multiplayer challenging enough ranked multiplayer basically depends luck dont play battle royale level 150 legendary class\n",
      "--------------------------------------------------\n",
      "Comment 134\n",
      "ranking make sense matter rank run player absolutely terrible match player way better make game incredibly frustrating play\n",
      "--------------------------------------------------\n",
      "Comment 135\n",
      "rate hope game die 3 gun whole rankedrandom ping spike weapon balancing promotes sniper camping every new gun added new meta wth game ive playing game since launch left around april 2021 came back aug boom old gun useless 2 gun meta etc ive spent around 50 game avail gun useless\n",
      "--------------------------------------------------\n",
      "Comment 136\n",
      "recently ive experiencing wifi connection problem game doesnt open working wifi connection work mobile datasimi checked many timeseven reinstalled timesstill workingplease verify solve\n",
      "--------------------------------------------------\n",
      "Comment 137\n",
      "seriously sooooo many loading screen annoying wait least 5 loading screen even reach menu bad game seriously need something loading screen\n",
      "--------------------------------------------------\n",
      "Comment 138\n",
      "sound character gun sound absolutely terrible graphic okay far worst cod game ive ever played would rather play cod ghost gallon potential\n",
      "--------------------------------------------------\n",
      "Comment 139\n",
      "tell didnt wanna pick space banned\n",
      "--------------------------------------------------\n",
      "Comment 140\n",
      "time game used run 2gb updatealong user data downloads bot developer provided 14gb unnecessary game download data increase lag bug call 16gb progress next update delete game\n",
      "--------------------------------------------------\n",
      "Comment 141\n",
      "world championship 2022  matched enemy higher league random teammate quit match inactive purpose got 56 point 10 match mostly mvp didnt qualify worst cod match ups ever match noobs intensionally\n",
      "--------------------------------------------------\n",
      "Comment 142\n",
      "worst gaming app ever amount downloads app make second nothing everyday im logging 100 mb download take forever logging game another extra 300 mb download\n",
      "--------------------------------------------------\n",
      "Comment 143\n",
      "absolute shite worst game play ever different rubbish xbox psfull cheat stupid money thrown make unplayable scratching arse would better time spent\n",
      "--------------------------------------------------\n",
      "Comment 144\n",
      "almost every update game crash alotthis need fixingi middle ranked match crashed fault still banned\n",
      "--------------------------------------------------\n",
      "Comment 145\n",
      "anyone feeling lag normal oden mythic oden sprint fire delay scope opening time im facing issue mythic oden gun even attachment normal tried game bug\n",
      "--------------------------------------------------\n",
      "Comment 146\n",
      "authorisation error go random screen accessible via wifi even youve got screaming 5g bloody frustrating\n",
      "--------------------------------------------------\n",
      "Comment 147\n",
      "bad unfair game playing ranked match spawned different area enemy enemy spawn right behind bad game dont play recent update game pretty good working perfectly fine lag issue yeah one thing suddenly go 199ms good network freeze die show banned hacking happen like 2 time big deal\n",
      "--------------------------------------------------\n",
      "Comment 148\n",
      "changed 1 star bring back body count percentage suck playing percentage body count game figuring interest rate dietary calculation thought playing combat game bring back body count yesterday already also slacker bot doesnt single kill get percentage\n",
      "--------------------------------------------------\n",
      "Comment 149\n",
      "crash fix im deleting every time crash count loss stat never problem update\n",
      "--------------------------------------------------\n",
      "Comment 150\n",
      "desynchronization  pay win make play apex codm im playing since s1 hate thing developer focus money didnt optimize game really sad  death favourite game\n",
      "--------------------------------------------------\n",
      "Comment 151\n",
      "developer game framing im playing brand new gaming phone damage game bad playing cousin shot back effect hp press fire button shoot mt gun doesnt shoot im playing new phone please fix\n",
      "--------------------------------------------------\n",
      "Comment 152\n",
      "doesnt open always showing connection connection stable account got deleted reason doesnt load even gave feedback never got reply\n",
      "--------------------------------------------------\n",
      "Comment 153\n",
      "end complaint class br nerfed cod mobile add battle royale class pickup anything ground  drop start 2 custom weapon max ammo max backpack full goodiesthen well really see who skill better shot loadouts movement win looting others youve killed box way reload ammo reckless blast ammo away kill melee\n",
      "--------------------------------------------------\n",
      "Comment 154\n",
      "enough stupid update change costume slow game player gain nothing care there new robocop avatar something stupid like aint broke dont fix people shouldnt take 5 minute load game isnt ps5\n",
      "--------------------------------------------------\n",
      "Comment 155\n",
      "game better thanbgmi free fire apex legend battle field ping new state op game game better graphic pubg new state battle field game next level new update\n",
      "--------------------------------------------------\n",
      "Comment 156\n",
      "game fantastic mode issue toxic gun like war machine  purifier trap master type class gun give favour player gun toxic class type issue waste hard word player die toxicity please fix\n",
      "--------------------------------------------------\n",
      "Comment 157\n",
      "game filled bug fps drop severe connectivity issue also game size increase drastically little improvement graphic activision really need check developer update may 2022  problem arent resolved uninstalled\n",
      "--------------------------------------------------\n",
      "Comment 158\n",
      "game glitchy recognize wireless controller reconnect restart app 4 time whoever programmed deserves fired\n",
      "--------------------------------------------------\n",
      "Comment 159\n",
      "gameplay good developer need remove chat watch listen nothing bully worst chat option net including 4chan dissatisfied go stand 2 instead\n",
      "--------------------------------------------------\n",
      "Comment 160\n",
      "good game pas time still problem lag  matchmaking dont think care much instead fixing glitch add spend money watch good player may get banned im sure itll hard get account back trying prove youre hacker first thing theyll ask streamer mode wont help imagine spending much money game get account deleted\n",
      "--------------------------------------------------\n",
      "Comment 161\n",
      "good game problem much annoying autodownloading resource slow loading  matchmaking connection problem autographics set cant change modify setting question hell game downloads extra 300700mb file even downloading 22gb play store mean everything packed size right also game take 35 gb storage space together fix kindly\n",
      "--------------------------------------------------\n",
      "Comment 162\n",
      "good gamebut half month everytime try log say timeoutthen checked internet goodthen deleted game downloaded result\n",
      "--------------------------------------------------\n",
      "Comment 163\n",
      "hi unfortunately due issue uninstalled game playing guest account uninstalled game recovery account asking token number didnt old token number still able recovery account start starting\n",
      "--------------------------------------------------\n",
      "Comment 164\n",
      "interesting gamehobby problem crouching sensitive specially need run slide continuouslythe result youve always caught enemy bullet\n",
      "--------------------------------------------------\n",
      "Comment 165\n",
      "matchmaking algorithm horrible get one game noobs next game get lobby full sweat whats even worse team im left noobs get destroyed overall good game\n",
      "--------------------------------------------------\n",
      "Comment 166\n",
      "new update ruined stats new update full lagging timeouts error like team settled hell going didnt understand 150 level around 12 character lot gun max level investing much time passion get frustration loved game many year playstation cod mobile know much disappointed\n",
      "--------------------------------------------------\n",
      "Comment 167\n",
      "nice challenging game representing franchise strongly recommend solution ping problem many african country many african player bad experience online gaming specially shooting game think solving problem would increase exponentially gaming community country would atract many gamers good doesnt play online game due high ping country\n",
      "--------------------------------------------------\n",
      "Comment 168\n",
      "overall great gameand possible would play daily odd reason lately loading screen come boot back phone home screen load 99 percentwhat could causing issue\n",
      "--------------------------------------------------\n",
      "Comment 169\n",
      "persistence nerfed ranked match opposing team even good still win spam scorestreaks end game happening every ranked match really frustrating lose didnt use persistence wont play game fixed\n",
      "--------------------------------------------------\n",
      "Comment 170\n",
      "playing came conclusion  server game nightmare prioritize player others match unknown reason sometime team priorized winning easily sometimes oppenents second term mobile codm mostly irrelevant game infested pc player using emulator combat pattern recognizable long another cash cow activision doesnt care fair play codm worse pay2win\n",
      "--------------------------------------------------\n",
      "Comment 171\n",
      "please fix lag really bad play competitive also request guy add camouflage whole category gun diamond gun diamond closing please\n",
      "--------------------------------------------------\n",
      "Comment 172\n",
      "recent update disappointment controller bluetooth connectivity worse bot literal waste time especially search destroy slide jumping across map away objective gameplay bot point feeder frontline tdm kill cam see aiming directly opponent bullet nerf wound random draw sadly biased backpack flashbangs game suffers capitalist greed\n",
      "--------------------------------------------------\n",
      "Comment 173\n",
      "recent update would 5 star player turning invisible mid gunfight gun dissappear screen mid gunfight stop shooting reappear buggy atm running really well latest update edit problem resolved game run smooth enjoying\n",
      "--------------------------------------------------\n",
      "Comment 174\n",
      "seriously need fix delay shootingrunning jumping ect odd glitching watched many kill cam showed standing still fact running killed im competitive game fact many player feel hackerscheaters make game le desirable either fix issue lose many playersi used love game make stress release\n",
      "--------------------------------------------------\n",
      "Comment 175\n",
      "umm match got final kill weird part last kill dont know tool something activated could see enemy wall red outline im saying hacking thats legit item need name lol\n",
      "--------------------------------------------------\n",
      "Comment 176\n",
      "unable login game worst app  connecting wifi showing like make sure internet connected device wth wrong app dont download app simply wasting time storage\n",
      "--------------------------------------------------\n",
      "Comment 177\n",
      "uninstalled redownload glitch reason found internet wasnt connecting tower connection leave comment subject saw multiple comment glitching redownload internet fixed surprise wasnt bad aggravated spent much time money happy nothing lost process got back\n",
      "--------------------------------------------------\n",
      "Comment 178\n",
      "warning game may make want smash phone ballshit gameplay would excellent werent stupid glitch drive car try get sometimes get stuck opponent blow car amount time got killed stupid glitch time tried press shoot button game doesnt respond nothing wrong phone btw sometimes get blocked unknown object fix game\n",
      "--------------------------------------------------\n",
      "Comment 179\n",
      "wonderful game love playing always new update game lagging much redmi note 10 cant play game properly mush lag cant play many time cant move charector freezing place much lag frame drop also sometimes signal drop problem bug\n",
      "--------------------------------------------------\n",
      "Comment 180\n",
      "worst game ever pay win game paid skin gun paid character pretty much invincible spend thousand cod point buy gun lucky draw thing like charm calling card sticker etc pretty much useless care tiny charm made shooting enemy legendary mythic gun cheat zero recoil six attachment already red dot sight attached\n",
      "--------------------------------------------------\n",
      "Comment 181\n",
      "a gun with    meters range  bad bsa  bad mobility with only living pro being recoil is a gunbthat sucks simple\n",
      "--------------------------------------------------\n",
      "Comment 182\n",
      "ay another loose ender\n",
      "--------------------------------------------------\n",
      "Comment 183\n",
      "bruh what    it s a meta gun right now what tf are you onedit  lmao you think switchblade  a meta smg  is a bad gun   i won t even argue with you\n",
      "--------------------------------------------------\n",
      "Comment 184\n",
      "by that logic snipers should one shot too  see what i mean  people would be quick scoping you all over the place  it s just unfair that there s nothing you can do  even people like pts with thousands of hours on the game still can t do anything and when a noob in a charly operator can kill a pro content creator in a single shot then you know the gun is absolutely busted\n",
      "--------------------------------------------------\n",
      "Comment 185\n",
      "far from balanced  it was an a  tier class because you could wingsuit and fly away from trouble if you re in the open ground  parker and br ken abused this to no end  it s the only class to work without activating the operator   ie unlimited pumps   the nerf is probably an overcorrection  but i ll wait and see side note  this means jet pack is also nerfed  was my main   although it could still wall climb and theoretically get to higher ground than pumped next season\n",
      "--------------------------------------------------\n",
      "Comment 186\n",
      "for once i agree with you  persistentence imo is really just a hindrance more than anything  since you get a capped amount of streaks  i d rather run continously uavs than use this shit  and i d rather have to deal with a single use of copper gunner  gunship and ac    rather than be bombarded continously with cluster strikes  vulkans and pred missiles\n",
      "--------------------------------------------------\n",
      "Comment 187\n",
      "fully upgraded that on day    but slow progress ain t bad  enjoy this beauty  bro\n",
      "--------------------------------------------------\n",
      "Comment 188\n",
      "hell yeah\n",
      "--------------------------------------------------\n",
      "Comment 189\n",
      "hey there  alcatraz will be replaced by ground war  breach for br mode tournaments this season\n",
      "--------------------------------------------------\n",
      "Comment 190\n",
      "i forgot about remaster\n",
      "--------------------------------------------------\n",
      "Comment 191\n",
      "i really  really  really hate unapologetically stupid people  this just so happened to come to me as i had a wave of energy\n",
      "--------------------------------------------------\n",
      "Comment 192\n",
      "i think you have down syndrome\n",
      "--------------------------------------------------\n",
      "Comment 193\n",
      "i ve made up my mind to forget about being an honorable player  now we go full toxic mode\n",
      "--------------------------------------------------\n",
      "Comment 194\n",
      "i was talking about my personal experience in br  not the universal one  i kinda thought i covered that in my comment\n",
      "--------------------------------------------------\n",
      "Comment 195\n",
      "if i m not mistaken  you re supposed to just hold the jump button with pumped right  the hight gained that way is absolutely useless  if that s really what they re gonna do then i ll seriously stop using it because ninja gives more mobility flexibility than pumped without  super jump   tbh they should just leave it in as it requires some skill to make the most use of it  at least on controller  and makes the class useful in the first place  what good is a jetpack class that can t even reliably get me over a car that s rolling towards me  that s honestly the worst thing about it  it will take away my main counter to vehicle fuckers who just run everyone over\n",
      "--------------------------------------------------\n",
      "Comment 196\n",
      "imo it s already nerfed as it requires a certain amount of skill level to use effectively op really commented that they should only   tap to the head  img  emote t  penom\n",
      "--------------------------------------------------\n",
      "Comment 197\n",
      "it s not breach  it s ground war  skirmish\n",
      "--------------------------------------------------\n",
      "Comment 198\n",
      "it was already bad now they ruined it completely now\n",
      "--------------------------------------------------\n",
      "Comment 199\n",
      "it was horrible before but it will become toxic  not as bad as og oersistance meta tho\n",
      "--------------------------------------------------\n",
      "Comment 200\n",
      "its shoot house not killhouse how about you learn the map names first\n",
      "--------------------------------------------------\n",
      "Comment 201\n",
      "me on mic   wait   don t a shoot me   it s a me mario  shotgun spammer   time to mama your last a mia\n",
      "--------------------------------------------------\n",
      "Comment 202\n",
      "now you should find rest parts and you will get an exclusive melee weapon\n",
      "--------------------------------------------------\n",
      "Comment 203\n",
      "skill issue   i am dead\n",
      "--------------------------------------------------\n",
      "Comment 204\n",
      "that s the thing  noobs think pumped possess some sort of super powers  when in reality it s so easy to shoot us  i m pumped main  mid air  also  there s absolutely no protection on the open ground  except maybe from rushing cars and hoverbikes  i think pumped  before jetpack was introduced and changes happened  was one of the most balanced classes  but the developers just killed it off entirely  actually  they managed to kill off two classes simultaneously  pumped and jetpack  the capabilities they allow are just useless imo  i don t think the devs understand what they are doing  all these dogs  ravagers  air strikes  they made the game more toxic than it could ve been  this is not funny but sad  actually parker is switching to igniter  i already asked and he confirmed on several streams\n",
      "--------------------------------------------------\n",
      "Comment 205\n",
      "the cod gods gifted us so many anti streak options  there s no excuse to not have one custom slot built out for this  persistence is a non issue here s my anti steak build  mow w thermite rounds  destroy streaks ridiculously quickly   fhj w firepower support perk  and emp grenades  cod buffed this where you get two upon spawn\n",
      "--------------------------------------------------\n",
      "Comment 206\n",
      "the soundtrack by hans zimmer for codm s  has been leaked https   youtu be wz e qphaia si a wcnxumy rle bw\n",
      "--------------------------------------------------\n",
      "Comment 207\n",
      "well i got put the game public test on my phone then i get a message  thsts days attention  i d it possibly i can send you a screen shot of what it s saying\n",
      "--------------------------------------------------\n",
      "Comment 208\n",
      "what do you mean  care to explain  or you just wanted to trash this type    and tec   two of the newest guns that are buffed  were both released with stats that weren t as good as the  meta  weapons during their release until now  this buff just balances things out  tundra is one of the  new  guns in this list and that s finally received a nerf that actually matters cbr  which is one of the oldest guns that dropped off after massive nerfs  is made a bit more viable with this buff  cordite  msmc  mac  swordfish etc   so many old guns are buffed and yet you bs with  nerf old guns\n",
      "--------------------------------------------------\n",
      "Comment 209\n",
      "when it will be another test server\n",
      "--------------------------------------------------\n",
      "Comment 210\n",
      "yeah it didnt do much but nerfing an akready bad ar isnt good idea  i underszand it tho gun is was too popular so they have to shoot it down eve though it doesnt deserve  type    was supposed to be grau killer that didnt work now they buff type    was already meta now its just op  snd nerfed grau  wierd that they had to nerf a bad just because of its popularity yes  but i understand\n",
      "--------------------------------------------------\n"
     ]
    }
   ],
   "source": [
    "comment_df = spark.sql(\"SELECT Comment FROM memory_query\")\n",
    "comment_content = comment_df.collect()\n",
    "print(\"Full content of the Comment column:\")\n",
    "print(\"-\" * 50)\n",
    "count = 0\n",
    "for row in comment_content:\n",
    "    count = count + 1\n",
    "    print(\"Comment\", count)\n",
    "    print(row.Comment)\n",
    "    print(\"-\" * 50)"
   ]
  },
  {
   "cell_type": "markdown",
   "id": "1db64e4a",
   "metadata": {},
   "source": [
    "<h2>2. Count & Percent for Each Sentiment</h2>"
   ]
  },
  {
   "cell_type": "code",
   "execution_count": 17,
   "id": "6d4fcc0c",
   "metadata": {},
   "outputs": [],
   "source": [
    "hive_table_df = spark.table(\"prediction_result\")"
   ]
  },
  {
   "cell_type": "code",
   "execution_count": 18,
   "id": "0f07ebfd",
   "metadata": {},
   "outputs": [],
   "source": [
    "prediction_df = hive_table_df.withColumn(\"Sentiment_Predicted\", when(col(\"prediction\") == 0.0, \"Positive\")\n",
    "                                             .when(col(\"prediction\") == 1.0, \"Negative\")\n",
    "                                             .when(col(\"prediction\") == 2.0, \"Neutral\"))"
   ]
  },
  {
   "cell_type": "code",
   "execution_count": 19,
   "id": "59f60b5a",
   "metadata": {},
   "outputs": [
    {
     "name": "stdout",
     "output_type": "stream",
     "text": [
      "+--------------------+---------+----------+-------------------+\n",
      "|             Comment|Sentiment|prediction|Sentiment_Predicted|\n",
      "+--------------------+---------+----------+-------------------+\n",
      "|a gun with    met...| Negative|       1.0|           Negative|\n",
      "|a ww  mythic with...| Negative|       2.0|            Neutral|\n",
      "|already a w  alth...|  Neutral|       2.0|            Neutral|\n",
      "|              always|  Neutral|       2.0|            Neutral|\n",
      "|am i the only one...| Positive|       0.0|           Positive|\n",
      "|american college ...|  Neutral|       2.0|            Neutral|\n",
      "|among ars i feel ...| Positive|       0.0|           Positive|\n",
      "|and we appreciate...| Positive|       2.0|            Neutral|\n",
      "|appearently it s ...|  Neutral|       2.0|            Neutral|\n",
      "|are we ever getti...| Positive|       0.0|           Positive|\n",
      "+--------------------+---------+----------+-------------------+\n",
      "only showing top 10 rows\n",
      "\n"
     ]
    }
   ],
   "source": [
    "prediction_df.show(10)"
   ]
  },
  {
   "cell_type": "code",
   "execution_count": 20,
   "id": "acf42787",
   "metadata": {},
   "outputs": [
    {
     "name": "stdout",
     "output_type": "stream",
     "text": [
      "+--------------------+-------------------+\n",
      "|             Comment|Sentiment_Predicted|\n",
      "+--------------------+-------------------+\n",
      "|a gun with    met...|           Negative|\n",
      "|a ww  mythic with...|            Neutral|\n",
      "|already a w  alth...|            Neutral|\n",
      "|              always|            Neutral|\n",
      "|am i the only one...|           Positive|\n",
      "|american college ...|            Neutral|\n",
      "|among ars i feel ...|           Positive|\n",
      "|and we appreciate...|            Neutral|\n",
      "|appearently it s ...|            Neutral|\n",
      "|are we ever getti...|           Positive|\n",
      "+--------------------+-------------------+\n",
      "only showing top 10 rows\n",
      "\n"
     ]
    }
   ],
   "source": [
    "prediction_df = prediction_df.drop(\"Sentiment\")\n",
    "prediction_df = prediction_df.drop(\"prediction\")\n",
    "prediction_df.show(10)"
   ]
  },
  {
   "cell_type": "code",
   "execution_count": 21,
   "id": "04e509c9",
   "metadata": {},
   "outputs": [
    {
     "name": "stdout",
     "output_type": "stream",
     "text": [
      "root\n",
      " |-- Comment: string (nullable = true)\n",
      " |-- Sentiment_Predicted: string (nullable = true)\n",
      "\n"
     ]
    }
   ],
   "source": [
    "prediction_df.printSchema()"
   ]
  },
  {
   "cell_type": "code",
   "execution_count": 22,
   "id": "9c8d7d79",
   "metadata": {},
   "outputs": [
    {
     "name": "stdout",
     "output_type": "stream",
     "text": [
      "Number of records in prediction_df: 1176\n"
     ]
    }
   ],
   "source": [
    "recCount = prediction_df.count()\n",
    "print(\"Number of records in prediction_df:\", recCount)"
   ]
  },
  {
   "cell_type": "code",
   "execution_count": 23,
   "id": "749588af",
   "metadata": {},
   "outputs": [],
   "source": [
    "parquet_output_path2 = \"hdfs://10.123.51.194/user/g23/all_predicted.parquet\""
   ]
  },
  {
   "cell_type": "code",
   "execution_count": 24,
   "id": "36d57bb2",
   "metadata": {},
   "outputs": [],
   "source": [
    "prediction_df.write.mode(\"overwrite\").parquet(parquet_output_path2)"
   ]
  },
  {
   "cell_type": "code",
   "execution_count": 25,
   "id": "9dbb2eef",
   "metadata": {},
   "outputs": [],
   "source": [
    "schema = StructType([\n",
    "    StructField(\"Comment\", StringType(), True),\n",
    "    StructField(\"Sentiment_Predicted\", StringType(), True),\n",
    "    # Add more StructFields as needed\n",
    "])"
   ]
  },
  {
   "cell_type": "code",
   "execution_count": 26,
   "id": "85052ce1",
   "metadata": {},
   "outputs": [],
   "source": [
    "parquet_stream2 = spark \\\n",
    "    .readStream \\\n",
    "    .schema(schema) \\\n",
    "    .format(\"parquet\") \\\n",
    "    .load(parquet_output_path2)"
   ]
  },
  {
   "cell_type": "code",
   "execution_count": 27,
   "id": "faff1d90",
   "metadata": {},
   "outputs": [
    {
     "name": "stdout",
     "output_type": "stream",
     "text": [
      "root\n",
      " |-- Comment: string (nullable = true)\n",
      " |-- Sentiment_Predicted: string (nullable = true)\n",
      "\n"
     ]
    }
   ],
   "source": [
    "parquet_stream2.printSchema()"
   ]
  },
  {
   "cell_type": "code",
   "execution_count": 28,
   "id": "779c8214",
   "metadata": {},
   "outputs": [
    {
     "name": "stdout",
     "output_type": "stream",
     "text": [
      "root\n",
      " |-- Sentiment_Predicted: string (nullable = true)\n",
      " |-- total: long (nullable = false)\n",
      "\n"
     ]
    }
   ],
   "source": [
    "from pyspark.sql.functions import count\n",
    "grouped_df = parquet_stream2.groupBy(\"Sentiment_Predicted\").agg(count(\"*\").alias(\"total\"))\n",
    "grouped_df.printSchema()\n"
   ]
  },
  {
   "cell_type": "code",
   "execution_count": 29,
   "id": "b53d0ebf",
   "metadata": {},
   "outputs": [
    {
     "name": "stderr",
     "output_type": "stream",
     "text": [
      "24/04/26 08:41:20 WARN ResolveWriteToStream: Temporary checkpoint location created which is deleted normally when the query didn't fail: /tmp/temporary-dd6e8914-81fe-4a3a-98bd-885399779a1d. If it's required to delete it under any circumstances, please set spark.sql.streaming.forceDeleteTempCheckpointLocation to true. Important to know deleting temp checkpoint folder is best effort.\n",
      "                                                                                \r"
     ]
    }
   ],
   "source": [
    "memory_query = grouped_df \\\n",
    "    .writeStream \\\n",
    "    .queryName(\"memory_query2\") \\\n",
    "    .format(\"memory\") \\\n",
    "    .outputMode(\"complete\") \\\n",
    "    .start()"
   ]
  },
  {
   "cell_type": "code",
   "execution_count": 30,
   "id": "c4da3b08",
   "metadata": {},
   "outputs": [],
   "source": [
    "final_result = spark.sql(\"SELECT *, ROUND(total / (SELECT SUM(total) FROM memory_query2) * 100, 2) AS percent FROM memory_query2 ORDER BY total DESC\")\n"
   ]
  },
  {
   "cell_type": "code",
   "execution_count": 31,
   "id": "3d0403e5",
   "metadata": {},
   "outputs": [
    {
     "name": "stdout",
     "output_type": "stream",
     "text": [
      "+-------------------+-----+-------+\n",
      "|Sentiment_Predicted|total|percent|\n",
      "+-------------------+-----+-------+\n",
      "|           Positive|  827|  70.32|\n",
      "|           Negative|  210|  17.86|\n",
      "|            Neutral|  139|  11.82|\n",
      "+-------------------+-----+-------+\n",
      "\n"
     ]
    }
   ],
   "source": [
    "final_result.show()"
   ]
  },
  {
   "cell_type": "code",
   "execution_count": 32,
   "id": "067a0499",
   "metadata": {},
   "outputs": [
    {
     "name": "stderr",
     "output_type": "stream",
     "text": [
      "24/04/26 08:42:20 WARN StateStore: Error running maintenance thread\n",
      "java.lang.IllegalStateException: SparkEnv not active, cannot do maintenance on StateStores\n",
      "\tat org.apache.spark.sql.execution.streaming.state.StateStore$.doMaintenance(StateStore.scala:632)\n",
      "\tat org.apache.spark.sql.execution.streaming.state.StateStore$.$anonfun$startMaintenanceIfNeeded$1(StateStore.scala:610)\n",
      "\tat org.apache.spark.sql.execution.streaming.state.StateStore$MaintenanceTask$$anon$1.run(StateStore.scala:453)\n",
      "\tat java.util.concurrent.Executors$RunnableAdapter.call(Executors.java:511)\n",
      "\tat java.util.concurrent.FutureTask.runAndReset(FutureTask.java:308)\n",
      "\tat java.util.concurrent.ScheduledThreadPoolExecutor$ScheduledFutureTask.access$301(ScheduledThreadPoolExecutor.java:180)\n",
      "\tat java.util.concurrent.ScheduledThreadPoolExecutor$ScheduledFutureTask.run(ScheduledThreadPoolExecutor.java:294)\n",
      "\tat java.util.concurrent.ThreadPoolExecutor.runWorker(ThreadPoolExecutor.java:1149)\n",
      "\tat java.util.concurrent.ThreadPoolExecutor$Worker.run(ThreadPoolExecutor.java:624)\n",
      "\tat java.lang.Thread.run(Thread.java:750)\n"
     ]
    }
   ],
   "source": [
    "spark.stop()"
   ]
  },
  {
   "cell_type": "code",
   "execution_count": null,
   "id": "3aa2db14-c16e-4c5f-ae9e-0498d699fd1f",
   "metadata": {},
   "outputs": [],
   "source": []
  }
 ],
 "metadata": {
  "kernelspec": {
   "display_name": "de_venv",
   "language": "python",
   "name": "de_venv"
  },
  "language_info": {
   "codemirror_mode": {
    "name": "ipython",
    "version": 3
   },
   "file_extension": ".py",
   "mimetype": "text/x-python",
   "name": "python",
   "nbconvert_exporter": "python",
   "pygments_lexer": "ipython3",
   "version": "3.10.12"
  }
 },
 "nbformat": 4,
 "nbformat_minor": 5
}
