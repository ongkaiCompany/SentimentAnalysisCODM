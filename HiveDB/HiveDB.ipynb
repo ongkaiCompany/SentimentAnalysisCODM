{
 "cells": [
  {
   "cell_type": "code",
   "execution_count": 1,
   "id": "8818c43c-7e2e-4dca-a704-7da3a8a24e3a",
   "metadata": {},
   "outputs": [],
   "source": [
    "import findspark\n",
    "findspark.init()\n",
    "\n",
    "import pyspark\n",
    "from pyspark.sql import SparkSession\n",
    "from pyspark.conf import SparkConf"
   ]
  },
  {
   "cell_type": "code",
   "execution_count": 2,
   "id": "8b45828a-5cba-44a7-b130-811b5e88511e",
   "metadata": {},
   "outputs": [
    {
     "name": "stderr",
     "output_type": "stream",
     "text": [
      "24/04/26 15:11:54 WARN Utils: Your hostname, jupy-06 resolves to a loopback address: 127.0.1.1; using 10.123.51.206 instead (on interface ens18)\n",
      "24/04/26 15:11:54 WARN Utils: Set SPARK_LOCAL_IP if you need to bind to another address\n",
      "Setting default log level to \"WARN\".\n",
      "To adjust logging level use sc.setLogLevel(newLevel). For SparkR, use setLogLevel(newLevel).\n",
      "24/04/26 15:11:54 WARN NativeCodeLoader: Unable to load native-hadoop library for your platform... using builtin-java classes where applicable\n"
     ]
    }
   ],
   "source": [
    "spark = SparkSession\\\n",
    "         .builder\\\n",
    "         .appName(\"SparkHive\")\\\n",
    "         .config('spark.sql.warehouse.dir', 'hdfs:/user/hive/warehouse/')\\\n",
    "         .config(\"spark.sql.catalogImplementation\", \"hive\")\\\n",
    "         .enableHiveSupport()\\\n",
    "         .getOrCreate()"
   ]
  },
  {
   "cell_type": "code",
   "execution_count": 3,
   "id": "dc506c79-f5c7-4e1f-9e56-8da4a7ffb9d9",
   "metadata": {},
   "outputs": [
    {
     "name": "stderr",
     "output_type": "stream",
     "text": [
      "24/04/26 15:12:02 WARN DomainSocketFactory: The short-circuit local reads feature cannot be used because libhadoop cannot be loaded.\n"
     ]
    },
    {
     "name": "stdout",
     "output_type": "stream",
     "text": [
      "+--------------+\n",
      "|     namespace|\n",
      "+--------------+\n",
      "|       default|\n",
      "|  g31_sales_db|\n",
      "|          hrdb|\n",
      "|       salesdb|\n",
      "|sentiment_data|\n",
      "+--------------+\n",
      "\n"
     ]
    }
   ],
   "source": [
    "spark.sql(\"SHOW DATABASES\").show()"
   ]
  },
  {
   "cell_type": "code",
   "execution_count": 10,
   "id": "1d90bb3e-0b1a-47f8-912a-1f932667024b",
   "metadata": {},
   "outputs": [
    {
     "data": {
      "text/plain": [
       "'sentiment_data'"
      ]
     },
     "execution_count": 10,
     "metadata": {},
     "output_type": "execute_result"
    }
   ],
   "source": [
    "# Check current database\n",
    "spark.catalog.currentDatabase()"
   ]
  },
  {
   "cell_type": "code",
   "execution_count": 5,
   "id": "2dfa34d8-6f08-481f-87f8-8b84b9ce0282",
   "metadata": {},
   "outputs": [
    {
     "name": "stdout",
     "output_type": "stream",
     "text": [
      "+--------------+--------------------+-----------+\n",
      "|     namespace|           tableName|isTemporary|\n",
      "+--------------+--------------------+-----------+\n",
      "|sentiment_data|   prediction_result|      false|\n",
      "|sentiment_data|prediction_result...|      false|\n",
      "|sentiment_data|      temp_csv_table|      false|\n",
      "|sentiment_data|           test_data|      false|\n",
      "|sentiment_data|          train_data|      false|\n",
      "|sentiment_data|      train_data_eva|      false|\n",
      "+--------------+--------------------+-----------+\n",
      "\n"
     ]
    }
   ],
   "source": [
    "spark.sql('USE sentiment_data')\n",
    "\n",
    "tables = spark.sql(\"SHOW TABLES\").show()"
   ]
  },
  {
   "cell_type": "code",
   "execution_count": 12,
   "id": "dbaeff81-d0a8-48ea-baf5-a5405522c5e8",
   "metadata": {},
   "outputs": [
    {
     "name": "stdout",
     "output_type": "stream",
     "text": [
      "+--------------------+---------+--------------+\n",
      "|             Comment|Sentiment|SentimentScore|\n",
      "+--------------------+---------+--------------+\n",
      "|                None|  Neutral|           0.0|\n",
      "|                None|  Neutral|           0.0|\n",
      "|                None|  Neutral|           0.0|\n",
      "|                None|  Neutral|           0.0|\n",
      "|                None|  Neutral|           0.0|\n",
      "|                None|  Neutral|           0.0|\n",
      "|                None|  Neutral|           0.0|\n",
      "|                None|  Neutral|           0.0|\n",
      "|                None|  Neutral|           0.0|\n",
      "|                None|  Neutral|           0.0|\n",
      "|                None|  Neutral|           0.0|\n",
      "|                None|  Neutral|           0.0|\n",
      "|                None|  Neutral|           0.0|\n",
      "|                None|  Neutral|           0.0|\n",
      "|                None|  Neutral|           0.0|\n",
      "|                None|  Neutral|           0.0|\n",
      "|a gun with    met...| Negative|       -0.9137|\n",
      "|a gun with    met...| Negative|       -0.9062|\n",
      "|a lotjk but you l...| Positive|        0.4215|\n",
      "|a ww  mythic with...| Negative|       -0.4767|\n",
      "+--------------------+---------+--------------+\n",
      "only showing top 20 rows\n",
      "\n",
      "+--------------------+---------+--------------+\n",
      "|             Comment|Sentiment|SentimentScore|\n",
      "+--------------------+---------+--------------+\n",
      "|                None|  Neutral|           0.0|\n",
      "|                None|  Neutral|           0.0|\n",
      "|a man of culture ...|  Neutral|           0.0|\n",
      "|about time we fin...| Positive|          0.34|\n",
      "|absolute legend  ...| Negative|       -0.3412|\n",
      "|abuse the perk so...| Negative|       -0.6369|\n",
      "|acog  or the amou...| Positive|        0.4939|\n",
      "|all of your contr...| Positive|        0.1779|\n",
      "|among ars i feel ...| Positive|        0.7783|\n",
      "|and all of those ...|  Neutral|           0.0|\n",
      "|and the free draw...| Positive|        0.5106|\n",
      "|another season of...|  Neutral|           0.0|\n",
      "|any chance of hbr...| Positive|          0.25|\n",
      "|any plans for zom...|  Neutral|           0.0|\n",
      "|appearently it s ...|  Neutral|           0.0|\n",
      "|are you fixing th...| Negative|       -0.4019|\n",
      "|as a person who h...| Positive|        0.5994|\n",
      "|as a pkm main  i ...| Negative|       -0.0258|\n",
      "|asks redditors fo...| Positive|        0.8481|\n",
      "|because i m a dum...| Negative|       -0.5574|\n",
      "+--------------------+---------+--------------+\n",
      "only showing top 20 rows\n",
      "\n",
      "+--------------------+---------+----------+\n",
      "|             Comment|Sentiment|prediction|\n",
      "+--------------------+---------+----------+\n",
      "|                None|  Neutral|       2.0|\n",
      "|                None|  Neutral|       2.0|\n",
      "|a man of culture ...|  Neutral|       2.0|\n",
      "|about time we fin...| Positive|       1.0|\n",
      "|absolute legend  ...| Negative|       0.0|\n",
      "|abuse the perk so...| Negative|       1.0|\n",
      "|acog  or the amou...| Positive|       2.0|\n",
      "|all of your contr...| Positive|       1.0|\n",
      "|among ars i feel ...| Positive|       0.0|\n",
      "|and all of those ...|  Neutral|       0.0|\n",
      "|and the free draw...| Positive|       0.0|\n",
      "|another season of...|  Neutral|       2.0|\n",
      "|any chance of hbr...| Positive|       2.0|\n",
      "|any plans for zom...|  Neutral|       2.0|\n",
      "|appearently it s ...|  Neutral|       2.0|\n",
      "|are you fixing th...| Negative|       0.0|\n",
      "|as a person who h...| Positive|       0.0|\n",
      "|as a pkm main  i ...| Negative|       1.0|\n",
      "|asks redditors fo...| Positive|       1.0|\n",
      "|because i m a dum...| Negative|       2.0|\n",
      "+--------------------+---------+----------+\n",
      "only showing top 20 rows\n",
      "\n"
     ]
    }
   ],
   "source": [
    "#craw data from hive \n",
    "train_data = spark.sql(\"SELECT * FROM sentiment_data.train_data\")\n",
    "train_data.show()\n",
    "test_data = spark.sql(\"SELECT * FROM sentiment_data.test_data\")\n",
    "test_data.show()\n",
    "prediction_result = spark.sql(\"SELECT * FROM sentiment_data.prediction_result\")\n",
    "prediction_result.show()"
   ]
  },
  {
   "cell_type": "code",
   "execution_count": 10,
   "id": "54bbd5fa-1aa0-445e-a2ec-2d095d50658e",
   "metadata": {},
   "outputs": [
    {
     "name": "stdout",
     "output_type": "stream",
     "text": [
      "+--------------------+---------+----------+\n",
      "|             Comment|Sentiment|prediction|\n",
      "+--------------------+---------+----------+\n",
      "|a gun with    met...| Negative|       1.0|\n",
      "|a ww  mythic with...| Negative|       2.0|\n",
      "|already a w  alth...|  Neutral|       2.0|\n",
      "|              always|  Neutral|       2.0|\n",
      "|am i the only one...| Positive|       0.0|\n",
      "|american college ...|  Neutral|       2.0|\n",
      "|among ars i feel ...| Positive|       0.0|\n",
      "|and we appreciate...| Positive|       2.0|\n",
      "|appearently it s ...|  Neutral|       2.0|\n",
      "|are we ever getti...| Positive|       0.0|\n",
      "|as a persistence ...| Positive|       0.0|\n",
      "|as long as there ...| Positive|       0.0|\n",
      "|as long as there ...|  Neutral|       0.0|\n",
      "|asks redditors fo...| Positive|       0.0|\n",
      "|ay another loose ...| Negative|       1.0|\n",
      "|because i m a dum...| Negative|       2.0|\n",
      "|best record for l...| Positive|       0.0|\n",
      "|better not  buttt...| Negative|       0.0|\n",
      "|   bot match invites| Positive|       2.0|\n",
      "|bro is going to d...|  Neutral|       2.0|\n",
      "|bro what tablet d...| Negative|       0.0|\n",
      "|bruh  all i want ...| Negative|       0.0|\n",
      "|bruh so ive been ...|  Neutral|       2.0|\n",
      "|bruh what    it s...| Negative|       1.0|\n",
      "|buff persistence ...|  Neutral|       0.0|\n",
      "|by that logic sni...| Negative|       1.0|\n",
      "|by the way just f...| Positive|       0.0|\n",
      "|can i pls ask if ...| Positive|       0.0|\n",
      "|  can i still get it|  Neutral|       0.0|\n",
      "|can there be a fr...| Positive|       0.0|\n",
      "|check it out in d...| Positive|       2.0|\n",
      "|  codm  a          f|  Neutral|       2.0|\n",
      "|codm isnt p w  ca...|  Neutral|       2.0|\n",
      "|congratulations  ...| Positive|       0.0|\n",
      "|console players c...| Negative|       0.0|\n",
      "|coolest  definite...| Positive|       0.0|\n",
      "|curious as to exa...| Negative|       0.0|\n",
      "|depends on ur server|  Neutral|       2.0|\n",
      "|devs  add a pause...| Positive|       0.0|\n",
      "|devs pre build sn...| Positive|       0.0|\n",
      "|did you not read ...|  Neutral|       0.0|\n",
      "|do scorestreaks k...| Negative|       2.0|\n",
      "|do t use the holy...| Negative|       2.0|\n",
      "|don t worry they ...| Negative|       0.0|\n",
      "|        drh kurohana|  Neutral|       2.0|\n",
      "|               facts|  Neutral|       2.0|\n",
      "|fan fucking tasti...| Positive|       0.0|\n",
      "|far from balanced...| Negative|       1.0|\n",
      "|for once i agree ...| Negative|       1.0|\n",
      "|from what i saw  ...| Positive|       0.0|\n",
      "|ftl and ethan are...| Positive|       0.0|\n",
      "|           fuck yeah| Negative|       0.0|\n",
      "|fully upgraded th...| Positive|       1.0|\n",
      "|gb ram and made i...| Positive|       0.0|\n",
      "|gif  giphy a  jwi...|  Neutral|       2.0|\n",
      "|gif  giphy dum jz...|  Neutral|       2.0|\n",
      "|gif  giphy l vr c...|  Neutral|       2.0|\n",
      "|gif  giphy mzoutc...| Positive|       0.0|\n",
      "|gorgeous skin  en...| Positive|       0.0|\n",
      "|hans zimmer is on...| Positive|       0.0|\n",
      "|have this operato...| Positive|       0.0|\n",
      "|           hell yeah| Negative|       1.0|\n",
      "|hey everyone we h...| Positive|       0.0|\n",
      "|hey there  alcatr...| Negative|       1.0|\n",
      "|hey there  so yea...| Positive|       0.0|\n",
      "|honestly i use it...| Positive|       0.0|\n",
      "|hope the free rew...| Positive|       0.0|\n",
      "|  how     win streak| Positive|       0.0|\n",
      "|how much do i nee...| Positive|       0.0|\n",
      "|i am always flabb...| Positive|       0.0|\n",
      "|i can for mp but ...|  Neutral|       2.0|\n",
      "|i d like that too...| Positive|       0.0|\n",
      "|i forgot about re...|  Neutral|       1.0|\n",
      "|i got the copper ...| Positive|       0.0|\n",
      "|i have one slot l...|  Neutral|       2.0|\n",
      "|i know this is ou...| Positive|       0.0|\n",
      "|i m a mp main and...| Positive|       0.0|\n",
      "|i m talking about...|  Neutral|       0.0|\n",
      "|i mean i love the...| Positive|       0.0|\n",
      "|i mean it s not a...| Positive|       0.0|\n",
      "|i really  really ...| Negative|       1.0|\n",
      "|i regret it every...| Negative|       0.0|\n",
      "|i think lmgs shou...| Negative|       0.0|\n",
      "|i think you have ...|  Neutral|       1.0|\n",
      "|i thought that wo...|  Neutral|       2.0|\n",
      "|i thought this wa...| Positive|       2.0|\n",
      "|i ve already star...| Positive|       0.0|\n",
      "|i ve made up my m...| Positive|       1.0|\n",
      "|i want him to rec...| Positive|       0.0|\n",
      "|i was talking abo...|  Neutral|       1.0|\n",
      "|idk i say good ga...| Positive|       0.0|\n",
      "|if i m not mistak...| Negative|       1.0|\n",
      "|if that were the ...| Positive|       0.0|\n",
      "|if there s a supp...|  Neutral|       2.0|\n",
      "|if u are very new...| Positive|       0.0|\n",
      "|if you can t beat...| Positive|       2.0|\n",
      "|if you care wheth...| Positive|       0.0|\n",
      "|if you re down wi...| Positive|       0.0|\n",
      "|imagine being so ...| Negative|       0.0|\n",
      "| img  emote t  penom|  Neutral|       2.0|\n",
      "+--------------------+---------+----------+\n",
      "only showing top 100 rows\n",
      "\n"
     ]
    }
   ],
   "source": [
    "prediction = spark.sql(\"SELECT * FROM sentiment_data.prediction_result\")\n",
    "prediction.show(100)"
   ]
  },
  {
   "cell_type": "code",
   "execution_count": 13,
   "id": "f85c1195-f5d6-4f8d-8ac8-29492b00fd28",
   "metadata": {},
   "outputs": [],
   "source": [
    "spark.stop()"
   ]
  },
  {
   "cell_type": "code",
   "execution_count": null,
   "id": "b37f9e12-0568-4c91-9a4f-1ae7ef2bbb40",
   "metadata": {},
   "outputs": [],
   "source": []
  },
  {
   "cell_type": "code",
   "execution_count": null,
   "id": "73f5d826-c906-4408-801a-e3f4950491dc",
   "metadata": {},
   "outputs": [],
   "source": []
  },
  {
   "cell_type": "code",
   "execution_count": null,
   "id": "8231da6c-98f8-486d-9101-16f53e22c773",
   "metadata": {},
   "outputs": [],
   "source": []
  },
  {
   "cell_type": "code",
   "execution_count": null,
   "id": "15532607-7375-4245-b658-3aafd87a78e7",
   "metadata": {},
   "outputs": [],
   "source": []
  },
  {
   "cell_type": "code",
   "execution_count": null,
   "id": "cf529064-fd18-461d-a14e-0542e6cb02d0",
   "metadata": {},
   "outputs": [],
   "source": []
  }
 ],
 "metadata": {
  "kernelspec": {
   "display_name": "de_venv",
   "language": "python",
   "name": "de_venv"
  },
  "language_info": {
   "codemirror_mode": {
    "name": "ipython",
    "version": 3
   },
   "file_extension": ".py",
   "mimetype": "text/x-python",
   "name": "python",
   "nbconvert_exporter": "python",
   "pygments_lexer": "ipython3",
   "version": "3.10.12"
  }
 },
 "nbformat": 4,
 "nbformat_minor": 5
}
